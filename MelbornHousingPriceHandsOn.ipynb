{
 "cells": [
  {
   "cell_type": "markdown",
   "id": "0280ab15-008f-498e-9820-ed8af0ab5a65",
   "metadata": {},
   "source": [
    "Apply all the Regression types of Machine Learning Algorithm to the attached Dataset.\n",
    "Like : \n",
    "Multiple Linear Regression\n",
    "KNN Regressor\n",
    "Decision Tree Regressor\n",
    "Random Forest Regressor\n",
    "Adaboost Regressor\n",
    "\n",
    "Columns  : Rooms, Price, distance, postcode, property_count\n",
    "\n",
    "Make sure to take only the Numerical Columns and ignore the categorical columns.\n",
    "\n",
    "And the price is your output column.\n",
    "\n"
   ]
  },
  {
   "cell_type": "code",
   "execution_count": 1,
   "id": "68301846-6576-430a-a986-b4afbcba7473",
   "metadata": {},
   "outputs": [],
   "source": [
    "import numpy as np\n",
    "import pandas as pd\n",
    "import matplotlib.pyplot as plt\n",
    "import os\n",
    "import seaborn as sns\n",
    "# now we will ignore the warning\n",
    "import warnings\n",
    "warnings.filterwarnings('ignore')"
   ]
  },
  {
   "cell_type": "code",
   "execution_count": 2,
   "id": "b2a91f22-fb3a-4544-8f54-45fd1876018f",
   "metadata": {},
   "outputs": [
    {
     "data": {
      "text/html": [
       "<div>\n",
       "<style scoped>\n",
       "    .dataframe tbody tr th:only-of-type {\n",
       "        vertical-align: middle;\n",
       "    }\n",
       "\n",
       "    .dataframe tbody tr th {\n",
       "        vertical-align: top;\n",
       "    }\n",
       "\n",
       "    .dataframe thead th {\n",
       "        text-align: right;\n",
       "    }\n",
       "</style>\n",
       "<table border=\"1\" class=\"dataframe\">\n",
       "  <thead>\n",
       "    <tr style=\"text-align: right;\">\n",
       "      <th></th>\n",
       "      <th>Suburb</th>\n",
       "      <th>Address</th>\n",
       "      <th>Rooms</th>\n",
       "      <th>Type</th>\n",
       "      <th>Price</th>\n",
       "      <th>Method</th>\n",
       "      <th>SellerG</th>\n",
       "      <th>Date</th>\n",
       "      <th>Distance</th>\n",
       "      <th>Postcode</th>\n",
       "      <th>...</th>\n",
       "      <th>Bathroom</th>\n",
       "      <th>Car</th>\n",
       "      <th>Landsize</th>\n",
       "      <th>BuildingArea</th>\n",
       "      <th>YearBuilt</th>\n",
       "      <th>CouncilArea</th>\n",
       "      <th>Lattitude</th>\n",
       "      <th>Longtitude</th>\n",
       "      <th>Regionname</th>\n",
       "      <th>Propertycount</th>\n",
       "    </tr>\n",
       "  </thead>\n",
       "  <tbody>\n",
       "    <tr>\n",
       "      <th>0</th>\n",
       "      <td>Abbotsford</td>\n",
       "      <td>68 Studley St</td>\n",
       "      <td>2</td>\n",
       "      <td>h</td>\n",
       "      <td>NaN</td>\n",
       "      <td>SS</td>\n",
       "      <td>Jellis</td>\n",
       "      <td>3/09/2016</td>\n",
       "      <td>2.5</td>\n",
       "      <td>3067.0</td>\n",
       "      <td>...</td>\n",
       "      <td>1.0</td>\n",
       "      <td>1.0</td>\n",
       "      <td>126.0</td>\n",
       "      <td>NaN</td>\n",
       "      <td>NaN</td>\n",
       "      <td>Yarra City Council</td>\n",
       "      <td>-37.8014</td>\n",
       "      <td>144.9958</td>\n",
       "      <td>Northern Metropolitan</td>\n",
       "      <td>4019.0</td>\n",
       "    </tr>\n",
       "    <tr>\n",
       "      <th>1</th>\n",
       "      <td>Abbotsford</td>\n",
       "      <td>85 Turner St</td>\n",
       "      <td>2</td>\n",
       "      <td>h</td>\n",
       "      <td>1480000.0</td>\n",
       "      <td>S</td>\n",
       "      <td>Biggin</td>\n",
       "      <td>3/12/2016</td>\n",
       "      <td>2.5</td>\n",
       "      <td>3067.0</td>\n",
       "      <td>...</td>\n",
       "      <td>1.0</td>\n",
       "      <td>1.0</td>\n",
       "      <td>202.0</td>\n",
       "      <td>NaN</td>\n",
       "      <td>NaN</td>\n",
       "      <td>Yarra City Council</td>\n",
       "      <td>-37.7996</td>\n",
       "      <td>144.9984</td>\n",
       "      <td>Northern Metropolitan</td>\n",
       "      <td>4019.0</td>\n",
       "    </tr>\n",
       "    <tr>\n",
       "      <th>2</th>\n",
       "      <td>Abbotsford</td>\n",
       "      <td>25 Bloomburg St</td>\n",
       "      <td>2</td>\n",
       "      <td>h</td>\n",
       "      <td>1035000.0</td>\n",
       "      <td>S</td>\n",
       "      <td>Biggin</td>\n",
       "      <td>4/02/2016</td>\n",
       "      <td>2.5</td>\n",
       "      <td>3067.0</td>\n",
       "      <td>...</td>\n",
       "      <td>1.0</td>\n",
       "      <td>0.0</td>\n",
       "      <td>156.0</td>\n",
       "      <td>79.0</td>\n",
       "      <td>1900.0</td>\n",
       "      <td>Yarra City Council</td>\n",
       "      <td>-37.8079</td>\n",
       "      <td>144.9934</td>\n",
       "      <td>Northern Metropolitan</td>\n",
       "      <td>4019.0</td>\n",
       "    </tr>\n",
       "  </tbody>\n",
       "</table>\n",
       "<p>3 rows × 21 columns</p>\n",
       "</div>"
      ],
      "text/plain": [
       "       Suburb          Address  Rooms Type      Price Method SellerG  \\\n",
       "0  Abbotsford    68 Studley St      2    h        NaN     SS  Jellis   \n",
       "1  Abbotsford     85 Turner St      2    h  1480000.0      S  Biggin   \n",
       "2  Abbotsford  25 Bloomburg St      2    h  1035000.0      S  Biggin   \n",
       "\n",
       "        Date  Distance  Postcode  ...  Bathroom  Car  Landsize  BuildingArea  \\\n",
       "0  3/09/2016       2.5    3067.0  ...       1.0  1.0     126.0           NaN   \n",
       "1  3/12/2016       2.5    3067.0  ...       1.0  1.0     202.0           NaN   \n",
       "2  4/02/2016       2.5    3067.0  ...       1.0  0.0     156.0          79.0   \n",
       "\n",
       "   YearBuilt         CouncilArea Lattitude  Longtitude             Regionname  \\\n",
       "0        NaN  Yarra City Council  -37.8014    144.9958  Northern Metropolitan   \n",
       "1        NaN  Yarra City Council  -37.7996    144.9984  Northern Metropolitan   \n",
       "2     1900.0  Yarra City Council  -37.8079    144.9934  Northern Metropolitan   \n",
       "\n",
       "  Propertycount  \n",
       "0        4019.0  \n",
       "1        4019.0  \n",
       "2        4019.0  \n",
       "\n",
       "[3 rows x 21 columns]"
      ]
     },
     "execution_count": 2,
     "metadata": {},
     "output_type": "execute_result"
    }
   ],
   "source": [
    "ds=pd.read_csv(\"/Users/yshaik/Desktop/DataScienceCourse/Melbourne_housing_FULL.csv\")\n",
    "ds.head(3)"
   ]
  },
  {
   "cell_type": "code",
   "execution_count": 3,
   "id": "aedaec9e-592f-4cd8-b450-215c7a7cc9b3",
   "metadata": {},
   "outputs": [],
   "source": [
    "ds1=ds[[\"Rooms\", \"Price\", \"Distance\", \"Postcode\", \"Propertycount\"]].copy()"
   ]
  },
  {
   "cell_type": "code",
   "execution_count": 4,
   "id": "a417f49d-d1f1-4b88-a708-b5f58645a517",
   "metadata": {},
   "outputs": [
    {
     "data": {
      "text/html": [
       "<div>\n",
       "<style scoped>\n",
       "    .dataframe tbody tr th:only-of-type {\n",
       "        vertical-align: middle;\n",
       "    }\n",
       "\n",
       "    .dataframe tbody tr th {\n",
       "        vertical-align: top;\n",
       "    }\n",
       "\n",
       "    .dataframe thead th {\n",
       "        text-align: right;\n",
       "    }\n",
       "</style>\n",
       "<table border=\"1\" class=\"dataframe\">\n",
       "  <thead>\n",
       "    <tr style=\"text-align: right;\">\n",
       "      <th></th>\n",
       "      <th>Rooms</th>\n",
       "      <th>Price</th>\n",
       "      <th>Distance</th>\n",
       "      <th>Postcode</th>\n",
       "      <th>Propertycount</th>\n",
       "    </tr>\n",
       "  </thead>\n",
       "  <tbody>\n",
       "    <tr>\n",
       "      <th>0</th>\n",
       "      <td>2</td>\n",
       "      <td>NaN</td>\n",
       "      <td>2.5</td>\n",
       "      <td>3067.0</td>\n",
       "      <td>4019.0</td>\n",
       "    </tr>\n",
       "    <tr>\n",
       "      <th>1</th>\n",
       "      <td>2</td>\n",
       "      <td>1480000.0</td>\n",
       "      <td>2.5</td>\n",
       "      <td>3067.0</td>\n",
       "      <td>4019.0</td>\n",
       "    </tr>\n",
       "    <tr>\n",
       "      <th>2</th>\n",
       "      <td>2</td>\n",
       "      <td>1035000.0</td>\n",
       "      <td>2.5</td>\n",
       "      <td>3067.0</td>\n",
       "      <td>4019.0</td>\n",
       "    </tr>\n",
       "    <tr>\n",
       "      <th>3</th>\n",
       "      <td>3</td>\n",
       "      <td>NaN</td>\n",
       "      <td>2.5</td>\n",
       "      <td>3067.0</td>\n",
       "      <td>4019.0</td>\n",
       "    </tr>\n",
       "    <tr>\n",
       "      <th>4</th>\n",
       "      <td>3</td>\n",
       "      <td>1465000.0</td>\n",
       "      <td>2.5</td>\n",
       "      <td>3067.0</td>\n",
       "      <td>4019.0</td>\n",
       "    </tr>\n",
       "  </tbody>\n",
       "</table>\n",
       "</div>"
      ],
      "text/plain": [
       "   Rooms      Price  Distance  Postcode  Propertycount\n",
       "0      2        NaN       2.5    3067.0         4019.0\n",
       "1      2  1480000.0       2.5    3067.0         4019.0\n",
       "2      2  1035000.0       2.5    3067.0         4019.0\n",
       "3      3        NaN       2.5    3067.0         4019.0\n",
       "4      3  1465000.0       2.5    3067.0         4019.0"
      ]
     },
     "execution_count": 4,
     "metadata": {},
     "output_type": "execute_result"
    }
   ],
   "source": [
    "ds1.head()"
   ]
  },
  {
   "cell_type": "code",
   "execution_count": 5,
   "id": "e7989c96-b5a7-40bb-a2c8-39279036162c",
   "metadata": {},
   "outputs": [
    {
     "data": {
      "text/html": [
       "<div>\n",
       "<style scoped>\n",
       "    .dataframe tbody tr th:only-of-type {\n",
       "        vertical-align: middle;\n",
       "    }\n",
       "\n",
       "    .dataframe tbody tr th {\n",
       "        vertical-align: top;\n",
       "    }\n",
       "\n",
       "    .dataframe thead th {\n",
       "        text-align: right;\n",
       "    }\n",
       "</style>\n",
       "<table border=\"1\" class=\"dataframe\">\n",
       "  <thead>\n",
       "    <tr style=\"text-align: right;\">\n",
       "      <th></th>\n",
       "      <th>Rooms</th>\n",
       "      <th>Price</th>\n",
       "      <th>Distance</th>\n",
       "      <th>Postcode</th>\n",
       "      <th>Propertycount</th>\n",
       "    </tr>\n",
       "  </thead>\n",
       "  <tbody>\n",
       "    <tr>\n",
       "      <th>count</th>\n",
       "      <td>34857.000000</td>\n",
       "      <td>2.724700e+04</td>\n",
       "      <td>34856.000000</td>\n",
       "      <td>34856.000000</td>\n",
       "      <td>34854.000000</td>\n",
       "    </tr>\n",
       "    <tr>\n",
       "      <th>mean</th>\n",
       "      <td>3.031012</td>\n",
       "      <td>1.050173e+06</td>\n",
       "      <td>11.184929</td>\n",
       "      <td>3116.062859</td>\n",
       "      <td>7572.888306</td>\n",
       "    </tr>\n",
       "    <tr>\n",
       "      <th>std</th>\n",
       "      <td>0.969933</td>\n",
       "      <td>6.414671e+05</td>\n",
       "      <td>6.788892</td>\n",
       "      <td>109.023903</td>\n",
       "      <td>4428.090313</td>\n",
       "    </tr>\n",
       "    <tr>\n",
       "      <th>min</th>\n",
       "      <td>1.000000</td>\n",
       "      <td>8.500000e+04</td>\n",
       "      <td>0.000000</td>\n",
       "      <td>3000.000000</td>\n",
       "      <td>83.000000</td>\n",
       "    </tr>\n",
       "    <tr>\n",
       "      <th>25%</th>\n",
       "      <td>2.000000</td>\n",
       "      <td>6.350000e+05</td>\n",
       "      <td>6.400000</td>\n",
       "      <td>3051.000000</td>\n",
       "      <td>4385.000000</td>\n",
       "    </tr>\n",
       "    <tr>\n",
       "      <th>50%</th>\n",
       "      <td>3.000000</td>\n",
       "      <td>8.700000e+05</td>\n",
       "      <td>10.300000</td>\n",
       "      <td>3103.000000</td>\n",
       "      <td>6763.000000</td>\n",
       "    </tr>\n",
       "    <tr>\n",
       "      <th>75%</th>\n",
       "      <td>4.000000</td>\n",
       "      <td>1.295000e+06</td>\n",
       "      <td>14.000000</td>\n",
       "      <td>3156.000000</td>\n",
       "      <td>10412.000000</td>\n",
       "    </tr>\n",
       "    <tr>\n",
       "      <th>max</th>\n",
       "      <td>16.000000</td>\n",
       "      <td>1.120000e+07</td>\n",
       "      <td>48.100000</td>\n",
       "      <td>3978.000000</td>\n",
       "      <td>21650.000000</td>\n",
       "    </tr>\n",
       "  </tbody>\n",
       "</table>\n",
       "</div>"
      ],
      "text/plain": [
       "              Rooms         Price      Distance      Postcode  Propertycount\n",
       "count  34857.000000  2.724700e+04  34856.000000  34856.000000   34854.000000\n",
       "mean       3.031012  1.050173e+06     11.184929   3116.062859    7572.888306\n",
       "std        0.969933  6.414671e+05      6.788892    109.023903    4428.090313\n",
       "min        1.000000  8.500000e+04      0.000000   3000.000000      83.000000\n",
       "25%        2.000000  6.350000e+05      6.400000   3051.000000    4385.000000\n",
       "50%        3.000000  8.700000e+05     10.300000   3103.000000    6763.000000\n",
       "75%        4.000000  1.295000e+06     14.000000   3156.000000   10412.000000\n",
       "max       16.000000  1.120000e+07     48.100000   3978.000000   21650.000000"
      ]
     },
     "execution_count": 5,
     "metadata": {},
     "output_type": "execute_result"
    }
   ],
   "source": [
    "ds1.describe()"
   ]
  },
  {
   "cell_type": "code",
   "execution_count": 6,
   "id": "f5d84c1f-3b02-49ca-b975-19cc4d4e54d1",
   "metadata": {},
   "outputs": [
    {
     "data": {
      "text/plain": [
       "(34857, 5)"
      ]
     },
     "execution_count": 6,
     "metadata": {},
     "output_type": "execute_result"
    }
   ],
   "source": [
    "ds1.shape"
   ]
  },
  {
   "cell_type": "code",
   "execution_count": 7,
   "id": "0d5518a9-1337-4be4-b75d-512d1362d963",
   "metadata": {},
   "outputs": [
    {
     "data": {
      "text/plain": [
       "Rooms               0\n",
       "Price            7610\n",
       "Distance            1\n",
       "Postcode            1\n",
       "Propertycount       3\n",
       "dtype: int64"
      ]
     },
     "execution_count": 7,
     "metadata": {},
     "output_type": "execute_result"
    }
   ],
   "source": [
    "ds1.isnull().sum()"
   ]
  },
  {
   "cell_type": "code",
   "execution_count": 8,
   "id": "32c30d4f-5741-4132-a7b7-dd57df6869a5",
   "metadata": {},
   "outputs": [
    {
     "data": {
      "text/html": [
       "<div>\n",
       "<style scoped>\n",
       "    .dataframe tbody tr th:only-of-type {\n",
       "        vertical-align: middle;\n",
       "    }\n",
       "\n",
       "    .dataframe tbody tr th {\n",
       "        vertical-align: top;\n",
       "    }\n",
       "\n",
       "    .dataframe thead th {\n",
       "        text-align: right;\n",
       "    }\n",
       "</style>\n",
       "<table border=\"1\" class=\"dataframe\">\n",
       "  <thead>\n",
       "    <tr style=\"text-align: right;\">\n",
       "      <th></th>\n",
       "      <th>Rooms</th>\n",
       "      <th>Price</th>\n",
       "      <th>Distance</th>\n",
       "      <th>Postcode</th>\n",
       "      <th>Propertycount</th>\n",
       "    </tr>\n",
       "  </thead>\n",
       "  <tbody>\n",
       "    <tr>\n",
       "      <th>15114</th>\n",
       "      <td>2</td>\n",
       "      <td>NaN</td>\n",
       "      <td>0.0</td>\n",
       "      <td>3000.0</td>\n",
       "      <td>17496.0</td>\n",
       "    </tr>\n",
       "    <tr>\n",
       "      <th>15115</th>\n",
       "      <td>2</td>\n",
       "      <td>850000.0</td>\n",
       "      <td>0.0</td>\n",
       "      <td>3000.0</td>\n",
       "      <td>17496.0</td>\n",
       "    </tr>\n",
       "    <tr>\n",
       "      <th>15774</th>\n",
       "      <td>2</td>\n",
       "      <td>740000.0</td>\n",
       "      <td>0.0</td>\n",
       "      <td>3000.0</td>\n",
       "      <td>17496.0</td>\n",
       "    </tr>\n",
       "    <tr>\n",
       "      <th>15775</th>\n",
       "      <td>1</td>\n",
       "      <td>NaN</td>\n",
       "      <td>0.0</td>\n",
       "      <td>3000.0</td>\n",
       "      <td>17496.0</td>\n",
       "    </tr>\n",
       "    <tr>\n",
       "      <th>15776</th>\n",
       "      <td>2</td>\n",
       "      <td>820000.0</td>\n",
       "      <td>0.0</td>\n",
       "      <td>3000.0</td>\n",
       "      <td>17496.0</td>\n",
       "    </tr>\n",
       "    <tr>\n",
       "      <th>...</th>\n",
       "      <td>...</td>\n",
       "      <td>...</td>\n",
       "      <td>...</td>\n",
       "      <td>...</td>\n",
       "      <td>...</td>\n",
       "    </tr>\n",
       "    <tr>\n",
       "      <th>33516</th>\n",
       "      <td>1</td>\n",
       "      <td>415000.0</td>\n",
       "      <td>0.0</td>\n",
       "      <td>3000.0</td>\n",
       "      <td>17496.0</td>\n",
       "    </tr>\n",
       "    <tr>\n",
       "      <th>33517</th>\n",
       "      <td>2</td>\n",
       "      <td>1260000.0</td>\n",
       "      <td>0.0</td>\n",
       "      <td>3000.0</td>\n",
       "      <td>17496.0</td>\n",
       "    </tr>\n",
       "    <tr>\n",
       "      <th>33518</th>\n",
       "      <td>2</td>\n",
       "      <td>650000.0</td>\n",
       "      <td>0.0</td>\n",
       "      <td>3000.0</td>\n",
       "      <td>17496.0</td>\n",
       "    </tr>\n",
       "    <tr>\n",
       "      <th>34471</th>\n",
       "      <td>2</td>\n",
       "      <td>NaN</td>\n",
       "      <td>0.0</td>\n",
       "      <td>3000.0</td>\n",
       "      <td>17496.0</td>\n",
       "    </tr>\n",
       "    <tr>\n",
       "      <th>34472</th>\n",
       "      <td>2</td>\n",
       "      <td>780000.0</td>\n",
       "      <td>0.0</td>\n",
       "      <td>3000.0</td>\n",
       "      <td>17496.0</td>\n",
       "    </tr>\n",
       "  </tbody>\n",
       "</table>\n",
       "<p>77 rows × 5 columns</p>\n",
       "</div>"
      ],
      "text/plain": [
       "       Rooms      Price  Distance  Postcode  Propertycount\n",
       "15114      2        NaN       0.0    3000.0        17496.0\n",
       "15115      2   850000.0       0.0    3000.0        17496.0\n",
       "15774      2   740000.0       0.0    3000.0        17496.0\n",
       "15775      1        NaN       0.0    3000.0        17496.0\n",
       "15776      2   820000.0       0.0    3000.0        17496.0\n",
       "...      ...        ...       ...       ...            ...\n",
       "33516      1   415000.0       0.0    3000.0        17496.0\n",
       "33517      2  1260000.0       0.0    3000.0        17496.0\n",
       "33518      2   650000.0       0.0    3000.0        17496.0\n",
       "34471      2        NaN       0.0    3000.0        17496.0\n",
       "34472      2   780000.0       0.0    3000.0        17496.0\n",
       "\n",
       "[77 rows x 5 columns]"
      ]
     },
     "execution_count": 8,
     "metadata": {},
     "output_type": "execute_result"
    }
   ],
   "source": [
    "ds1[ds1[\"Distance\"]==ds1[\"Distance\"].isnull()]"
   ]
  },
  {
   "cell_type": "markdown",
   "id": "5b456d95-f55e-480b-85ab-1a457ff15353",
   "metadata": {},
   "source": [
    "#### Null values Treatment"
   ]
  },
  {
   "cell_type": "markdown",
   "id": "5823f06f-492b-4252-967d-867f3e4c1683",
   "metadata": {},
   "source": [
    "\n",
    "'''\n",
    "#ds1[\"Price\"].fillna(ds1[\"Price\"].mean(),inplace=True)\n",
    "ds1[\"Distance\"].fillna(ds1[\"Distance\"].ffill(),inplace=True)\n",
    "ds1[\"Postcode\"].fillna(ds1[\"Postcode\"].ffill(),inplace=True)\n",
    "ds1[\"Propertycount\"].fillna(ds1[\"Propertycount\"].ffill(),inplace=True)\n",
    "\n",
    "\n",
    "\n",
    "ds1.isnull().sum()\n",
    "\n",
    "\n",
    "ds1[\"Distance\"].ffill()\n",
    "'''\n",
    "# we can even impute the null values using KNN imputer as follows\n",
    "from sklearn.impute import KNNImputer\n",
    "\n",
    "impute_it=KNNImputer()\n",
    "\n",
    "impute_it.fit_transformn(data_set)"
   ]
  },
  {
   "cell_type": "code",
   "execution_count": 9,
   "id": "ac63dec9-3f90-4615-b952-4d2d3f64e1ea",
   "metadata": {},
   "outputs": [
    {
     "data": {
      "text/html": [
       "<div>\n",
       "<style scoped>\n",
       "    .dataframe tbody tr th:only-of-type {\n",
       "        vertical-align: middle;\n",
       "    }\n",
       "\n",
       "    .dataframe tbody tr th {\n",
       "        vertical-align: top;\n",
       "    }\n",
       "\n",
       "    .dataframe thead th {\n",
       "        text-align: right;\n",
       "    }\n",
       "</style>\n",
       "<table border=\"1\" class=\"dataframe\">\n",
       "  <thead>\n",
       "    <tr style=\"text-align: right;\">\n",
       "      <th></th>\n",
       "      <th>Rooms</th>\n",
       "      <th>Price</th>\n",
       "      <th>Distance</th>\n",
       "      <th>Postcode</th>\n",
       "      <th>Propertycount</th>\n",
       "    </tr>\n",
       "  </thead>\n",
       "  <tbody>\n",
       "    <tr>\n",
       "      <th>0</th>\n",
       "      <td>2</td>\n",
       "      <td>NaN</td>\n",
       "      <td>2.5</td>\n",
       "      <td>3067.0</td>\n",
       "      <td>4019.0</td>\n",
       "    </tr>\n",
       "    <tr>\n",
       "      <th>1</th>\n",
       "      <td>2</td>\n",
       "      <td>1480000.0</td>\n",
       "      <td>2.5</td>\n",
       "      <td>3067.0</td>\n",
       "      <td>4019.0</td>\n",
       "    </tr>\n",
       "    <tr>\n",
       "      <th>2</th>\n",
       "      <td>2</td>\n",
       "      <td>1035000.0</td>\n",
       "      <td>2.5</td>\n",
       "      <td>3067.0</td>\n",
       "      <td>4019.0</td>\n",
       "    </tr>\n",
       "    <tr>\n",
       "      <th>3</th>\n",
       "      <td>3</td>\n",
       "      <td>NaN</td>\n",
       "      <td>2.5</td>\n",
       "      <td>3067.0</td>\n",
       "      <td>4019.0</td>\n",
       "    </tr>\n",
       "    <tr>\n",
       "      <th>4</th>\n",
       "      <td>3</td>\n",
       "      <td>1465000.0</td>\n",
       "      <td>2.5</td>\n",
       "      <td>3067.0</td>\n",
       "      <td>4019.0</td>\n",
       "    </tr>\n",
       "  </tbody>\n",
       "</table>\n",
       "</div>"
      ],
      "text/plain": [
       "   Rooms      Price  Distance  Postcode  Propertycount\n",
       "0      2        NaN       2.5    3067.0         4019.0\n",
       "1      2  1480000.0       2.5    3067.0         4019.0\n",
       "2      2  1035000.0       2.5    3067.0         4019.0\n",
       "3      3        NaN       2.5    3067.0         4019.0\n",
       "4      3  1465000.0       2.5    3067.0         4019.0"
      ]
     },
     "execution_count": 9,
     "metadata": {},
     "output_type": "execute_result"
    }
   ],
   "source": [
    "ds1.head()"
   ]
  },
  {
   "cell_type": "code",
   "execution_count": 10,
   "id": "98d2b409-3148-4d0d-8518-77c4e512af13",
   "metadata": {},
   "outputs": [
    {
     "data": {
      "text/html": [
       "<div>\n",
       "<style scoped>\n",
       "    .dataframe tbody tr th:only-of-type {\n",
       "        vertical-align: middle;\n",
       "    }\n",
       "\n",
       "    .dataframe tbody tr th {\n",
       "        vertical-align: top;\n",
       "    }\n",
       "\n",
       "    .dataframe thead th {\n",
       "        text-align: right;\n",
       "    }\n",
       "</style>\n",
       "<table border=\"1\" class=\"dataframe\">\n",
       "  <thead>\n",
       "    <tr style=\"text-align: right;\">\n",
       "      <th></th>\n",
       "      <th>Rooms</th>\n",
       "      <th>Price</th>\n",
       "      <th>Distance</th>\n",
       "      <th>Postcode</th>\n",
       "      <th>Propertycount</th>\n",
       "    </tr>\n",
       "  </thead>\n",
       "  <tbody>\n",
       "    <tr>\n",
       "      <th>0</th>\n",
       "      <td>2.0</td>\n",
       "      <td>1.021950e+06</td>\n",
       "      <td>2.5</td>\n",
       "      <td>3067.0</td>\n",
       "      <td>4019.0</td>\n",
       "    </tr>\n",
       "    <tr>\n",
       "      <th>1</th>\n",
       "      <td>2.0</td>\n",
       "      <td>1.480000e+06</td>\n",
       "      <td>2.5</td>\n",
       "      <td>3067.0</td>\n",
       "      <td>4019.0</td>\n",
       "    </tr>\n",
       "    <tr>\n",
       "      <th>2</th>\n",
       "      <td>2.0</td>\n",
       "      <td>1.035000e+06</td>\n",
       "      <td>2.5</td>\n",
       "      <td>3067.0</td>\n",
       "      <td>4019.0</td>\n",
       "    </tr>\n",
       "    <tr>\n",
       "      <th>3</th>\n",
       "      <td>3.0</td>\n",
       "      <td>1.414468e+06</td>\n",
       "      <td>2.5</td>\n",
       "      <td>3067.0</td>\n",
       "      <td>4019.0</td>\n",
       "    </tr>\n",
       "    <tr>\n",
       "      <th>4</th>\n",
       "      <td>3.0</td>\n",
       "      <td>1.465000e+06</td>\n",
       "      <td>2.5</td>\n",
       "      <td>3067.0</td>\n",
       "      <td>4019.0</td>\n",
       "    </tr>\n",
       "  </tbody>\n",
       "</table>\n",
       "</div>"
      ],
      "text/plain": [
       "   Rooms         Price  Distance  Postcode  Propertycount\n",
       "0    2.0  1.021950e+06       2.5    3067.0         4019.0\n",
       "1    2.0  1.480000e+06       2.5    3067.0         4019.0\n",
       "2    2.0  1.035000e+06       2.5    3067.0         4019.0\n",
       "3    3.0  1.414468e+06       2.5    3067.0         4019.0\n",
       "4    3.0  1.465000e+06       2.5    3067.0         4019.0"
      ]
     },
     "execution_count": 10,
     "metadata": {},
     "output_type": "execute_result"
    }
   ],
   "source": [
    "from sklearn.experimental import enable_iterative_imputer\n",
    "from sklearn.impute import IterativeImputer\n",
    "\n",
    "impute_it=IterativeImputer()\n",
    "dsn=pd.DataFrame(impute_it.fit_transform(ds1),columns=[\"Rooms\",\"Price\",\"Distance\",\"Postcode\",\"Propertycount\"])\n",
    "dsn.head()"
   ]
  },
  {
   "cell_type": "code",
   "execution_count": 11,
   "id": "8cb7cacd-2ff7-4937-8c54-fcd6ae6b89eb",
   "metadata": {},
   "outputs": [
    {
     "data": {
      "text/plain": [
       "Rooms            0\n",
       "Price            0\n",
       "Distance         0\n",
       "Postcode         0\n",
       "Propertycount    0\n",
       "dtype: int64"
      ]
     },
     "execution_count": 11,
     "metadata": {},
     "output_type": "execute_result"
    }
   ],
   "source": [
    "dsn.isnull().sum()"
   ]
  },
  {
   "cell_type": "code",
   "execution_count": 12,
   "id": "b75bcf8a-081d-4359-b2e5-31a6ec81693b",
   "metadata": {},
   "outputs": [],
   "source": [
    "def univariate_num(data,x, bxplot=True, hist_graph=True):\n",
    "    minn=data[x].min()\n",
    "    maxx=data[x].max()\n",
    "    stdd=data[x].std()\n",
    "    meann=data[x].mean()\n",
    "    q1=data[x].quantile(.25)\n",
    "    q2=data[x].quantile(.5)\n",
    "    q3=data[x].quantile(.75)\n",
    "    iqr=q3-q1\n",
    "    skewness=data[x].skew()\n",
    "    \n",
    "    if bxplot==True:\n",
    "        sns.boxplot(y=data[x])\n",
    "        plt.show()\n",
    "    if hist_graph==True:\n",
    "        sns.histplot(data=data, x=x)\n",
    "        plt.show()\n",
    "    result={\"missing_value\":data[x].isnull().sum(), \n",
    "           \"min\":minn,\n",
    "           \"max\":maxx,\n",
    "           \"std\":round(stdd, 2),\n",
    "           \"mean\":round(meann, 2),\n",
    "           \"q1\":round(q1,2),\"q2\":round(q2, 2), \n",
    "            \"q3\":round(q3,2), \"iqr\":round(iqr,2),\"skewness\":round(skewness,2)}\n",
    "    return result"
   ]
  },
  {
   "cell_type": "code",
   "execution_count": 13,
   "id": "ceda0713-f2eb-4d65-8021-fcad282d828a",
   "metadata": {},
   "outputs": [
    {
     "data": {
      "image/png": "[encoded data removed]",
      "text/plain": [
       "<Figure size 640x480 with 1 Axes>"
      ]
     },
     "metadata": {},
     "output_type": "display_data"
    },
    {
     "data": {
      "image/png": "[encoded data removed]",
      "text/plain": [
       "<Figure size 640x480 with 1 Axes>"
      ]
     },
     "metadata": {},
     "output_type": "display_data"
    },
    {
     "data": {
      "text/plain": [
       "{'missing_value': 0,\n",
       " 'min': 1.0,\n",
       " 'max': 16.0,\n",
       " 'std': 0.97,\n",
       " 'mean': 3.03,\n",
       " 'q1': 2.0,\n",
       " 'q2': 3.0,\n",
       " 'q3': 4.0,\n",
       " 'iqr': 2.0,\n",
       " 'skewness': 0.5}"
      ]
     },
     "execution_count": 13,
     "metadata": {},
     "output_type": "execute_result"
    }
   ],
   "source": [
    "univariate_num(dsn,x=\"Rooms\",bxplot=True, hist_graph=True)"
   ]
  },
  {
   "cell_type": "code",
   "execution_count": 14,
   "id": "594a33a0-a1e2-4ad1-b153-9f40089a2903",
   "metadata": {},
   "outputs": [
    {
     "data": {
      "image/png": "[encoded data removed]",
      "text/plain": [
       "<Figure size 640x480 with 1 Axes>"
      ]
     },
     "metadata": {},
     "output_type": "display_data"
    },
    {
     "data": {
      "image/png": "[encoded data removed]",
      "text/plain": [
       "<Figure size 640x480 with 1 Axes>"
      ]
     },
     "metadata": {},
     "output_type": "display_data"
    },
    {
     "data": {
      "text/plain": [
       "{'missing_value': 0,\n",
       " 'min': -905426.492837647,\n",
       " 'max': 11200000.0,\n",
       " 'std': 603655.31,\n",
       " 'mean': 1072972.76,\n",
       " 'q1': 666000.0,\n",
       " 'q2': 937000.0,\n",
       " 'q3': 1333861.77,\n",
       " 'iqr': 667861.77,\n",
       " 'skewness': 2.4}"
      ]
     },
     "execution_count": 14,
     "metadata": {},
     "output_type": "execute_result"
    }
   ],
   "source": [
    "univariate_num(dsn,x=\"Price\",bxplot=True, hist_graph=True)"
   ]
  },
  {
   "cell_type": "markdown",
   "id": "ecb634b2-400d-41ea-aea7-99636457b9db",
   "metadata": {},
   "source": [
    "########Outlier Treatment########################"
   ]
  },
  {
   "cell_type": "code",
   "execution_count": 15,
   "id": "7788207a-39dc-4c56-ab1d-3a89c93b5f91",
   "metadata": {},
   "outputs": [
    {
     "data": {
      "text/html": [
       "<div>\n",
       "<style scoped>\n",
       "    .dataframe tbody tr th:only-of-type {\n",
       "        vertical-align: middle;\n",
       "    }\n",
       "\n",
       "    .dataframe tbody tr th {\n",
       "        vertical-align: top;\n",
       "    }\n",
       "\n",
       "    .dataframe thead th {\n",
       "        text-align: right;\n",
       "    }\n",
       "</style>\n",
       "<table border=\"1\" class=\"dataframe\">\n",
       "  <thead>\n",
       "    <tr style=\"text-align: right;\">\n",
       "      <th></th>\n",
       "      <th>count</th>\n",
       "      <th>mean</th>\n",
       "      <th>std</th>\n",
       "      <th>min</th>\n",
       "      <th>0%</th>\n",
       "      <th>0.1%</th>\n",
       "      <th>0.2%</th>\n",
       "      <th>1%</th>\n",
       "      <th>2%</th>\n",
       "      <th>3%</th>\n",
       "      <th>...</th>\n",
       "      <th>25%</th>\n",
       "      <th>50%</th>\n",
       "      <th>75%</th>\n",
       "      <th>90%</th>\n",
       "      <th>95%</th>\n",
       "      <th>96%</th>\n",
       "      <th>97%</th>\n",
       "      <th>98%</th>\n",
       "      <th>99%</th>\n",
       "      <th>max</th>\n",
       "    </tr>\n",
       "  </thead>\n",
       "  <tbody>\n",
       "    <tr>\n",
       "      <th>Rooms</th>\n",
       "      <td>34857.0</td>\n",
       "      <td>3.031012e+00</td>\n",
       "      <td>0.969933</td>\n",
       "      <td>1.0</td>\n",
       "      <td>1.0</td>\n",
       "      <td>1.0</td>\n",
       "      <td>1.0</td>\n",
       "      <td>1.00</td>\n",
       "      <td>1.00</td>\n",
       "      <td>1.0</td>\n",
       "      <td>...</td>\n",
       "      <td>2.0</td>\n",
       "      <td>3.0</td>\n",
       "      <td>4.0</td>\n",
       "      <td>4.0</td>\n",
       "      <td>5.0</td>\n",
       "      <td>5.0</td>\n",
       "      <td>5.0</td>\n",
       "      <td>5.0</td>\n",
       "      <td>5.0</td>\n",
       "      <td>16.0</td>\n",
       "    </tr>\n",
       "    <tr>\n",
       "      <th>Price</th>\n",
       "      <td>27247.0</td>\n",
       "      <td>1.050173e+06</td>\n",
       "      <td>641467.130105</td>\n",
       "      <td>85000.0</td>\n",
       "      <td>85000.0</td>\n",
       "      <td>223230.0</td>\n",
       "      <td>250000.0</td>\n",
       "      <td>310000.00</td>\n",
       "      <td>349000.00</td>\n",
       "      <td>373500.0</td>\n",
       "      <td>...</td>\n",
       "      <td>635000.0</td>\n",
       "      <td>870000.0</td>\n",
       "      <td>1295000.0</td>\n",
       "      <td>1800000.0</td>\n",
       "      <td>2250000.0</td>\n",
       "      <td>2390000.0</td>\n",
       "      <td>2600000.0</td>\n",
       "      <td>2857240.0</td>\n",
       "      <td>3400540.0</td>\n",
       "      <td>11200000.0</td>\n",
       "    </tr>\n",
       "    <tr>\n",
       "      <th>Distance</th>\n",
       "      <td>34856.0</td>\n",
       "      <td>1.118493e+01</td>\n",
       "      <td>6.788892</td>\n",
       "      <td>0.0</td>\n",
       "      <td>0.0</td>\n",
       "      <td>0.0</td>\n",
       "      <td>0.0</td>\n",
       "      <td>1.60</td>\n",
       "      <td>1.90</td>\n",
       "      <td>2.4</td>\n",
       "      <td>...</td>\n",
       "      <td>6.4</td>\n",
       "      <td>10.3</td>\n",
       "      <td>14.0</td>\n",
       "      <td>19.9</td>\n",
       "      <td>24.7</td>\n",
       "      <td>25.9</td>\n",
       "      <td>27.2</td>\n",
       "      <td>31.7</td>\n",
       "      <td>35.4</td>\n",
       "      <td>48.1</td>\n",
       "    </tr>\n",
       "    <tr>\n",
       "      <th>Postcode</th>\n",
       "      <td>34856.0</td>\n",
       "      <td>3.116063e+03</td>\n",
       "      <td>109.023903</td>\n",
       "      <td>3000.0</td>\n",
       "      <td>3000.0</td>\n",
       "      <td>3000.0</td>\n",
       "      <td>3000.0</td>\n",
       "      <td>3006.00</td>\n",
       "      <td>3011.00</td>\n",
       "      <td>3012.0</td>\n",
       "      <td>...</td>\n",
       "      <td>3051.0</td>\n",
       "      <td>3103.0</td>\n",
       "      <td>3156.0</td>\n",
       "      <td>3190.0</td>\n",
       "      <td>3204.0</td>\n",
       "      <td>3206.0</td>\n",
       "      <td>3207.0</td>\n",
       "      <td>3429.0</td>\n",
       "      <td>3754.0</td>\n",
       "      <td>3978.0</td>\n",
       "    </tr>\n",
       "    <tr>\n",
       "      <th>Propertycount</th>\n",
       "      <td>34854.0</td>\n",
       "      <td>7.572888e+03</td>\n",
       "      <td>4428.090313</td>\n",
       "      <td>83.0</td>\n",
       "      <td>83.0</td>\n",
       "      <td>394.0</td>\n",
       "      <td>534.0</td>\n",
       "      <td>881.19</td>\n",
       "      <td>1158.12</td>\n",
       "      <td>1490.0</td>\n",
       "      <td>...</td>\n",
       "      <td>4385.0</td>\n",
       "      <td>6763.0</td>\n",
       "      <td>10412.0</td>\n",
       "      <td>14577.0</td>\n",
       "      <td>15510.0</td>\n",
       "      <td>16166.0</td>\n",
       "      <td>17496.0</td>\n",
       "      <td>21650.0</td>\n",
       "      <td>21650.0</td>\n",
       "      <td>21650.0</td>\n",
       "    </tr>\n",
       "  </tbody>\n",
       "</table>\n",
       "<p>5 rows × 23 columns</p>\n",
       "</div>"
      ],
      "text/plain": [
       "                 count          mean            std      min       0%  \\\n",
       "Rooms          34857.0  3.031012e+00       0.969933      1.0      1.0   \n",
       "Price          27247.0  1.050173e+06  641467.130105  85000.0  85000.0   \n",
       "Distance       34856.0  1.118493e+01       6.788892      0.0      0.0   \n",
       "Postcode       34856.0  3.116063e+03     109.023903   3000.0   3000.0   \n",
       "Propertycount  34854.0  7.572888e+03    4428.090313     83.0     83.0   \n",
       "\n",
       "                   0.1%      0.2%         1%         2%        3%  ...  \\\n",
       "Rooms               1.0       1.0       1.00       1.00       1.0  ...   \n",
       "Price          223230.0  250000.0  310000.00  349000.00  373500.0  ...   \n",
       "Distance            0.0       0.0       1.60       1.90       2.4  ...   \n",
       "Postcode         3000.0    3000.0    3006.00    3011.00    3012.0  ...   \n",
       "Propertycount     394.0     534.0     881.19    1158.12    1490.0  ...   \n",
       "\n",
       "                    25%       50%        75%        90%        95%        96%  \\\n",
       "Rooms               2.0       3.0        4.0        4.0        5.0        5.0   \n",
       "Price          635000.0  870000.0  1295000.0  1800000.0  2250000.0  2390000.0   \n",
       "Distance            6.4      10.3       14.0       19.9       24.7       25.9   \n",
       "Postcode         3051.0    3103.0     3156.0     3190.0     3204.0     3206.0   \n",
       "Propertycount    4385.0    6763.0    10412.0    14577.0    15510.0    16166.0   \n",
       "\n",
       "                     97%        98%        99%         max  \n",
       "Rooms                5.0        5.0        5.0        16.0  \n",
       "Price          2600000.0  2857240.0  3400540.0  11200000.0  \n",
       "Distance            27.2       31.7       35.4        48.1  \n",
       "Postcode          3207.0     3429.0     3754.0      3978.0  \n",
       "Propertycount    17496.0    21650.0    21650.0     21650.0  \n",
       "\n",
       "[5 rows x 23 columns]"
      ]
     },
     "execution_count": 15,
     "metadata": {},
     "output_type": "execute_result"
    }
   ],
   "source": [
    "ds1.describe(percentiles=[0,.001,.002,.01,.02,.03,.04,.05,.1,.25,.5,.75,.9, .95,.96,.97,.98,.99]).T"
   ]
  },
  {
   "cell_type": "code",
   "execution_count": 18,
   "id": "2ccb99db-804d-409d-8b51-8ee52489f6af",
   "metadata": {},
   "outputs": [
    {
     "data": {
      "text/plain": [
       "<AxesSubplot:xlabel='Price', ylabel='Count'>"
      ]
     },
     "execution_count": 18,
     "metadata": {},
     "output_type": "execute_result"
    },
    {
     "data": {
      "image/png": "[encoded data removed]",
      "text/plain": [
       "<Figure size 640x480 with 1 Axes>"
      ]
     },
     "metadata": {},
     "output_type": "display_data"
    }
   ],
   "source": [
    "sns.histplot(dsn[\"Price\"])"
   ]
  },
  {
   "cell_type": "code",
   "execution_count": 20,
   "id": "74def6a7-4aaa-4ea3-8edb-667876564f17",
   "metadata": {},
   "outputs": [
    {
     "data": {
      "text/html": [
       "<div>\n",
       "<style scoped>\n",
       "    .dataframe tbody tr th:only-of-type {\n",
       "        vertical-align: middle;\n",
       "    }\n",
       "\n",
       "    .dataframe tbody tr th {\n",
       "        vertical-align: top;\n",
       "    }\n",
       "\n",
       "    .dataframe thead th {\n",
       "        text-align: right;\n",
       "    }\n",
       "</style>\n",
       "<table border=\"1\" class=\"dataframe\">\n",
       "  <thead>\n",
       "    <tr style=\"text-align: right;\">\n",
       "      <th></th>\n",
       "      <th>count</th>\n",
       "      <th>mean</th>\n",
       "      <th>std</th>\n",
       "      <th>min</th>\n",
       "      <th>0%</th>\n",
       "      <th>0.1%</th>\n",
       "      <th>0.2%</th>\n",
       "      <th>1%</th>\n",
       "      <th>2%</th>\n",
       "      <th>3%</th>\n",
       "      <th>...</th>\n",
       "      <th>25%</th>\n",
       "      <th>50%</th>\n",
       "      <th>75%</th>\n",
       "      <th>90%</th>\n",
       "      <th>95%</th>\n",
       "      <th>96%</th>\n",
       "      <th>97%</th>\n",
       "      <th>98%</th>\n",
       "      <th>99%</th>\n",
       "      <th>max</th>\n",
       "    </tr>\n",
       "  </thead>\n",
       "  <tbody>\n",
       "    <tr>\n",
       "      <th>Rooms</th>\n",
       "      <td>34857.0</td>\n",
       "      <td>3.031012e+00</td>\n",
       "      <td>0.969933</td>\n",
       "      <td>1.000000</td>\n",
       "      <td>1.000000</td>\n",
       "      <td>1.000000</td>\n",
       "      <td>1.000000</td>\n",
       "      <td>1.00</td>\n",
       "      <td>1.00</td>\n",
       "      <td>1.0</td>\n",
       "      <td>...</td>\n",
       "      <td>2.0</td>\n",
       "      <td>3.0</td>\n",
       "      <td>4.000000e+00</td>\n",
       "      <td>4.0</td>\n",
       "      <td>5.0</td>\n",
       "      <td>5.0</td>\n",
       "      <td>5.0</td>\n",
       "      <td>5.0</td>\n",
       "      <td>5.0</td>\n",
       "      <td>16.0</td>\n",
       "    </tr>\n",
       "    <tr>\n",
       "      <th>Price</th>\n",
       "      <td>34857.0</td>\n",
       "      <td>1.072973e+06</td>\n",
       "      <td>603655.311173</td>\n",
       "      <td>-905426.492838</td>\n",
       "      <td>-905426.492838</td>\n",
       "      <td>-81235.823689</td>\n",
       "      <td>123304.442526</td>\n",
       "      <td>300000.00</td>\n",
       "      <td>345000.00</td>\n",
       "      <td>375000.0</td>\n",
       "      <td>...</td>\n",
       "      <td>666000.0</td>\n",
       "      <td>937000.0</td>\n",
       "      <td>1.333862e+06</td>\n",
       "      <td>1755000.0</td>\n",
       "      <td>2110000.0</td>\n",
       "      <td>2250000.0</td>\n",
       "      <td>2425000.0</td>\n",
       "      <td>2720000.0</td>\n",
       "      <td>3230000.0</td>\n",
       "      <td>11200000.0</td>\n",
       "    </tr>\n",
       "    <tr>\n",
       "      <th>Distance</th>\n",
       "      <td>34857.0</td>\n",
       "      <td>1.118500e+01</td>\n",
       "      <td>6.788808</td>\n",
       "      <td>0.000000</td>\n",
       "      <td>0.000000</td>\n",
       "      <td>0.000000</td>\n",
       "      <td>0.000000</td>\n",
       "      <td>1.60</td>\n",
       "      <td>1.90</td>\n",
       "      <td>2.4</td>\n",
       "      <td>...</td>\n",
       "      <td>6.4</td>\n",
       "      <td>10.3</td>\n",
       "      <td>1.400000e+01</td>\n",
       "      <td>19.9</td>\n",
       "      <td>24.7</td>\n",
       "      <td>25.9</td>\n",
       "      <td>27.2</td>\n",
       "      <td>31.7</td>\n",
       "      <td>35.4</td>\n",
       "      <td>48.1</td>\n",
       "    </tr>\n",
       "    <tr>\n",
       "      <th>Postcode</th>\n",
       "      <td>34857.0</td>\n",
       "      <td>3.116063e+03</td>\n",
       "      <td>109.022339</td>\n",
       "      <td>3000.000000</td>\n",
       "      <td>3000.000000</td>\n",
       "      <td>3000.000000</td>\n",
       "      <td>3000.000000</td>\n",
       "      <td>3006.00</td>\n",
       "      <td>3011.00</td>\n",
       "      <td>3012.0</td>\n",
       "      <td>...</td>\n",
       "      <td>3051.0</td>\n",
       "      <td>3103.0</td>\n",
       "      <td>3.156000e+03</td>\n",
       "      <td>3190.0</td>\n",
       "      <td>3204.0</td>\n",
       "      <td>3206.0</td>\n",
       "      <td>3207.0</td>\n",
       "      <td>3429.0</td>\n",
       "      <td>3754.0</td>\n",
       "      <td>3978.0</td>\n",
       "    </tr>\n",
       "    <tr>\n",
       "      <th>Propertycount</th>\n",
       "      <td>34857.0</td>\n",
       "      <td>7.572911e+03</td>\n",
       "      <td>4427.900497</td>\n",
       "      <td>83.000000</td>\n",
       "      <td>83.000000</td>\n",
       "      <td>394.000000</td>\n",
       "      <td>534.000000</td>\n",
       "      <td>881.88</td>\n",
       "      <td>1158.24</td>\n",
       "      <td>1490.0</td>\n",
       "      <td>...</td>\n",
       "      <td>4385.0</td>\n",
       "      <td>6763.0</td>\n",
       "      <td>1.041200e+04</td>\n",
       "      <td>14577.0</td>\n",
       "      <td>15510.0</td>\n",
       "      <td>16166.0</td>\n",
       "      <td>17496.0</td>\n",
       "      <td>21650.0</td>\n",
       "      <td>21650.0</td>\n",
       "      <td>21650.0</td>\n",
       "    </tr>\n",
       "  </tbody>\n",
       "</table>\n",
       "<p>5 rows × 23 columns</p>\n",
       "</div>"
      ],
      "text/plain": [
       "                 count          mean            std            min  \\\n",
       "Rooms          34857.0  3.031012e+00       0.969933       1.000000   \n",
       "Price          34857.0  1.072973e+06  603655.311173 -905426.492838   \n",
       "Distance       34857.0  1.118500e+01       6.788808       0.000000   \n",
       "Postcode       34857.0  3.116063e+03     109.022339    3000.000000   \n",
       "Propertycount  34857.0  7.572911e+03    4427.900497      83.000000   \n",
       "\n",
       "                          0%          0.1%           0.2%         1%  \\\n",
       "Rooms               1.000000      1.000000       1.000000       1.00   \n",
       "Price         -905426.492838 -81235.823689  123304.442526  300000.00   \n",
       "Distance            0.000000      0.000000       0.000000       1.60   \n",
       "Postcode         3000.000000   3000.000000    3000.000000    3006.00   \n",
       "Propertycount      83.000000    394.000000     534.000000     881.88   \n",
       "\n",
       "                      2%        3%  ...       25%       50%           75%  \\\n",
       "Rooms               1.00       1.0  ...       2.0       3.0  4.000000e+00   \n",
       "Price          345000.00  375000.0  ...  666000.0  937000.0  1.333862e+06   \n",
       "Distance            1.90       2.4  ...       6.4      10.3  1.400000e+01   \n",
       "Postcode         3011.00    3012.0  ...    3051.0    3103.0  3.156000e+03   \n",
       "Propertycount    1158.24    1490.0  ...    4385.0    6763.0  1.041200e+04   \n",
       "\n",
       "                     90%        95%        96%        97%        98%  \\\n",
       "Rooms                4.0        5.0        5.0        5.0        5.0   \n",
       "Price          1755000.0  2110000.0  2250000.0  2425000.0  2720000.0   \n",
       "Distance            19.9       24.7       25.9       27.2       31.7   \n",
       "Postcode          3190.0     3204.0     3206.0     3207.0     3429.0   \n",
       "Propertycount    14577.0    15510.0    16166.0    17496.0    21650.0   \n",
       "\n",
       "                     99%         max  \n",
       "Rooms                5.0        16.0  \n",
       "Price          3230000.0  11200000.0  \n",
       "Distance            35.4        48.1  \n",
       "Postcode          3754.0      3978.0  \n",
       "Propertycount    21650.0     21650.0  \n",
       "\n",
       "[5 rows x 23 columns]"
      ]
     },
     "execution_count": 20,
     "metadata": {},
     "output_type": "execute_result"
    }
   ],
   "source": [
    "dsn.describe(percentiles=[0,.001,.002,.01,.02,.03,.04,.05,.1,.25,.5,.75,.9, .95,.96,.97,.98,.99]).T"
   ]
  },
  {
   "cell_type": "code",
   "execution_count": 28,
   "id": "96ce00c0-6e78-4404-b24e-f45f8da88eff",
   "metadata": {},
   "outputs": [],
   "source": [
    "def outlier_method2(x):\n",
    "    x=x.clip(upper=x.quantile(.99))\n",
    "    x=x.clip(lower=x.quantile(.002))\n",
    "    return x"
   ]
  },
  {
   "cell_type": "code",
   "execution_count": 29,
   "id": "b2d2b46b-137b-4dd3-b8cd-0c7d80ddc6bb",
   "metadata": {},
   "outputs": [],
   "source": [
    "ds2=dsn.apply(outlier_method2)"
   ]
  },
  {
   "cell_type": "code",
   "execution_count": 30,
   "id": "ce8b9d21-659b-4889-b0f0-e4ce51dab710",
   "metadata": {},
   "outputs": [
    {
     "data": {
      "text/html": [
       "<div>\n",
       "<style scoped>\n",
       "    .dataframe tbody tr th:only-of-type {\n",
       "        vertical-align: middle;\n",
       "    }\n",
       "\n",
       "    .dataframe tbody tr th {\n",
       "        vertical-align: top;\n",
       "    }\n",
       "\n",
       "    .dataframe thead th {\n",
       "        text-align: right;\n",
       "    }\n",
       "</style>\n",
       "<table border=\"1\" class=\"dataframe\">\n",
       "  <thead>\n",
       "    <tr style=\"text-align: right;\">\n",
       "      <th></th>\n",
       "      <th>count</th>\n",
       "      <th>mean</th>\n",
       "      <th>std</th>\n",
       "      <th>min</th>\n",
       "      <th>0%</th>\n",
       "      <th>1%</th>\n",
       "      <th>2%</th>\n",
       "      <th>3%</th>\n",
       "      <th>4%</th>\n",
       "      <th>5%</th>\n",
       "      <th>...</th>\n",
       "      <th>25%</th>\n",
       "      <th>50%</th>\n",
       "      <th>75%</th>\n",
       "      <th>90%</th>\n",
       "      <th>95%</th>\n",
       "      <th>96%</th>\n",
       "      <th>97%</th>\n",
       "      <th>98%</th>\n",
       "      <th>99%</th>\n",
       "      <th>max</th>\n",
       "    </tr>\n",
       "  </thead>\n",
       "  <tbody>\n",
       "    <tr>\n",
       "      <th>Rooms</th>\n",
       "      <td>34857.0</td>\n",
       "      <td>3.019451e+00</td>\n",
       "      <td>0.931046</td>\n",
       "      <td>1.000000</td>\n",
       "      <td>1.000000</td>\n",
       "      <td>1.00</td>\n",
       "      <td>1.00</td>\n",
       "      <td>1.0</td>\n",
       "      <td>1.0</td>\n",
       "      <td>2.0</td>\n",
       "      <td>...</td>\n",
       "      <td>2.0</td>\n",
       "      <td>3.0</td>\n",
       "      <td>4.000000e+00</td>\n",
       "      <td>4.0</td>\n",
       "      <td>5.0</td>\n",
       "      <td>5.0</td>\n",
       "      <td>5.0</td>\n",
       "      <td>5.0</td>\n",
       "      <td>5.0</td>\n",
       "      <td>5.0</td>\n",
       "    </tr>\n",
       "    <tr>\n",
       "      <th>Price</th>\n",
       "      <td>34857.0</td>\n",
       "      <td>1.064104e+06</td>\n",
       "      <td>552480.303779</td>\n",
       "      <td>123304.442526</td>\n",
       "      <td>123304.442526</td>\n",
       "      <td>300000.00</td>\n",
       "      <td>345000.00</td>\n",
       "      <td>375000.0</td>\n",
       "      <td>400000.0</td>\n",
       "      <td>420000.0</td>\n",
       "      <td>...</td>\n",
       "      <td>666000.0</td>\n",
       "      <td>937000.0</td>\n",
       "      <td>1.333862e+06</td>\n",
       "      <td>1755000.0</td>\n",
       "      <td>2110000.0</td>\n",
       "      <td>2250000.0</td>\n",
       "      <td>2425000.0</td>\n",
       "      <td>2720000.0</td>\n",
       "      <td>3230000.0</td>\n",
       "      <td>3230000.0</td>\n",
       "    </tr>\n",
       "    <tr>\n",
       "      <th>Distance</th>\n",
       "      <td>34857.0</td>\n",
       "      <td>1.113738e+01</td>\n",
       "      <td>6.588716</td>\n",
       "      <td>0.000000</td>\n",
       "      <td>0.000000</td>\n",
       "      <td>1.60</td>\n",
       "      <td>1.90</td>\n",
       "      <td>2.4</td>\n",
       "      <td>2.6</td>\n",
       "      <td>2.7</td>\n",
       "      <td>...</td>\n",
       "      <td>6.4</td>\n",
       "      <td>10.3</td>\n",
       "      <td>1.400000e+01</td>\n",
       "      <td>19.9</td>\n",
       "      <td>24.7</td>\n",
       "      <td>25.9</td>\n",
       "      <td>27.2</td>\n",
       "      <td>31.7</td>\n",
       "      <td>35.4</td>\n",
       "      <td>35.4</td>\n",
       "    </tr>\n",
       "    <tr>\n",
       "      <th>Postcode</th>\n",
       "      <td>34857.0</td>\n",
       "      <td>3.115450e+03</td>\n",
       "      <td>104.938178</td>\n",
       "      <td>3000.000000</td>\n",
       "      <td>3000.000000</td>\n",
       "      <td>3006.00</td>\n",
       "      <td>3011.00</td>\n",
       "      <td>3012.0</td>\n",
       "      <td>3013.0</td>\n",
       "      <td>3015.0</td>\n",
       "      <td>...</td>\n",
       "      <td>3051.0</td>\n",
       "      <td>3103.0</td>\n",
       "      <td>3.156000e+03</td>\n",
       "      <td>3190.0</td>\n",
       "      <td>3204.0</td>\n",
       "      <td>3206.0</td>\n",
       "      <td>3207.0</td>\n",
       "      <td>3429.0</td>\n",
       "      <td>3754.0</td>\n",
       "      <td>3754.0</td>\n",
       "    </tr>\n",
       "    <tr>\n",
       "      <th>Propertycount</th>\n",
       "      <td>34857.0</td>\n",
       "      <td>7.573196e+03</td>\n",
       "      <td>4427.440712</td>\n",
       "      <td>534.000000</td>\n",
       "      <td>534.000000</td>\n",
       "      <td>881.88</td>\n",
       "      <td>1158.24</td>\n",
       "      <td>1490.0</td>\n",
       "      <td>1808.0</td>\n",
       "      <td>2185.0</td>\n",
       "      <td>...</td>\n",
       "      <td>4385.0</td>\n",
       "      <td>6763.0</td>\n",
       "      <td>1.041200e+04</td>\n",
       "      <td>14577.0</td>\n",
       "      <td>15510.0</td>\n",
       "      <td>16166.0</td>\n",
       "      <td>17496.0</td>\n",
       "      <td>21650.0</td>\n",
       "      <td>21650.0</td>\n",
       "      <td>21650.0</td>\n",
       "    </tr>\n",
       "  </tbody>\n",
       "</table>\n",
       "<p>5 rows × 21 columns</p>\n",
       "</div>"
      ],
      "text/plain": [
       "                 count          mean            std            min  \\\n",
       "Rooms          34857.0  3.019451e+00       0.931046       1.000000   \n",
       "Price          34857.0  1.064104e+06  552480.303779  123304.442526   \n",
       "Distance       34857.0  1.113738e+01       6.588716       0.000000   \n",
       "Postcode       34857.0  3.115450e+03     104.938178    3000.000000   \n",
       "Propertycount  34857.0  7.573196e+03    4427.440712     534.000000   \n",
       "\n",
       "                          0%         1%         2%        3%        4%  \\\n",
       "Rooms               1.000000       1.00       1.00       1.0       1.0   \n",
       "Price          123304.442526  300000.00  345000.00  375000.0  400000.0   \n",
       "Distance            0.000000       1.60       1.90       2.4       2.6   \n",
       "Postcode         3000.000000    3006.00    3011.00    3012.0    3013.0   \n",
       "Propertycount     534.000000     881.88    1158.24    1490.0    1808.0   \n",
       "\n",
       "                     5%  ...       25%       50%           75%        90%  \\\n",
       "Rooms               2.0  ...       2.0       3.0  4.000000e+00        4.0   \n",
       "Price          420000.0  ...  666000.0  937000.0  1.333862e+06  1755000.0   \n",
       "Distance            2.7  ...       6.4      10.3  1.400000e+01       19.9   \n",
       "Postcode         3015.0  ...    3051.0    3103.0  3.156000e+03     3190.0   \n",
       "Propertycount    2185.0  ...    4385.0    6763.0  1.041200e+04    14577.0   \n",
       "\n",
       "                     95%        96%        97%        98%        99%  \\\n",
       "Rooms                5.0        5.0        5.0        5.0        5.0   \n",
       "Price          2110000.0  2250000.0  2425000.0  2720000.0  3230000.0   \n",
       "Distance            24.7       25.9       27.2       31.7       35.4   \n",
       "Postcode          3204.0     3206.0     3207.0     3429.0     3754.0   \n",
       "Propertycount    15510.0    16166.0    17496.0    21650.0    21650.0   \n",
       "\n",
       "                     max  \n",
       "Rooms                5.0  \n",
       "Price          3230000.0  \n",
       "Distance            35.4  \n",
       "Postcode          3754.0  \n",
       "Propertycount    21650.0  \n",
       "\n",
       "[5 rows x 21 columns]"
      ]
     },
     "execution_count": 30,
     "metadata": {},
     "output_type": "execute_result"
    }
   ],
   "source": [
    "ds2.describe(percentiles=[0,0.01,0.02,.03,.04,.05,.1,.25,.5,.75,.9, .95,.96,.97,.98,.99]).T"
   ]
  },
  {
   "cell_type": "code",
   "execution_count": 31,
   "id": "3dc0cff4-a177-4838-bd57-b2ae06c54fea",
   "metadata": {},
   "outputs": [
    {
     "data": {
      "image/png": "[encoded data removed]",
      "text/plain": [
       "<Figure size 640x480 with 1 Axes>"
      ]
     },
     "metadata": {},
     "output_type": "display_data"
    }
   ],
   "source": [
    "sns.distplot(dsn[\"Price\"])\n",
    "plt.show()"
   ]
  },
  {
   "cell_type": "code",
   "execution_count": 32,
   "id": "f22faa3b-e0e2-4b30-a205-ccc1fcf49e8d",
   "metadata": {},
   "outputs": [
    {
     "data": {
      "image/png": "[encoded data removed]",
      "text/plain": [
       "<Figure size 640x480 with 1 Axes>"
      ]
     },
     "metadata": {},
     "output_type": "display_data"
    }
   ],
   "source": [
    "sns.distplot(ds2[\"Price\"])\n",
    "plt.show()"
   ]
  },
  {
   "cell_type": "markdown",
   "id": "3cae32b7-05c0-4b67-9575-a858604505dd",
   "metadata": {},
   "source": [
    "###############1. Linear Regression ####################\n",
    "KNN Regressor#######\n",
    "Decision Tree Regressor\n",
    "Random Forest Regressor#\n",
    "Adaboost Regressor"
   ]
  },
  {
   "cell_type": "code",
   "execution_count": 33,
   "id": "669578a2-35e1-459b-b20b-8d31989ea3a0",
   "metadata": {},
   "outputs": [],
   "source": [
    "from scipy import stats "
   ]
  },
  {
   "cell_type": "code",
   "execution_count": 34,
   "id": "90b53f60-06a8-4754-a890-65d062cb4dd7",
   "metadata": {},
   "outputs": [
    {
     "data": {
      "text/plain": [
       "ShapiroResult(statistic=0.8983874917030334, pvalue=0.0)"
      ]
     },
     "execution_count": 34,
     "metadata": {},
     "output_type": "execute_result"
    }
   ],
   "source": [
    "#stats.shapiro(ds2[\"Price\"]) # price is the target variable"
   ]
  },
  {
   "cell_type": "code",
   "execution_count": 35,
   "id": "964f6bcc-b070-4c81-b944-fbe00077dad5",
   "metadata": {},
   "outputs": [
    {
     "data": {
      "text/plain": [
       "Jarque_beraResult(statistic=652034.9847426636, pvalue=0.0)"
      ]
     },
     "execution_count": 35,
     "metadata": {},
     "output_type": "execute_result"
    }
   ],
   "source": [
    "from scipy.stats import jarque_bera\n",
    "stats.jarque_bera(ds2)"
   ]
  },
  {
   "cell_type": "code",
   "execution_count": 49,
   "id": "81bfbcd0-6c06-44a9-8f89-a59c71e354a4",
   "metadata": {},
   "outputs": [],
   "source": [
    "## pvalue is <0.05 therefore the target variable i.e data is largely deviated from normal distribution"
   ]
  },
  {
   "cell_type": "code",
   "execution_count": 37,
   "id": "584531f2-4d29-4e5d-952d-c53144d396cc",
   "metadata": {},
   "outputs": [
    {
     "name": "stdout",
     "output_type": "stream",
     "text": [
      "[0.07381996 1.38566724 1.26754026 3.70998034 0.99270332]\n"
     ]
    }
   ],
   "source": [
    "from scipy.stats import skew\n",
    "\n",
    "print(skew(ds2, axis=0, bias=True))\n"
   ]
  },
  {
   "cell_type": "code",
   "execution_count": 38,
   "id": "dd8a8d4f-019e-49a0-838b-27607d797fdc",
   "metadata": {},
   "outputs": [
    {
     "data": {
      "text/html": [
       "<div>\n",
       "<style scoped>\n",
       "    .dataframe tbody tr th:only-of-type {\n",
       "        vertical-align: middle;\n",
       "    }\n",
       "\n",
       "    .dataframe tbody tr th {\n",
       "        vertical-align: top;\n",
       "    }\n",
       "\n",
       "    .dataframe thead th {\n",
       "        text-align: right;\n",
       "    }\n",
       "</style>\n",
       "<table border=\"1\" class=\"dataframe\">\n",
       "  <thead>\n",
       "    <tr style=\"text-align: right;\">\n",
       "      <th></th>\n",
       "      <th>Rooms</th>\n",
       "      <th>Price</th>\n",
       "      <th>Distance</th>\n",
       "      <th>Postcode</th>\n",
       "      <th>Propertycount</th>\n",
       "    </tr>\n",
       "  </thead>\n",
       "  <tbody>\n",
       "    <tr>\n",
       "      <th>0</th>\n",
       "      <td>2.0</td>\n",
       "      <td>1.021950e+06</td>\n",
       "      <td>2.5</td>\n",
       "      <td>3067.0</td>\n",
       "      <td>4019.0</td>\n",
       "    </tr>\n",
       "    <tr>\n",
       "      <th>1</th>\n",
       "      <td>2.0</td>\n",
       "      <td>1.480000e+06</td>\n",
       "      <td>2.5</td>\n",
       "      <td>3067.0</td>\n",
       "      <td>4019.0</td>\n",
       "    </tr>\n",
       "    <tr>\n",
       "      <th>2</th>\n",
       "      <td>2.0</td>\n",
       "      <td>1.035000e+06</td>\n",
       "      <td>2.5</td>\n",
       "      <td>3067.0</td>\n",
       "      <td>4019.0</td>\n",
       "    </tr>\n",
       "  </tbody>\n",
       "</table>\n",
       "</div>"
      ],
      "text/plain": [
       "   Rooms         Price  Distance  Postcode  Propertycount\n",
       "0    2.0  1.021950e+06       2.5    3067.0         4019.0\n",
       "1    2.0  1.480000e+06       2.5    3067.0         4019.0\n",
       "2    2.0  1.035000e+06       2.5    3067.0         4019.0"
      ]
     },
     "execution_count": 38,
     "metadata": {},
     "output_type": "execute_result"
    }
   ],
   "source": [
    "ds2.head(3)"
   ]
  },
  {
   "cell_type": "markdown",
   "id": "00fd1163-342f-4ae8-a437-91cdfb2a916f",
   "metadata": {},
   "source": [
    "Skewness = 0: Then normally distributed.\n",
    "Skewness > 0: Then more weight in the left tail of the distribution.\n",
    "Skewness < 0: Then more weight in the right tail of the distribution."
   ]
  },
  {
   "cell_type": "code",
   "execution_count": 39,
   "id": "315ad605-4940-42cd-806b-2f09c8760046",
   "metadata": {},
   "outputs": [
    {
     "name": "stdout",
     "output_type": "stream",
     "text": [
      "[-0.25790479  2.46135529  2.1332897  19.63664779  0.89097923]\n",
      "2.4613552918736072\n"
     ]
    }
   ],
   "source": [
    "from scipy.stats import kurtosis\n",
    "\n",
    "print(kurtosis(ds2, axis=0, bias=True))\n",
    "\n",
    "print(kurtosis(ds2[\"Price\"], axis=0, bias=True))\n",
    "\n",
    "# Since Price kurtosis is less than 3,it is playkurtic. "
   ]
  },
  {
   "cell_type": "markdown",
   "id": "aa4c5855-7ec1-4c1b-a977-738b0ba0e6cc",
   "metadata": {},
   "source": [
    "kurtosis for normal distribution is equal to 3.\n",
    "For a distribution having kurtosis < 3: It is called playkurtic.\n",
    "For a distribution having kurtosis > 3, It is called leptokurtic and it signifies that it tries to produce more outliers rather than the normal distribution."
   ]
  },
  {
   "cell_type": "markdown",
   "id": "4f38c6b0-c09b-4039-8c34-25e4f23e69b8",
   "metadata": {},
   "source": [
    "########### Machine Implementation######################"
   ]
  },
  {
   "cell_type": "code",
   "execution_count": 40,
   "id": "81d5c791-a3c4-44b1-b7c2-c0867e8e6204",
   "metadata": {},
   "outputs": [
    {
     "data": {
      "text/html": [
       "<div>\n",
       "<style scoped>\n",
       "    .dataframe tbody tr th:only-of-type {\n",
       "        vertical-align: middle;\n",
       "    }\n",
       "\n",
       "    .dataframe tbody tr th {\n",
       "        vertical-align: top;\n",
       "    }\n",
       "\n",
       "    .dataframe thead th {\n",
       "        text-align: right;\n",
       "    }\n",
       "</style>\n",
       "<table border=\"1\" class=\"dataframe\">\n",
       "  <thead>\n",
       "    <tr style=\"text-align: right;\">\n",
       "      <th></th>\n",
       "      <th>Rooms</th>\n",
       "      <th>Price</th>\n",
       "      <th>Distance</th>\n",
       "      <th>Postcode</th>\n",
       "      <th>Propertycount</th>\n",
       "    </tr>\n",
       "  </thead>\n",
       "  <tbody>\n",
       "    <tr>\n",
       "      <th>0</th>\n",
       "      <td>2.0</td>\n",
       "      <td>1.021950e+06</td>\n",
       "      <td>2.5</td>\n",
       "      <td>3067.0</td>\n",
       "      <td>4019.0</td>\n",
       "    </tr>\n",
       "    <tr>\n",
       "      <th>1</th>\n",
       "      <td>2.0</td>\n",
       "      <td>1.480000e+06</td>\n",
       "      <td>2.5</td>\n",
       "      <td>3067.0</td>\n",
       "      <td>4019.0</td>\n",
       "    </tr>\n",
       "    <tr>\n",
       "      <th>2</th>\n",
       "      <td>2.0</td>\n",
       "      <td>1.035000e+06</td>\n",
       "      <td>2.5</td>\n",
       "      <td>3067.0</td>\n",
       "      <td>4019.0</td>\n",
       "    </tr>\n",
       "    <tr>\n",
       "      <th>3</th>\n",
       "      <td>3.0</td>\n",
       "      <td>1.414468e+06</td>\n",
       "      <td>2.5</td>\n",
       "      <td>3067.0</td>\n",
       "      <td>4019.0</td>\n",
       "    </tr>\n",
       "    <tr>\n",
       "      <th>4</th>\n",
       "      <td>3.0</td>\n",
       "      <td>1.465000e+06</td>\n",
       "      <td>2.5</td>\n",
       "      <td>3067.0</td>\n",
       "      <td>4019.0</td>\n",
       "    </tr>\n",
       "    <tr>\n",
       "      <th>...</th>\n",
       "      <td>...</td>\n",
       "      <td>...</td>\n",
       "      <td>...</td>\n",
       "      <td>...</td>\n",
       "      <td>...</td>\n",
       "    </tr>\n",
       "    <tr>\n",
       "      <th>34852</th>\n",
       "      <td>4.0</td>\n",
       "      <td>1.480000e+06</td>\n",
       "      <td>6.3</td>\n",
       "      <td>3013.0</td>\n",
       "      <td>6543.0</td>\n",
       "    </tr>\n",
       "    <tr>\n",
       "      <th>34853</th>\n",
       "      <td>2.0</td>\n",
       "      <td>8.880000e+05</td>\n",
       "      <td>6.3</td>\n",
       "      <td>3013.0</td>\n",
       "      <td>6543.0</td>\n",
       "    </tr>\n",
       "    <tr>\n",
       "      <th>34854</th>\n",
       "      <td>2.0</td>\n",
       "      <td>7.050000e+05</td>\n",
       "      <td>6.3</td>\n",
       "      <td>3013.0</td>\n",
       "      <td>6543.0</td>\n",
       "    </tr>\n",
       "    <tr>\n",
       "      <th>34855</th>\n",
       "      <td>3.0</td>\n",
       "      <td>1.140000e+06</td>\n",
       "      <td>6.3</td>\n",
       "      <td>3013.0</td>\n",
       "      <td>6543.0</td>\n",
       "    </tr>\n",
       "    <tr>\n",
       "      <th>34856</th>\n",
       "      <td>2.0</td>\n",
       "      <td>1.020000e+06</td>\n",
       "      <td>6.3</td>\n",
       "      <td>3013.0</td>\n",
       "      <td>6543.0</td>\n",
       "    </tr>\n",
       "  </tbody>\n",
       "</table>\n",
       "<p>34857 rows × 5 columns</p>\n",
       "</div>"
      ],
      "text/plain": [
       "       Rooms         Price  Distance  Postcode  Propertycount\n",
       "0        2.0  1.021950e+06       2.5    3067.0         4019.0\n",
       "1        2.0  1.480000e+06       2.5    3067.0         4019.0\n",
       "2        2.0  1.035000e+06       2.5    3067.0         4019.0\n",
       "3        3.0  1.414468e+06       2.5    3067.0         4019.0\n",
       "4        3.0  1.465000e+06       2.5    3067.0         4019.0\n",
       "...      ...           ...       ...       ...            ...\n",
       "34852    4.0  1.480000e+06       6.3    3013.0         6543.0\n",
       "34853    2.0  8.880000e+05       6.3    3013.0         6543.0\n",
       "34854    2.0  7.050000e+05       6.3    3013.0         6543.0\n",
       "34855    3.0  1.140000e+06       6.3    3013.0         6543.0\n",
       "34856    2.0  1.020000e+06       6.3    3013.0         6543.0\n",
       "\n",
       "[34857 rows x 5 columns]"
      ]
     },
     "execution_count": 40,
     "metadata": {},
     "output_type": "execute_result"
    }
   ],
   "source": [
    "from  sklearn.model_selection import train_test_split\n",
    "ds2"
   ]
  },
  {
   "cell_type": "code",
   "execution_count": 41,
   "id": "e56347bd-9b19-449a-94bc-42d83dd21364",
   "metadata": {},
   "outputs": [],
   "source": [
    "y=ds2[\"Price\"]\n",
    "x=ds2.drop(columns=[\"Price\"])  #[\"Rooms\",\"Distance\",\"Postcode\",\"Propertycount\"]"
   ]
  },
  {
   "cell_type": "code",
   "execution_count": 42,
   "id": "30f1cca9-aff4-4681-86ab-f7271752cec2",
   "metadata": {},
   "outputs": [],
   "source": [
    "x_train,x_test,y_train,y_test=train_test_split(x,y,test_size=0.25,random_state=8)"
   ]
  },
  {
   "cell_type": "code",
   "execution_count": 43,
   "id": "8e1ced4d-42cf-4d80-b342-224df2b78a9c",
   "metadata": {},
   "outputs": [],
   "source": [
    "from sklearn.linear_model import LinearRegression\n",
    "LR=LinearRegression()"
   ]
  },
  {
   "cell_type": "code",
   "execution_count": 44,
   "id": "3e3bf969-323d-4023-9b30-209393bcce94",
   "metadata": {},
   "outputs": [
    {
     "data": {
      "text/plain": [
       "LinearRegression()"
      ]
     },
     "execution_count": 44,
     "metadata": {},
     "output_type": "execute_result"
    }
   ],
   "source": [
    "LR.fit(x_train,y_train)"
   ]
  },
  {
   "cell_type": "code",
   "execution_count": 45,
   "id": "11c18237-81bb-46cf-ab95-ed0d78f2ef17",
   "metadata": {},
   "outputs": [
    {
     "data": {
      "text/plain": [
       "-3890555.811524115"
      ]
     },
     "execution_count": 45,
     "metadata": {},
     "output_type": "execute_result"
    }
   ],
   "source": [
    "LR.intercept_"
   ]
  },
  {
   "cell_type": "code",
   "execution_count": 46,
   "id": "5a6687be-3edc-46e0-8751-ba8a9b83609c",
   "metadata": {},
   "outputs": [
    {
     "data": {
      "text/plain": [
       "array([ 3.96861581e+05, -4.67900148e+04,  1.38248310e+03, -4.04707736e+00])"
      ]
     },
     "execution_count": 46,
     "metadata": {},
     "output_type": "execute_result"
    }
   ],
   "source": [
    "LR.coef_"
   ]
  },
  {
   "cell_type": "code",
   "execution_count": 47,
   "id": "81530f97-5705-4577-b569-400acdabe357",
   "metadata": {},
   "outputs": [
    {
     "data": {
      "text/html": [
       "<div>\n",
       "<style scoped>\n",
       "    .dataframe tbody tr th:only-of-type {\n",
       "        vertical-align: middle;\n",
       "    }\n",
       "\n",
       "    .dataframe tbody tr th {\n",
       "        vertical-align: top;\n",
       "    }\n",
       "\n",
       "    .dataframe thead th {\n",
       "        text-align: right;\n",
       "    }\n",
       "</style>\n",
       "<table border=\"1\" class=\"dataframe\">\n",
       "  <thead>\n",
       "    <tr style=\"text-align: right;\">\n",
       "      <th></th>\n",
       "      <th>Rooms</th>\n",
       "      <th>Distance</th>\n",
       "      <th>Postcode</th>\n",
       "      <th>Propertycount</th>\n",
       "    </tr>\n",
       "  </thead>\n",
       "  <tbody>\n",
       "    <tr>\n",
       "      <th>13259</th>\n",
       "      <td>3.0</td>\n",
       "      <td>6.9</td>\n",
       "      <td>3039.0</td>\n",
       "      <td>6232.0</td>\n",
       "    </tr>\n",
       "    <tr>\n",
       "      <th>24125</th>\n",
       "      <td>3.0</td>\n",
       "      <td>6.8</td>\n",
       "      <td>3016.0</td>\n",
       "      <td>6380.0</td>\n",
       "    </tr>\n",
       "    <tr>\n",
       "      <th>2032</th>\n",
       "      <td>2.0</td>\n",
       "      <td>10.7</td>\n",
       "      <td>3187.0</td>\n",
       "      <td>6938.0</td>\n",
       "    </tr>\n",
       "    <tr>\n",
       "      <th>19910</th>\n",
       "      <td>3.0</td>\n",
       "      <td>12.4</td>\n",
       "      <td>3108.0</td>\n",
       "      <td>9028.0</td>\n",
       "    </tr>\n",
       "    <tr>\n",
       "      <th>27119</th>\n",
       "      <td>4.0</td>\n",
       "      <td>16.3</td>\n",
       "      <td>3075.0</td>\n",
       "      <td>8279.0</td>\n",
       "    </tr>\n",
       "    <tr>\n",
       "      <th>...</th>\n",
       "      <td>...</td>\n",
       "      <td>...</td>\n",
       "      <td>...</td>\n",
       "      <td>...</td>\n",
       "    </tr>\n",
       "    <tr>\n",
       "      <th>5480</th>\n",
       "      <td>3.0</td>\n",
       "      <td>9.4</td>\n",
       "      <td>3081.0</td>\n",
       "      <td>2674.0</td>\n",
       "    </tr>\n",
       "    <tr>\n",
       "      <th>10376</th>\n",
       "      <td>3.0</td>\n",
       "      <td>6.5</td>\n",
       "      <td>3071.0</td>\n",
       "      <td>8870.0</td>\n",
       "    </tr>\n",
       "    <tr>\n",
       "      <th>18417</th>\n",
       "      <td>4.0</td>\n",
       "      <td>13.4</td>\n",
       "      <td>3130.0</td>\n",
       "      <td>2867.0</td>\n",
       "    </tr>\n",
       "    <tr>\n",
       "      <th>25940</th>\n",
       "      <td>2.0</td>\n",
       "      <td>3.6</td>\n",
       "      <td>3068.0</td>\n",
       "      <td>6244.0</td>\n",
       "    </tr>\n",
       "    <tr>\n",
       "      <th>4547</th>\n",
       "      <td>4.0</td>\n",
       "      <td>9.2</td>\n",
       "      <td>3146.0</td>\n",
       "      <td>10412.0</td>\n",
       "    </tr>\n",
       "  </tbody>\n",
       "</table>\n",
       "<p>26142 rows × 4 columns</p>\n",
       "</div>"
      ],
      "text/plain": [
       "       Rooms  Distance  Postcode  Propertycount\n",
       "13259    3.0       6.9    3039.0         6232.0\n",
       "24125    3.0       6.8    3016.0         6380.0\n",
       "2032     2.0      10.7    3187.0         6938.0\n",
       "19910    3.0      12.4    3108.0         9028.0\n",
       "27119    4.0      16.3    3075.0         8279.0\n",
       "...      ...       ...       ...            ...\n",
       "5480     3.0       9.4    3081.0         2674.0\n",
       "10376    3.0       6.5    3071.0         8870.0\n",
       "18417    4.0      13.4    3130.0         2867.0\n",
       "25940    2.0       3.6    3068.0         6244.0\n",
       "4547     4.0       9.2    3146.0        10412.0\n",
       "\n",
       "[26142 rows x 4 columns]"
      ]
     },
     "execution_count": 47,
     "metadata": {},
     "output_type": "execute_result"
    }
   ],
   "source": [
    "x_train   # we can say Rooms and Postcode increase,increases the price of the houses"
   ]
  },
  {
   "cell_type": "code",
   "execution_count": 48,
   "id": "c24cab81-41d1-4a9b-bec8-787a7b628be0",
   "metadata": {},
   "outputs": [],
   "source": [
    "#to find MSE and RMSE predict data\n",
    "predict_train=LR.predict(x_train)\n",
    "predict_test=LR.predict(x_test)"
   ]
  },
  {
   "cell_type": "code",
   "execution_count": 49,
   "id": "63398b0d-498a-4d7d-b1f7-27d0c4415a7f",
   "metadata": {},
   "outputs": [
    {
     "name": "stdout",
     "output_type": "stream",
     "text": [
      "MSE_train: 148449790029.90494 RMSE_train: 385291.8245043683\n",
      "MSE_test: 154392473595.64224 RMSE_test: 392928.07687367196\n"
     ]
    }
   ],
   "source": [
    "#print(\"RMSE AND MSE value of test data:\\n\")\n",
    "print(\"MSE_train:\",np.mean(pow((y_train-predict_train),2)),\"RMSE_train:\",np.sqrt(np.mean(pow((y_train-predict_train),2)))) #MeanSquareError is avg(actualvalue-predictedvalue)^2\n",
    "\n",
    "\n",
    "print(\"MSE_test:\",np.mean(pow((y_test-predict_test),2)),\"RMSE_test:\",np.sqrt(np.mean(pow((y_test-predict_test),2)))) #MeanSquareError is avg(actualvalue-predictedvalue)^2\n",
    "\n"
   ]
  },
  {
   "cell_type": "code",
   "execution_count": 50,
   "id": "58b329fd-8cae-462c-8e95-51fec0336ff4",
   "metadata": {},
   "outputs": [
    {
     "name": "stdout",
     "output_type": "stream",
     "text": [
      "train_Score: 0.5112879730394394 , test_Score: 0.5013137971436675\n"
     ]
    }
   ],
   "source": [
    "print(\"train_Score:\",LR.score(x_train,y_train),\",\",\"test_Score:\",LR.score(x_test,y_test))\n",
    "\n",
    "#Score is only 51% for linear regression model for this data"
   ]
  },
  {
   "cell_type": "markdown",
   "id": "89404db8-1e1b-4d72-bc91-b7960f9a3280",
   "metadata": {},
   "source": [
    "##################################################################################################################\n",
    "2.KNN Regressor\n"
   ]
  },
  {
   "cell_type": "code",
   "execution_count": 109,
   "id": "511e6c55-22e6-49c9-8247-5a240979e25e",
   "metadata": {},
   "outputs": [],
   "source": [
    "from sklearn import metrics\n",
    "from sklearn.neighbors import KNeighborsRegressor    #sklearn.neighbors.KNeighborsRegressor\n",
    "from sklearn.model_selection import train_test_split, GridSearchCV, RandomizedSearchCV"
   ]
  },
  {
   "cell_type": "code",
   "execution_count": 52,
   "id": "52bdec71-3bb4-4bf7-a611-ea0e6c3005ce",
   "metadata": {},
   "outputs": [
    {
     "data": {
      "text/plain": [
       "KNeighborsRegressor()"
      ]
     },
     "execution_count": 52,
     "metadata": {},
     "output_type": "execute_result"
    }
   ],
   "source": [
    "knn=KNeighborsRegressor()\n",
    "knn.fit(x_train,y_train)"
   ]
  },
  {
   "cell_type": "code",
   "execution_count": 53,
   "id": "a4fe56be-ffa8-470f-97a7-872ad6fa5bba",
   "metadata": {},
   "outputs": [],
   "source": [
    "#help(knn)\n",
    "x_train,x_test,y_train,y_test=train_test_split(x,y,test_size=0.20,random_state=878)\n"
   ]
  },
  {
   "cell_type": "code",
   "execution_count": 54,
   "id": "5473aefc-d3e3-491c-9018-695833db0c70",
   "metadata": {},
   "outputs": [
    {
     "name": "stdout",
     "output_type": "stream",
     "text": [
      "TrainData_score: 0.6499879408982134 TestData_score: 0.6470176132908033\n"
     ]
    }
   ],
   "source": [
    "print(\"TrainData_score:\",knn.score(x_train,y_train),\"TestData_score:\",knn.score(x_test,y_test))"
   ]
  },
  {
   "cell_type": "code",
   "execution_count": 55,
   "id": "25f1997c-498e-4787-9f41-148a003e22e3",
   "metadata": {},
   "outputs": [
    {
     "name": "stdout",
     "output_type": "stream",
     "text": [
      "[1271600.         1463474.60357434 1094784.03772892 ...  816200.\n",
      "  480200.          601800.        ]\n",
      "[1656000.         1364649.95803432 1214763.8787805  ...  473471.64019848\n",
      "  786889.73581783 1261700.        ]\n"
     ]
    }
   ],
   "source": [
    "pred_train_knn=knn.predict(x_train)\n",
    "pred_test_knn=knn.predict(x_test)\n",
    "print(pred_train_knn)\n",
    "print(pred_test_knn)"
   ]
  },
  {
   "cell_type": "code",
   "execution_count": 56,
   "id": "b84326a5-82ce-4ada-8ff7-32fd3a25ec02",
   "metadata": {},
   "outputs": [
    {
     "data": {
      "text/html": [
       "<div>\n",
       "<style scoped>\n",
       "    .dataframe tbody tr th:only-of-type {\n",
       "        vertical-align: middle;\n",
       "    }\n",
       "\n",
       "    .dataframe tbody tr th {\n",
       "        vertical-align: top;\n",
       "    }\n",
       "\n",
       "    .dataframe thead th {\n",
       "        text-align: right;\n",
       "    }\n",
       "</style>\n",
       "<table border=\"1\" class=\"dataframe\">\n",
       "  <thead>\n",
       "    <tr style=\"text-align: right;\">\n",
       "      <th></th>\n",
       "      <th>Y_Test</th>\n",
       "      <th>x_Predicted</th>\n",
       "    </tr>\n",
       "  </thead>\n",
       "  <tbody>\n",
       "    <tr>\n",
       "      <th>22766</th>\n",
       "      <td>1.330000e+06</td>\n",
       "      <td>1.656000e+06</td>\n",
       "    </tr>\n",
       "    <tr>\n",
       "      <th>23046</th>\n",
       "      <td>1.353250e+06</td>\n",
       "      <td>1.364650e+06</td>\n",
       "    </tr>\n",
       "    <tr>\n",
       "      <th>11697</th>\n",
       "      <td>1.170819e+06</td>\n",
       "      <td>1.214764e+06</td>\n",
       "    </tr>\n",
       "    <tr>\n",
       "      <th>7337</th>\n",
       "      <td>1.102000e+06</td>\n",
       "      <td>1.185530e+06</td>\n",
       "    </tr>\n",
       "    <tr>\n",
       "      <th>10352</th>\n",
       "      <td>8.199211e+05</td>\n",
       "      <td>7.316000e+05</td>\n",
       "    </tr>\n",
       "  </tbody>\n",
       "</table>\n",
       "</div>"
      ],
      "text/plain": [
       "             Y_Test   x_Predicted\n",
       "22766  1.330000e+06  1.656000e+06\n",
       "23046  1.353250e+06  1.364650e+06\n",
       "11697  1.170819e+06  1.214764e+06\n",
       "7337   1.102000e+06  1.185530e+06\n",
       "10352  8.199211e+05  7.316000e+05"
      ]
     },
     "execution_count": 56,
     "metadata": {},
     "output_type": "execute_result"
    }
   ],
   "source": [
    "predict_df_knn = pd.DataFrame({\"Y_Test\" : y_test, \"x_Predicted\" : pred_test_knn})\n",
    "predict_df_knn.head()"
   ]
  },
  {
   "cell_type": "code",
   "execution_count": 57,
   "id": "cc5a21a5-a386-4d4f-8b12-7011eec835e3",
   "metadata": {},
   "outputs": [
    {
     "data": {
      "text/plain": [
       "0.6470176132908033"
      ]
     },
     "execution_count": 57,
     "metadata": {},
     "output_type": "execute_result"
    }
   ],
   "source": [
    "from sklearn.metrics import mean_squared_error, r2_score\n",
    "r2_score(predict_df_knn.Y_Test, predict_df_knn.x_Predicted)"
   ]
  },
  {
   "cell_type": "code",
   "execution_count": 58,
   "id": "23bf1b56-21c3-47f2-8177-58c895cb8c51",
   "metadata": {},
   "outputs": [
    {
     "name": "stdout",
     "output_type": "stream",
     "text": [
      "MSE_train: 106460336479.66093 RMSE_train: 326282.60217127873\n",
      "MSE_test: 109239521217.49193 RMSE_test: 330514.02575003065\n"
     ]
    }
   ],
   "source": [
    "print(\"MSE_train:\",np.mean(pow((y_train-pred_train_knn),2)),\"RMSE_train:\",np.sqrt(np.mean(pow((y_train-pred_train_knn),2)))) #MeanSquareError is avg(actualvalue-predictedvalue)^2\n",
    "\n",
    "\n",
    "print(\"MSE_test:\",np.mean(pow((y_test-pred_test_knn),2)),\"RMSE_test:\",np.sqrt(np.mean(pow((y_test-pred_test_knn),2)))) #MeanSquareError is avg(actualvalue-predictedvalue)^2\n",
    "\n"
   ]
  },
  {
   "cell_type": "markdown",
   "id": "c08935ba-5400-41b4-908a-b8023f8572e3",
   "metadata": {},
   "source": [
    "#####################Parameter Tunining"
   ]
  },
  {
   "cell_type": "code",
   "execution_count": 59,
   "id": "06a46b97-0b1b-4986-adc1-b88295499ce2",
   "metadata": {},
   "outputs": [
    {
     "data": {
      "text/plain": [
       "GridSearchCV(cv=10, estimator=KNeighborsRegressor(),\n",
       "             param_grid={'n_neighbors': [3, 5, 7, 9, 11, 13, 15, 17, 19],\n",
       "                         'p': [1, 2, 3, 4]})"
      ]
     },
     "execution_count": 59,
     "metadata": {},
     "output_type": "execute_result"
    }
   ],
   "source": [
    "\n",
    "knn_params = {\"n_neighbors\" : [3,5,7,9,11,13,15,17,19],\"p\":[1,2,3,4]}\n",
    "knn_search = KNeighborsRegressor()\n",
    "knn_cv_model = GridSearchCV(estimator=knn_search,param_grid=knn_params, cv = 10,)\n",
    "knn_cv_model.fit(x_train, y_train)"
   ]
  },
  {
   "cell_type": "code",
   "execution_count": 60,
   "id": "aee0d5b1-a1f9-43a6-8d24-7c76a5c50b2d",
   "metadata": {},
   "outputs": [
    {
     "data": {
      "text/plain": [
       "{'n_neighbors': 13, 'p': 2}"
      ]
     },
     "execution_count": 60,
     "metadata": {},
     "output_type": "execute_result"
    }
   ],
   "source": [
    "knn_cv_model.best_params_"
   ]
  },
  {
   "cell_type": "code",
   "execution_count": 61,
   "id": "b064ad35-4ca4-4ef6-aed5-5ced2741133a",
   "metadata": {},
   "outputs": [
    {
     "data": {
      "text/plain": [
       "0.6481253538499545"
      ]
     },
     "execution_count": 61,
     "metadata": {},
     "output_type": "execute_result"
    }
   ],
   "source": [
    "knn_cv_model.best_score_"
   ]
  },
  {
   "cell_type": "code",
   "execution_count": 62,
   "id": "26aa8b52-ff31-43c9-a5d3-9d74771aa124",
   "metadata": {},
   "outputs": [
    {
     "data": {
      "text/plain": [
       "KNeighborsRegressor(n_neighbors=13)"
      ]
     },
     "execution_count": 62,
     "metadata": {},
     "output_type": "execute_result"
    }
   ],
   "source": [
    "knn_cv_model.best_estimator_"
   ]
  },
  {
   "cell_type": "code",
   "execution_count": 76,
   "id": "9374f426-5e1e-44dd-89ec-c71967b78969",
   "metadata": {},
   "outputs": [
    {
     "data": {
      "text/plain": [
       "KNeighborsRegressor(n_neighbors=13)"
      ]
     },
     "execution_count": 76,
     "metadata": {},
     "output_type": "execute_result"
    }
   ],
   "source": [
    "best_knn=KNeighborsRegressor(n_neighbors=13, p=2)\n",
    "best_knn.fit(x_train,y_train)"
   ]
  },
  {
   "cell_type": "code",
   "execution_count": 77,
   "id": "919eab48-175c-485a-abd2-55aabdbc6010",
   "metadata": {},
   "outputs": [
    {
     "name": "stdout",
     "output_type": "stream",
     "text": [
      "Train Score 0.6804052201561209\n",
      "Test Score 0.6482588587762217\n"
     ]
    }
   ],
   "source": [
    "print(\"Train Score\", best_knn.score(x_train, y_train))\n",
    "print(\"Test Score\", best_knn.score(x_test, y_test))"
   ]
  },
  {
   "cell_type": "code",
   "execution_count": 72,
   "id": "d42961ac-5854-4fd0-a2c6-975aa51494b2",
   "metadata": {},
   "outputs": [
    {
     "data": {
      "text/plain": [
       "KNeighborsRegressor(n_neighbors=15)"
      ]
     },
     "execution_count": 72,
     "metadata": {},
     "output_type": "execute_result"
    }
   ],
   "source": [
    "best_knn=KNeighborsRegressor(n_neighbors=15, p=2)\n",
    "best_knn.fit(x_train,y_train)"
   ]
  },
  {
   "cell_type": "code",
   "execution_count": 73,
   "id": "d1b109cb-7ac3-4a34-915b-71f2bb2eafef",
   "metadata": {},
   "outputs": [
    {
     "name": "stdout",
     "output_type": "stream",
     "text": [
      "Train Score 0.6792613617216263\n",
      "Test Score 0.6492231674788038\n"
     ]
    }
   ],
   "source": [
    "print(\"Train Score\", best_knn.score(x_train, y_train))\n",
    "print(\"Test Score\", best_knn.score(x_test, y_test))"
   ]
  },
  {
   "cell_type": "markdown",
   "id": "7547e439-0864-4c60-bea8-2661e6250dc4",
   "metadata": {},
   "source": [
    "######################################3.Decision Tree Regressor"
   ]
  },
  {
   "cell_type": "code",
   "execution_count": 78,
   "id": "1ee3e2ee-b206-4a8b-bfe4-4b1120288718",
   "metadata": {},
   "outputs": [],
   "source": [
    "from sklearn.tree import DecisionTreeRegressor\n"
   ]
  },
  {
   "cell_type": "code",
   "execution_count": 79,
   "id": "19fb13a9-e5ec-4c28-a897-dab69ee67563",
   "metadata": {},
   "outputs": [
    {
     "data": {
      "text/plain": [
       "DecisionTreeRegressor(max_depth=2, min_samples_split=50)"
      ]
     },
     "execution_count": 79,
     "metadata": {},
     "output_type": "execute_result"
    }
   ],
   "source": [
    "regr_1 = DecisionTreeRegressor(max_depth=2,min_samples_split=50)\n",
    "regr_1.fit(x_train, y_train)\n"
   ]
  },
  {
   "cell_type": "code",
   "execution_count": 80,
   "id": "1335a4e5-8052-415f-ae7a-f666f365c2e8",
   "metadata": {},
   "outputs": [
    {
     "data": {
      "text/plain": [
       "0.3549799869899064"
      ]
     },
     "execution_count": 80,
     "metadata": {},
     "output_type": "execute_result"
    }
   ],
   "source": [
    "regr_1.score(x_train,y_train)"
   ]
  },
  {
   "cell_type": "code",
   "execution_count": 83,
   "id": "77e804ae-93c8-4341-ba10-84dcf9531883",
   "metadata": {},
   "outputs": [
    {
     "data": {
      "text/plain": [
       "DecisionTreeRegressor(max_depth=19, min_samples_split=8)"
      ]
     },
     "execution_count": 83,
     "metadata": {},
     "output_type": "execute_result"
    }
   ],
   "source": [
    "regr_2 = DecisionTreeRegressor(max_depth=19,min_samples_leaf=1,min_samples_split=8)\n",
    "\n",
    "regr_2.fit(x_train, y_train)"
   ]
  },
  {
   "cell_type": "code",
   "execution_count": 84,
   "id": "b726b3e3-17f4-4f78-b7b7-ec7d442f6eb1",
   "metadata": {},
   "outputs": [
    {
     "data": {
      "text/plain": [
       "0.711514819487135"
      ]
     },
     "execution_count": 84,
     "metadata": {},
     "output_type": "execute_result"
    }
   ],
   "source": [
    "regr_2.score(x_train,y_train)"
   ]
  },
  {
   "cell_type": "code",
   "execution_count": 85,
   "id": "403e4c0d-2b7a-4c6d-9c0b-efae688c8662",
   "metadata": {},
   "outputs": [
    {
     "name": "stdout",
     "output_type": "stream",
     "text": [
      "Score on train:  0.711514819487135\n",
      "Score on test : 0.6675297376436924\n"
     ]
    }
   ],
   "source": [
    "print(\"Score on train: \", regr_2.score(x_train, y_train))\n",
    "print(\"Score on test :\", regr_2.score(x_test, y_test))"
   ]
  },
  {
   "cell_type": "code",
   "execution_count": 86,
   "id": "8445befb-2414-44e1-84e9-e6a348c3f502",
   "metadata": {},
   "outputs": [
    {
     "name": "stdout",
     "output_type": "stream",
     "text": [
      "Fitting 10 folds for each of 80 candidates, totalling 800 fits\n",
      "[CV] END max_depth=4, min_samples_leaf=2, min_samples_split=10; total time=   0.0s\n",
      "[CV] END max_depth=4, min_samples_leaf=2, min_samples_split=10; total time=   0.0s\n",
      "[CV] END max_depth=4, min_samples_leaf=2, min_samples_split=10; total time=   0.0s\n",
      "[CV] END max_depth=4, min_samples_leaf=2, min_samples_split=10; total time=   0.0s\n",
      "[CV] END max_depth=4, min_samples_leaf=2, min_samples_split=10; total time=   0.0s\n",
      "[CV] END max_depth=4, min_samples_leaf=2, min_samples_split=10; total time=   0.0s\n",
      "[CV] END max_depth=4, min_samples_leaf=2, min_samples_split=10; total time=   0.0s\n",
      "[CV] END max_depth=4, min_samples_leaf=2, min_samples_split=10; total time=   0.0s\n",
      "[CV] END max_depth=4, min_samples_leaf=2, min_samples_split=10; total time=   0.0s\n",
      "[CV] END max_depth=4, min_samples_leaf=2, min_samples_split=10; total time=   0.0s\n",
      "[CV] END max_depth=4, min_samples_leaf=2, min_samples_split=20; total time=   0.0s\n",
      "[CV] END max_depth=4, min_samples_leaf=2, min_samples_split=20; total time=   0.0s\n",
      "[CV] END max_depth=4, min_samples_leaf=2, min_samples_split=20; total time=   0.0s\n",
      "[CV] END max_depth=4, min_samples_leaf=2, min_samples_split=20; total time=   0.0s\n",
      "[CV] END max_depth=4, min_samples_leaf=2, min_samples_split=20; total time=   0.0s\n",
      "[CV] END max_depth=4, min_samples_leaf=2, min_samples_split=20; total time=   0.0s\n",
      "[CV] END max_depth=4, min_samples_leaf=2, min_samples_split=20; total time=   0.0s\n",
      "[CV] END max_depth=4, min_samples_leaf=2, min_samples_split=20; total time=   0.0s\n",
      "[CV] END max_depth=4, min_samples_leaf=2, min_samples_split=20; total time=   0.0s\n",
      "[CV] END max_depth=4, min_samples_leaf=2, min_samples_split=20; total time=   0.0s\n",
      "[CV] END max_depth=4, min_samples_leaf=2, min_samples_split=50; total time=   0.0s\n",
      "[CV] END max_depth=4, min_samples_leaf=2, min_samples_split=50; total time=   0.0s\n",
      "[CV] END max_depth=4, min_samples_leaf=2, min_samples_split=50; total time=   0.0s\n",
      "[CV] END max_depth=4, min_samples_leaf=2, min_samples_split=50; total time=   0.0s\n",
      "[CV] END max_depth=4, min_samples_leaf=2, min_samples_split=50; total time=   0.0s\n",
      "[CV] END max_depth=4, min_samples_leaf=2, min_samples_split=50; total time=   0.0s\n",
      "[CV] END max_depth=4, min_samples_leaf=2, min_samples_split=50; total time=   0.0s\n",
      "[CV] END max_depth=4, min_samples_leaf=2, min_samples_split=50; total time=   0.0s\n",
      "[CV] END max_depth=4, min_samples_leaf=2, min_samples_split=50; total time=   0.0s\n",
      "[CV] END max_depth=4, min_samples_leaf=2, min_samples_split=50; total time=   0.0s\n",
      "[CV] END max_depth=4, min_samples_leaf=2, min_samples_split=51; total time=   0.0s\n",
      "[CV] END max_depth=4, min_samples_leaf=2, min_samples_split=51; total time=   0.0s\n",
      "[CV] END max_depth=4, min_samples_leaf=2, min_samples_split=51; total time=   0.0s\n",
      "[CV] END max_depth=4, min_samples_leaf=2, min_samples_split=51; total time=   0.0s\n",
      "[CV] END max_depth=4, min_samples_leaf=2, min_samples_split=51; total time=   0.0s\n",
      "[CV] END max_depth=4, min_samples_leaf=2, min_samples_split=51; total time=   0.0s\n",
      "[CV] END max_depth=4, min_samples_leaf=2, min_samples_split=51; total time=   0.0s\n",
      "[CV] END max_depth=4, min_samples_leaf=2, min_samples_split=51; total time=   0.0s\n",
      "[CV] END max_depth=4, min_samples_leaf=2, min_samples_split=51; total time=   0.0s\n",
      "[CV] END max_depth=4, min_samples_leaf=2, min_samples_split=51; total time=   0.0s\n",
      "[CV] END max_depth=4, min_samples_leaf=5, min_samples_split=10; total time=   0.0s\n",
      "[CV] END max_depth=4, min_samples_leaf=5, min_samples_split=10; total time=   0.0s\n",
      "[CV] END max_depth=4, min_samples_leaf=5, min_samples_split=10; total time=   0.0s\n",
      "[CV] END max_depth=4, min_samples_leaf=5, min_samples_split=10; total time=   0.0s\n",
      "[CV] END max_depth=4, min_samples_leaf=5, min_samples_split=10; total time=   0.0s\n",
      "[CV] END max_depth=4, min_samples_leaf=5, min_samples_split=10; total time=   0.0s\n",
      "[CV] END max_depth=4, min_samples_leaf=5, min_samples_split=10; total time=   0.0s\n",
      "[CV] END max_depth=4, min_samples_leaf=5, min_samples_split=10; total time=   0.0s\n",
      "[CV] END max_depth=4, min_samples_leaf=5, min_samples_split=10; total time=   0.0s\n",
      "[CV] END max_depth=4, min_samples_leaf=5, min_samples_split=10; total time=   0.0s\n",
      "[CV] END max_depth=4, min_samples_leaf=5, min_samples_split=20; total time=   0.0s\n",
      "[CV] END max_depth=4, min_samples_leaf=5, min_samples_split=20; total time=   0.0s\n",
      "[CV] END max_depth=4, min_samples_leaf=5, min_samples_split=20; total time=   0.0s\n",
      "[CV] END max_depth=4, min_samples_leaf=5, min_samples_split=20; total time=   0.0s\n",
      "[CV] END max_depth=4, min_samples_leaf=5, min_samples_split=20; total time=   0.0s\n",
      "[CV] END max_depth=4, min_samples_leaf=5, min_samples_split=20; total time=   0.0s\n",
      "[CV] END max_depth=4, min_samples_leaf=5, min_samples_split=20; total time=   0.0s\n",
      "[CV] END max_depth=4, min_samples_leaf=5, min_samples_split=20; total time=   0.0s\n",
      "[CV] END max_depth=4, min_samples_leaf=5, min_samples_split=20; total time=   0.0s\n",
      "[CV] END max_depth=4, min_samples_leaf=5, min_samples_split=20; total time=   0.0s\n",
      "[CV] END max_depth=4, min_samples_leaf=5, min_samples_split=50; total time=   0.0s\n",
      "[CV] END max_depth=4, min_samples_leaf=5, min_samples_split=50; total time=   0.0s\n",
      "[CV] END max_depth=4, min_samples_leaf=5, min_samples_split=50; total time=   0.0s\n",
      "[CV] END max_depth=4, min_samples_leaf=5, min_samples_split=50; total time=   0.0s\n",
      "[CV] END max_depth=4, min_samples_leaf=5, min_samples_split=50; total time=   0.0s\n",
      "[CV] END max_depth=4, min_samples_leaf=5, min_samples_split=50; total time=   0.0s\n",
      "[CV] END max_depth=4, min_samples_leaf=5, min_samples_split=50; total time=   0.0s\n",
      "[CV] END max_depth=4, min_samples_leaf=5, min_samples_split=50; total time=   0.0s\n",
      "[CV] END max_depth=4, min_samples_leaf=5, min_samples_split=50; total time=   0.0s\n",
      "[CV] END max_depth=4, min_samples_leaf=5, min_samples_split=50; total time=   0.0s\n",
      "[CV] END max_depth=4, min_samples_leaf=5, min_samples_split=51; total time=   0.0s\n",
      "[CV] END max_depth=4, min_samples_leaf=5, min_samples_split=51; total time=   0.0s\n",
      "[CV] END max_depth=4, min_samples_leaf=5, min_samples_split=51; total time=   0.0s\n",
      "[CV] END max_depth=4, min_samples_leaf=5, min_samples_split=51; total time=   0.0s\n",
      "[CV] END max_depth=4, min_samples_leaf=5, min_samples_split=51; total time=   0.0s\n",
      "[CV] END max_depth=4, min_samples_leaf=5, min_samples_split=51; total time=   0.0s\n",
      "[CV] END max_depth=4, min_samples_leaf=5, min_samples_split=51; total time=   0.0s\n",
      "[CV] END max_depth=4, min_samples_leaf=5, min_samples_split=51; total time=   0.0s\n",
      "[CV] END max_depth=4, min_samples_leaf=5, min_samples_split=51; total time=   0.0s\n",
      "[CV] END max_depth=4, min_samples_leaf=5, min_samples_split=51; total time=   0.0s\n",
      "[CV] END max_depth=4, min_samples_leaf=10, min_samples_split=10; total time=   0.0s\n",
      "[CV] END max_depth=4, min_samples_leaf=10, min_samples_split=10; total time=   0.0s\n",
      "[CV] END max_depth=4, min_samples_leaf=10, min_samples_split=10; total time=   0.0s\n",
      "[CV] END max_depth=4, min_samples_leaf=10, min_samples_split=10; total time=   0.0s\n",
      "[CV] END max_depth=4, min_samples_leaf=10, min_samples_split=10; total time=   0.0s\n",
      "[CV] END max_depth=4, min_samples_leaf=10, min_samples_split=10; total time=   0.0s\n",
      "[CV] END max_depth=4, min_samples_leaf=10, min_samples_split=10; total time=   0.0s\n",
      "[CV] END max_depth=4, min_samples_leaf=10, min_samples_split=10; total time=   0.0s\n",
      "[CV] END max_depth=4, min_samples_leaf=10, min_samples_split=10; total time=   0.0s\n",
      "[CV] END max_depth=4, min_samples_leaf=10, min_samples_split=10; total time=   0.0s\n",
      "[CV] END max_depth=4, min_samples_leaf=10, min_samples_split=20; total time=   0.0s\n",
      "[CV] END max_depth=4, min_samples_leaf=10, min_samples_split=20; total time=   0.0s\n",
      "[CV] END max_depth=4, min_samples_leaf=10, min_samples_split=20; total time=   0.0s\n",
      "[CV] END max_depth=4, min_samples_leaf=10, min_samples_split=20; total time=   0.0s\n",
      "[CV] END max_depth=4, min_samples_leaf=10, min_samples_split=20; total time=   0.0s\n",
      "[CV] END max_depth=4, min_samples_leaf=10, min_samples_split=20; total time=   0.0s\n",
      "[CV] END max_depth=4, min_samples_leaf=10, min_samples_split=20; total time=   0.0s\n",
      "[CV] END max_depth=4, min_samples_leaf=10, min_samples_split=20; total time=   0.0s\n",
      "[CV] END max_depth=4, min_samples_leaf=10, min_samples_split=20; total time=   0.0s\n",
      "[CV] END max_depth=4, min_samples_leaf=10, min_samples_split=20; total time=   0.0s\n",
      "[CV] END max_depth=4, min_samples_leaf=10, min_samples_split=50; total time=   0.0s\n",
      "[CV] END max_depth=4, min_samples_leaf=10, min_samples_split=50; total time=   0.0s\n",
      "[CV] END max_depth=4, min_samples_leaf=10, min_samples_split=50; total time=   0.0s\n",
      "[CV] END max_depth=4, min_samples_leaf=10, min_samples_split=50; total time=   0.0s\n",
      "[CV] END max_depth=4, min_samples_leaf=10, min_samples_split=50; total time=   0.0s\n",
      "[CV] END max_depth=4, min_samples_leaf=10, min_samples_split=50; total time=   0.0s\n",
      "[CV] END max_depth=4, min_samples_leaf=10, min_samples_split=50; total time=   0.0s\n",
      "[CV] END max_depth=4, min_samples_leaf=10, min_samples_split=50; total time=   0.0s\n",
      "[CV] END max_depth=4, min_samples_leaf=10, min_samples_split=50; total time=   0.0s\n",
      "[CV] END max_depth=4, min_samples_leaf=10, min_samples_split=50; total time=   0.0s\n",
      "[CV] END max_depth=4, min_samples_leaf=10, min_samples_split=51; total time=   0.0s\n",
      "[CV] END max_depth=4, min_samples_leaf=10, min_samples_split=51; total time=   0.0s\n",
      "[CV] END max_depth=4, min_samples_leaf=10, min_samples_split=51; total time=   0.0s\n",
      "[CV] END max_depth=4, min_samples_leaf=10, min_samples_split=51; total time=   0.0s\n",
      "[CV] END max_depth=4, min_samples_leaf=10, min_samples_split=51; total time=   0.0s\n",
      "[CV] END max_depth=4, min_samples_leaf=10, min_samples_split=51; total time=   0.0s\n",
      "[CV] END max_depth=4, min_samples_leaf=10, min_samples_split=51; total time=   0.0s\n",
      "[CV] END max_depth=4, min_samples_leaf=10, min_samples_split=51; total time=   0.0s\n",
      "[CV] END max_depth=4, min_samples_leaf=10, min_samples_split=51; total time=   0.0s\n",
      "[CV] END max_depth=4, min_samples_leaf=10, min_samples_split=51; total time=   0.0s\n",
      "[CV] END max_depth=4, min_samples_leaf=15, min_samples_split=10; total time=   0.0s\n",
      "[CV] END max_depth=4, min_samples_leaf=15, min_samples_split=10; total time=   0.0s\n",
      "[CV] END max_depth=4, min_samples_leaf=15, min_samples_split=10; total time=   0.0s\n",
      "[CV] END max_depth=4, min_samples_leaf=15, min_samples_split=10; total time=   0.0s\n",
      "[CV] END max_depth=4, min_samples_leaf=15, min_samples_split=10; total time=   0.0s\n",
      "[CV] END max_depth=4, min_samples_leaf=15, min_samples_split=10; total time=   0.0s\n",
      "[CV] END max_depth=4, min_samples_leaf=15, min_samples_split=10; total time=   0.0s\n",
      "[CV] END max_depth=4, min_samples_leaf=15, min_samples_split=10; total time=   0.0s\n",
      "[CV] END max_depth=4, min_samples_leaf=15, min_samples_split=10; total time=   0.0s\n",
      "[CV] END max_depth=4, min_samples_leaf=15, min_samples_split=10; total time=   0.0s\n",
      "[CV] END max_depth=4, min_samples_leaf=15, min_samples_split=20; total time=   0.0s\n",
      "[CV] END max_depth=4, min_samples_leaf=15, min_samples_split=20; total time=   0.0s\n",
      "[CV] END max_depth=4, min_samples_leaf=15, min_samples_split=20; total time=   0.0s\n",
      "[CV] END max_depth=4, min_samples_leaf=15, min_samples_split=20; total time=   0.0s\n",
      "[CV] END max_depth=4, min_samples_leaf=15, min_samples_split=20; total time=   0.0s\n",
      "[CV] END max_depth=4, min_samples_leaf=15, min_samples_split=20; total time=   0.0s\n",
      "[CV] END max_depth=4, min_samples_leaf=15, min_samples_split=20; total time=   0.0s\n",
      "[CV] END max_depth=4, min_samples_leaf=15, min_samples_split=20; total time=   0.0s\n",
      "[CV] END max_depth=4, min_samples_leaf=15, min_samples_split=20; total time=   0.0s\n",
      "[CV] END max_depth=4, min_samples_leaf=15, min_samples_split=20; total time=   0.0s\n",
      "[CV] END max_depth=4, min_samples_leaf=15, min_samples_split=50; total time=   0.0s\n",
      "[CV] END max_depth=4, min_samples_leaf=15, min_samples_split=50; total time=   0.0s\n",
      "[CV] END max_depth=4, min_samples_leaf=15, min_samples_split=50; total time=   0.0s\n",
      "[CV] END max_depth=4, min_samples_leaf=15, min_samples_split=50; total time=   0.0s\n",
      "[CV] END max_depth=4, min_samples_leaf=15, min_samples_split=50; total time=   0.0s\n",
      "[CV] END max_depth=4, min_samples_leaf=15, min_samples_split=50; total time=   0.0s\n",
      "[CV] END max_depth=4, min_samples_leaf=15, min_samples_split=50; total time=   0.0s\n",
      "[CV] END max_depth=4, min_samples_leaf=15, min_samples_split=50; total time=   0.0s\n",
      "[CV] END max_depth=4, min_samples_leaf=15, min_samples_split=50; total time=   0.0s\n",
      "[CV] END max_depth=4, min_samples_leaf=15, min_samples_split=50; total time=   0.0s\n",
      "[CV] END max_depth=4, min_samples_leaf=15, min_samples_split=51; total time=   0.0s\n",
      "[CV] END max_depth=4, min_samples_leaf=15, min_samples_split=51; total time=   0.0s\n",
      "[CV] END max_depth=4, min_samples_leaf=15, min_samples_split=51; total time=   0.0s\n",
      "[CV] END max_depth=4, min_samples_leaf=15, min_samples_split=51; total time=   0.0s\n",
      "[CV] END max_depth=4, min_samples_leaf=15, min_samples_split=51; total time=   0.0s\n",
      "[CV] END max_depth=4, min_samples_leaf=15, min_samples_split=51; total time=   0.0s\n",
      "[CV] END max_depth=4, min_samples_leaf=15, min_samples_split=51; total time=   0.0s\n",
      "[CV] END max_depth=4, min_samples_leaf=15, min_samples_split=51; total time=   0.0s\n",
      "[CV] END max_depth=4, min_samples_leaf=15, min_samples_split=51; total time=   0.0s\n",
      "[CV] END max_depth=4, min_samples_leaf=15, min_samples_split=51; total time=   0.0s\n",
      "[CV] END max_depth=5, min_samples_leaf=2, min_samples_split=10; total time=   0.0s\n",
      "[CV] END max_depth=5, min_samples_leaf=2, min_samples_split=10; total time=   0.0s\n",
      "[CV] END max_depth=5, min_samples_leaf=2, min_samples_split=10; total time=   0.0s\n",
      "[CV] END max_depth=5, min_samples_leaf=2, min_samples_split=10; total time=   0.0s\n",
      "[CV] END max_depth=5, min_samples_leaf=2, min_samples_split=10; total time=   0.0s\n",
      "[CV] END max_depth=5, min_samples_leaf=2, min_samples_split=10; total time=   0.0s\n",
      "[CV] END max_depth=5, min_samples_leaf=2, min_samples_split=10; total time=   0.0s\n",
      "[CV] END max_depth=5, min_samples_leaf=2, min_samples_split=10; total time=   0.0s\n",
      "[CV] END max_depth=5, min_samples_leaf=2, min_samples_split=10; total time=   0.0s\n",
      "[CV] END max_depth=5, min_samples_leaf=2, min_samples_split=10; total time=   0.0s\n",
      "[CV] END max_depth=5, min_samples_leaf=2, min_samples_split=20; total time=   0.0s\n",
      "[CV] END max_depth=5, min_samples_leaf=2, min_samples_split=20; total time=   0.0s\n",
      "[CV] END max_depth=5, min_samples_leaf=2, min_samples_split=20; total time=   0.0s\n",
      "[CV] END max_depth=5, min_samples_leaf=2, min_samples_split=20; total time=   0.0s\n",
      "[CV] END max_depth=5, min_samples_leaf=2, min_samples_split=20; total time=   0.0s\n",
      "[CV] END max_depth=5, min_samples_leaf=2, min_samples_split=20; total time=   0.0s\n",
      "[CV] END max_depth=5, min_samples_leaf=2, min_samples_split=20; total time=   0.0s\n",
      "[CV] END max_depth=5, min_samples_leaf=2, min_samples_split=20; total time=   0.0s\n",
      "[CV] END max_depth=5, min_samples_leaf=2, min_samples_split=20; total time=   0.0s\n",
      "[CV] END max_depth=5, min_samples_leaf=2, min_samples_split=20; total time=   0.0s\n",
      "[CV] END max_depth=5, min_samples_leaf=2, min_samples_split=50; total time=   0.0s\n",
      "[CV] END max_depth=5, min_samples_leaf=2, min_samples_split=50; total time=   0.0s\n",
      "[CV] END max_depth=5, min_samples_leaf=2, min_samples_split=50; total time=   0.0s\n",
      "[CV] END max_depth=5, min_samples_leaf=2, min_samples_split=50; total time=   0.0s\n",
      "[CV] END max_depth=5, min_samples_leaf=2, min_samples_split=50; total time=   0.0s\n",
      "[CV] END max_depth=5, min_samples_leaf=2, min_samples_split=50; total time=   0.0s\n",
      "[CV] END max_depth=5, min_samples_leaf=2, min_samples_split=50; total time=   0.0s\n",
      "[CV] END max_depth=5, min_samples_leaf=2, min_samples_split=50; total time=   0.0s\n",
      "[CV] END max_depth=5, min_samples_leaf=2, min_samples_split=50; total time=   0.0s\n",
      "[CV] END max_depth=5, min_samples_leaf=2, min_samples_split=50; total time=   0.0s\n",
      "[CV] END max_depth=5, min_samples_leaf=2, min_samples_split=51; total time=   0.0s\n",
      "[CV] END max_depth=5, min_samples_leaf=2, min_samples_split=51; total time=   0.0s\n",
      "[CV] END max_depth=5, min_samples_leaf=2, min_samples_split=51; total time=   0.0s\n",
      "[CV] END max_depth=5, min_samples_leaf=2, min_samples_split=51; total time=   0.0s\n",
      "[CV] END max_depth=5, min_samples_leaf=2, min_samples_split=51; total time=   0.0s\n",
      "[CV] END max_depth=5, min_samples_leaf=2, min_samples_split=51; total time=   0.0s\n",
      "[CV] END max_depth=5, min_samples_leaf=2, min_samples_split=51; total time=   0.0s\n",
      "[CV] END max_depth=5, min_samples_leaf=2, min_samples_split=51; total time=   0.0s\n",
      "[CV] END max_depth=5, min_samples_leaf=2, min_samples_split=51; total time=   0.0s\n",
      "[CV] END max_depth=5, min_samples_leaf=2, min_samples_split=51; total time=   0.0s\n",
      "[CV] END max_depth=5, min_samples_leaf=5, min_samples_split=10; total time=   0.0s\n",
      "[CV] END max_depth=5, min_samples_leaf=5, min_samples_split=10; total time=   0.0s\n",
      "[CV] END max_depth=5, min_samples_leaf=5, min_samples_split=10; total time=   0.0s\n",
      "[CV] END max_depth=5, min_samples_leaf=5, min_samples_split=10; total time=   0.0s\n",
      "[CV] END max_depth=5, min_samples_leaf=5, min_samples_split=10; total time=   0.0s\n",
      "[CV] END max_depth=5, min_samples_leaf=5, min_samples_split=10; total time=   0.0s\n",
      "[CV] END max_depth=5, min_samples_leaf=5, min_samples_split=10; total time=   0.0s\n",
      "[CV] END max_depth=5, min_samples_leaf=5, min_samples_split=10; total time=   0.0s\n",
      "[CV] END max_depth=5, min_samples_leaf=5, min_samples_split=10; total time=   0.0s\n",
      "[CV] END max_depth=5, min_samples_leaf=5, min_samples_split=10; total time=   0.0s\n",
      "[CV] END max_depth=5, min_samples_leaf=5, min_samples_split=20; total time=   0.0s\n",
      "[CV] END max_depth=5, min_samples_leaf=5, min_samples_split=20; total time=   0.0s\n",
      "[CV] END max_depth=5, min_samples_leaf=5, min_samples_split=20; total time=   0.0s\n",
      "[CV] END max_depth=5, min_samples_leaf=5, min_samples_split=20; total time=   0.0s\n",
      "[CV] END max_depth=5, min_samples_leaf=5, min_samples_split=20; total time=   0.0s\n",
      "[CV] END max_depth=5, min_samples_leaf=5, min_samples_split=20; total time=   0.0s\n",
      "[CV] END max_depth=5, min_samples_leaf=5, min_samples_split=20; total time=   0.0s\n",
      "[CV] END max_depth=5, min_samples_leaf=5, min_samples_split=20; total time=   0.0s\n",
      "[CV] END max_depth=5, min_samples_leaf=5, min_samples_split=20; total time=   0.0s\n",
      "[CV] END max_depth=5, min_samples_leaf=5, min_samples_split=20; total time=   0.0s\n",
      "[CV] END max_depth=5, min_samples_leaf=5, min_samples_split=50; total time=   0.0s\n",
      "[CV] END max_depth=5, min_samples_leaf=5, min_samples_split=50; total time=   0.0s\n",
      "[CV] END max_depth=5, min_samples_leaf=5, min_samples_split=50; total time=   0.0s\n",
      "[CV] END max_depth=5, min_samples_leaf=5, min_samples_split=50; total time=   0.0s\n",
      "[CV] END max_depth=5, min_samples_leaf=5, min_samples_split=50; total time=   0.0s\n",
      "[CV] END max_depth=5, min_samples_leaf=5, min_samples_split=50; total time=   0.0s\n",
      "[CV] END max_depth=5, min_samples_leaf=5, min_samples_split=50; total time=   0.0s\n",
      "[CV] END max_depth=5, min_samples_leaf=5, min_samples_split=50; total time=   0.0s\n",
      "[CV] END max_depth=5, min_samples_leaf=5, min_samples_split=50; total time=   0.0s\n",
      "[CV] END max_depth=5, min_samples_leaf=5, min_samples_split=50; total time=   0.0s\n",
      "[CV] END max_depth=5, min_samples_leaf=5, min_samples_split=51; total time=   0.0s\n",
      "[CV] END max_depth=5, min_samples_leaf=5, min_samples_split=51; total time=   0.0s\n",
      "[CV] END max_depth=5, min_samples_leaf=5, min_samples_split=51; total time=   0.0s\n",
      "[CV] END max_depth=5, min_samples_leaf=5, min_samples_split=51; total time=   0.0s\n",
      "[CV] END max_depth=5, min_samples_leaf=5, min_samples_split=51; total time=   0.0s\n",
      "[CV] END max_depth=5, min_samples_leaf=5, min_samples_split=51; total time=   0.0s\n",
      "[CV] END max_depth=5, min_samples_leaf=5, min_samples_split=51; total time=   0.0s\n",
      "[CV] END max_depth=5, min_samples_leaf=5, min_samples_split=51; total time=   0.0s\n",
      "[CV] END max_depth=5, min_samples_leaf=5, min_samples_split=51; total time=   0.0s\n",
      "[CV] END max_depth=5, min_samples_leaf=5, min_samples_split=51; total time=   0.0s\n",
      "[CV] END max_depth=5, min_samples_leaf=10, min_samples_split=10; total time=   0.0s\n",
      "[CV] END max_depth=5, min_samples_leaf=10, min_samples_split=10; total time=   0.0s\n",
      "[CV] END max_depth=5, min_samples_leaf=10, min_samples_split=10; total time=   0.0s\n",
      "[CV] END max_depth=5, min_samples_leaf=10, min_samples_split=10; total time=   0.0s\n",
      "[CV] END max_depth=5, min_samples_leaf=10, min_samples_split=10; total time=   0.0s\n",
      "[CV] END max_depth=5, min_samples_leaf=10, min_samples_split=10; total time=   0.0s\n",
      "[CV] END max_depth=5, min_samples_leaf=10, min_samples_split=10; total time=   0.0s\n",
      "[CV] END max_depth=5, min_samples_leaf=10, min_samples_split=10; total time=   0.0s\n",
      "[CV] END max_depth=5, min_samples_leaf=10, min_samples_split=10; total time=   0.0s\n",
      "[CV] END max_depth=5, min_samples_leaf=10, min_samples_split=10; total time=   0.0s\n",
      "[CV] END max_depth=5, min_samples_leaf=10, min_samples_split=20; total time=   0.0s\n",
      "[CV] END max_depth=5, min_samples_leaf=10, min_samples_split=20; total time=   0.0s\n",
      "[CV] END max_depth=5, min_samples_leaf=10, min_samples_split=20; total time=   0.0s\n",
      "[CV] END max_depth=5, min_samples_leaf=10, min_samples_split=20; total time=   0.0s\n",
      "[CV] END max_depth=5, min_samples_leaf=10, min_samples_split=20; total time=   0.0s\n",
      "[CV] END max_depth=5, min_samples_leaf=10, min_samples_split=20; total time=   0.0s\n",
      "[CV] END max_depth=5, min_samples_leaf=10, min_samples_split=20; total time=   0.0s\n",
      "[CV] END max_depth=5, min_samples_leaf=10, min_samples_split=20; total time=   0.0s\n",
      "[CV] END max_depth=5, min_samples_leaf=10, min_samples_split=20; total time=   0.0s\n",
      "[CV] END max_depth=5, min_samples_leaf=10, min_samples_split=20; total time=   0.0s\n",
      "[CV] END max_depth=5, min_samples_leaf=10, min_samples_split=50; total time=   0.0s\n",
      "[CV] END max_depth=5, min_samples_leaf=10, min_samples_split=50; total time=   0.0s\n",
      "[CV] END max_depth=5, min_samples_leaf=10, min_samples_split=50; total time=   0.0s\n",
      "[CV] END max_depth=5, min_samples_leaf=10, min_samples_split=50; total time=   0.0s\n",
      "[CV] END max_depth=5, min_samples_leaf=10, min_samples_split=50; total time=   0.0s\n",
      "[CV] END max_depth=5, min_samples_leaf=10, min_samples_split=50; total time=   0.0s\n",
      "[CV] END max_depth=5, min_samples_leaf=10, min_samples_split=50; total time=   0.0s\n",
      "[CV] END max_depth=5, min_samples_leaf=10, min_samples_split=50; total time=   0.0s\n",
      "[CV] END max_depth=5, min_samples_leaf=10, min_samples_split=50; total time=   0.0s\n",
      "[CV] END max_depth=5, min_samples_leaf=10, min_samples_split=50; total time=   0.0s\n",
      "[CV] END max_depth=5, min_samples_leaf=10, min_samples_split=51; total time=   0.0s\n",
      "[CV] END max_depth=5, min_samples_leaf=10, min_samples_split=51; total time=   0.0s\n",
      "[CV] END max_depth=5, min_samples_leaf=10, min_samples_split=51; total time=   0.0s\n",
      "[CV] END max_depth=5, min_samples_leaf=10, min_samples_split=51; total time=   0.0s\n",
      "[CV] END max_depth=5, min_samples_leaf=10, min_samples_split=51; total time=   0.0s\n",
      "[CV] END max_depth=5, min_samples_leaf=10, min_samples_split=51; total time=   0.0s\n",
      "[CV] END max_depth=5, min_samples_leaf=10, min_samples_split=51; total time=   0.0s\n",
      "[CV] END max_depth=5, min_samples_leaf=10, min_samples_split=51; total time=   0.0s\n",
      "[CV] END max_depth=5, min_samples_leaf=10, min_samples_split=51; total time=   0.0s\n",
      "[CV] END max_depth=5, min_samples_leaf=10, min_samples_split=51; total time=   0.0s\n",
      "[CV] END max_depth=5, min_samples_leaf=15, min_samples_split=10; total time=   0.0s\n",
      "[CV] END max_depth=5, min_samples_leaf=15, min_samples_split=10; total time=   0.0s\n",
      "[CV] END max_depth=5, min_samples_leaf=15, min_samples_split=10; total time=   0.0s\n",
      "[CV] END max_depth=5, min_samples_leaf=15, min_samples_split=10; total time=   0.0s\n",
      "[CV] END max_depth=5, min_samples_leaf=15, min_samples_split=10; total time=   0.0s\n",
      "[CV] END max_depth=5, min_samples_leaf=15, min_samples_split=10; total time=   0.0s\n",
      "[CV] END max_depth=5, min_samples_leaf=15, min_samples_split=10; total time=   0.0s\n",
      "[CV] END max_depth=5, min_samples_leaf=15, min_samples_split=10; total time=   0.0s\n",
      "[CV] END max_depth=5, min_samples_leaf=15, min_samples_split=10; total time=   0.0s\n",
      "[CV] END max_depth=5, min_samples_leaf=15, min_samples_split=10; total time=   0.0s\n",
      "[CV] END max_depth=5, min_samples_leaf=15, min_samples_split=20; total time=   0.0s\n",
      "[CV] END max_depth=5, min_samples_leaf=15, min_samples_split=20; total time=   0.0s\n",
      "[CV] END max_depth=5, min_samples_leaf=15, min_samples_split=20; total time=   0.0s\n",
      "[CV] END max_depth=5, min_samples_leaf=15, min_samples_split=20; total time=   0.0s\n",
      "[CV] END max_depth=5, min_samples_leaf=15, min_samples_split=20; total time=   0.0s\n",
      "[CV] END max_depth=5, min_samples_leaf=15, min_samples_split=20; total time=   0.0s\n",
      "[CV] END max_depth=5, min_samples_leaf=15, min_samples_split=20; total time=   0.0s\n",
      "[CV] END max_depth=5, min_samples_leaf=15, min_samples_split=20; total time=   0.0s\n",
      "[CV] END max_depth=5, min_samples_leaf=15, min_samples_split=20; total time=   0.0s\n",
      "[CV] END max_depth=5, min_samples_leaf=15, min_samples_split=20; total time=   0.0s\n",
      "[CV] END max_depth=5, min_samples_leaf=15, min_samples_split=50; total time=   0.0s\n",
      "[CV] END max_depth=5, min_samples_leaf=15, min_samples_split=50; total time=   0.0s\n",
      "[CV] END max_depth=5, min_samples_leaf=15, min_samples_split=50; total time=   0.0s\n",
      "[CV] END max_depth=5, min_samples_leaf=15, min_samples_split=50; total time=   0.0s\n",
      "[CV] END max_depth=5, min_samples_leaf=15, min_samples_split=50; total time=   0.0s\n",
      "[CV] END max_depth=5, min_samples_leaf=15, min_samples_split=50; total time=   0.0s\n",
      "[CV] END max_depth=5, min_samples_leaf=15, min_samples_split=50; total time=   0.0s\n",
      "[CV] END max_depth=5, min_samples_leaf=15, min_samples_split=50; total time=   0.0s\n",
      "[CV] END max_depth=5, min_samples_leaf=15, min_samples_split=50; total time=   0.0s\n",
      "[CV] END max_depth=5, min_samples_leaf=15, min_samples_split=50; total time=   0.0s\n",
      "[CV] END max_depth=5, min_samples_leaf=15, min_samples_split=51; total time=   0.0s\n",
      "[CV] END max_depth=5, min_samples_leaf=15, min_samples_split=51; total time=   0.0s\n",
      "[CV] END max_depth=5, min_samples_leaf=15, min_samples_split=51; total time=   0.0s\n",
      "[CV] END max_depth=5, min_samples_leaf=15, min_samples_split=51; total time=   0.0s\n",
      "[CV] END max_depth=5, min_samples_leaf=15, min_samples_split=51; total time=   0.0s\n",
      "[CV] END max_depth=5, min_samples_leaf=15, min_samples_split=51; total time=   0.0s\n",
      "[CV] END max_depth=5, min_samples_leaf=15, min_samples_split=51; total time=   0.0s\n",
      "[CV] END max_depth=5, min_samples_leaf=15, min_samples_split=51; total time=   0.0s\n",
      "[CV] END max_depth=5, min_samples_leaf=15, min_samples_split=51; total time=   0.0s\n",
      "[CV] END max_depth=5, min_samples_leaf=15, min_samples_split=51; total time=   0.0s\n",
      "[CV] END max_depth=6, min_samples_leaf=2, min_samples_split=10; total time=   0.0s\n",
      "[CV] END max_depth=6, min_samples_leaf=2, min_samples_split=10; total time=   0.0s\n",
      "[CV] END max_depth=6, min_samples_leaf=2, min_samples_split=10; total time=   0.0s\n",
      "[CV] END max_depth=6, min_samples_leaf=2, min_samples_split=10; total time=   0.0s\n",
      "[CV] END max_depth=6, min_samples_leaf=2, min_samples_split=10; total time=   0.0s\n",
      "[CV] END max_depth=6, min_samples_leaf=2, min_samples_split=10; total time=   0.0s\n",
      "[CV] END max_depth=6, min_samples_leaf=2, min_samples_split=10; total time=   0.0s\n",
      "[CV] END max_depth=6, min_samples_leaf=2, min_samples_split=10; total time=   0.0s\n",
      "[CV] END max_depth=6, min_samples_leaf=2, min_samples_split=10; total time=   0.0s\n",
      "[CV] END max_depth=6, min_samples_leaf=2, min_samples_split=10; total time=   0.0s\n",
      "[CV] END max_depth=6, min_samples_leaf=2, min_samples_split=20; total time=   0.0s\n",
      "[CV] END max_depth=6, min_samples_leaf=2, min_samples_split=20; total time=   0.0s\n",
      "[CV] END max_depth=6, min_samples_leaf=2, min_samples_split=20; total time=   0.0s\n",
      "[CV] END max_depth=6, min_samples_leaf=2, min_samples_split=20; total time=   0.0s\n",
      "[CV] END max_depth=6, min_samples_leaf=2, min_samples_split=20; total time=   0.0s\n",
      "[CV] END max_depth=6, min_samples_leaf=2, min_samples_split=20; total time=   0.0s\n",
      "[CV] END max_depth=6, min_samples_leaf=2, min_samples_split=20; total time=   0.0s\n",
      "[CV] END max_depth=6, min_samples_leaf=2, min_samples_split=20; total time=   0.0s\n",
      "[CV] END max_depth=6, min_samples_leaf=2, min_samples_split=20; total time=   0.0s\n",
      "[CV] END max_depth=6, min_samples_leaf=2, min_samples_split=20; total time=   0.0s\n",
      "[CV] END max_depth=6, min_samples_leaf=2, min_samples_split=50; total time=   0.0s\n",
      "[CV] END max_depth=6, min_samples_leaf=2, min_samples_split=50; total time=   0.0s\n",
      "[CV] END max_depth=6, min_samples_leaf=2, min_samples_split=50; total time=   0.0s\n",
      "[CV] END max_depth=6, min_samples_leaf=2, min_samples_split=50; total time=   0.0s\n",
      "[CV] END max_depth=6, min_samples_leaf=2, min_samples_split=50; total time=   0.0s\n",
      "[CV] END max_depth=6, min_samples_leaf=2, min_samples_split=50; total time=   0.0s\n",
      "[CV] END max_depth=6, min_samples_leaf=2, min_samples_split=50; total time=   0.0s\n",
      "[CV] END max_depth=6, min_samples_leaf=2, min_samples_split=50; total time=   0.0s\n",
      "[CV] END max_depth=6, min_samples_leaf=2, min_samples_split=50; total time=   0.0s\n",
      "[CV] END max_depth=6, min_samples_leaf=2, min_samples_split=50; total time=   0.0s\n",
      "[CV] END max_depth=6, min_samples_leaf=2, min_samples_split=51; total time=   0.0s\n",
      "[CV] END max_depth=6, min_samples_leaf=2, min_samples_split=51; total time=   0.0s\n",
      "[CV] END max_depth=6, min_samples_leaf=2, min_samples_split=51; total time=   0.0s\n",
      "[CV] END max_depth=6, min_samples_leaf=2, min_samples_split=51; total time=   0.0s\n",
      "[CV] END max_depth=6, min_samples_leaf=2, min_samples_split=51; total time=   0.0s\n",
      "[CV] END max_depth=6, min_samples_leaf=2, min_samples_split=51; total time=   0.0s\n",
      "[CV] END max_depth=6, min_samples_leaf=2, min_samples_split=51; total time=   0.0s\n",
      "[CV] END max_depth=6, min_samples_leaf=2, min_samples_split=51; total time=   0.0s\n",
      "[CV] END max_depth=6, min_samples_leaf=2, min_samples_split=51; total time=   0.0s\n",
      "[CV] END max_depth=6, min_samples_leaf=2, min_samples_split=51; total time=   0.0s\n",
      "[CV] END max_depth=6, min_samples_leaf=5, min_samples_split=10; total time=   0.0s\n",
      "[CV] END max_depth=6, min_samples_leaf=5, min_samples_split=10; total time=   0.0s\n",
      "[CV] END max_depth=6, min_samples_leaf=5, min_samples_split=10; total time=   0.0s\n",
      "[CV] END max_depth=6, min_samples_leaf=5, min_samples_split=10; total time=   0.0s\n",
      "[CV] END max_depth=6, min_samples_leaf=5, min_samples_split=10; total time=   0.0s\n",
      "[CV] END max_depth=6, min_samples_leaf=5, min_samples_split=10; total time=   0.0s\n",
      "[CV] END max_depth=6, min_samples_leaf=5, min_samples_split=10; total time=   0.0s\n",
      "[CV] END max_depth=6, min_samples_leaf=5, min_samples_split=10; total time=   0.0s\n",
      "[CV] END max_depth=6, min_samples_leaf=5, min_samples_split=10; total time=   0.0s\n",
      "[CV] END max_depth=6, min_samples_leaf=5, min_samples_split=10; total time=   0.0s\n",
      "[CV] END max_depth=6, min_samples_leaf=5, min_samples_split=20; total time=   0.0s\n",
      "[CV] END max_depth=6, min_samples_leaf=5, min_samples_split=20; total time=   0.0s\n",
      "[CV] END max_depth=6, min_samples_leaf=5, min_samples_split=20; total time=   0.0s\n",
      "[CV] END max_depth=6, min_samples_leaf=5, min_samples_split=20; total time=   0.0s\n",
      "[CV] END max_depth=6, min_samples_leaf=5, min_samples_split=20; total time=   0.0s\n",
      "[CV] END max_depth=6, min_samples_leaf=5, min_samples_split=20; total time=   0.0s\n",
      "[CV] END max_depth=6, min_samples_leaf=5, min_samples_split=20; total time=   0.0s\n",
      "[CV] END max_depth=6, min_samples_leaf=5, min_samples_split=20; total time=   0.0s\n",
      "[CV] END max_depth=6, min_samples_leaf=5, min_samples_split=20; total time=   0.0s\n",
      "[CV] END max_depth=6, min_samples_leaf=5, min_samples_split=20; total time=   0.0s\n",
      "[CV] END max_depth=6, min_samples_leaf=5, min_samples_split=50; total time=   0.0s\n",
      "[CV] END max_depth=6, min_samples_leaf=5, min_samples_split=50; total time=   0.0s\n",
      "[CV] END max_depth=6, min_samples_leaf=5, min_samples_split=50; total time=   0.0s\n",
      "[CV] END max_depth=6, min_samples_leaf=5, min_samples_split=50; total time=   0.0s\n",
      "[CV] END max_depth=6, min_samples_leaf=5, min_samples_split=50; total time=   0.0s\n",
      "[CV] END max_depth=6, min_samples_leaf=5, min_samples_split=50; total time=   0.0s\n",
      "[CV] END max_depth=6, min_samples_leaf=5, min_samples_split=50; total time=   0.0s\n",
      "[CV] END max_depth=6, min_samples_leaf=5, min_samples_split=50; total time=   0.0s\n",
      "[CV] END max_depth=6, min_samples_leaf=5, min_samples_split=50; total time=   0.0s\n",
      "[CV] END max_depth=6, min_samples_leaf=5, min_samples_split=50; total time=   0.0s\n",
      "[CV] END max_depth=6, min_samples_leaf=5, min_samples_split=51; total time=   0.0s\n",
      "[CV] END max_depth=6, min_samples_leaf=5, min_samples_split=51; total time=   0.0s\n",
      "[CV] END max_depth=6, min_samples_leaf=5, min_samples_split=51; total time=   0.0s\n",
      "[CV] END max_depth=6, min_samples_leaf=5, min_samples_split=51; total time=   0.0s\n",
      "[CV] END max_depth=6, min_samples_leaf=5, min_samples_split=51; total time=   0.0s\n",
      "[CV] END max_depth=6, min_samples_leaf=5, min_samples_split=51; total time=   0.0s\n",
      "[CV] END max_depth=6, min_samples_leaf=5, min_samples_split=51; total time=   0.0s\n",
      "[CV] END max_depth=6, min_samples_leaf=5, min_samples_split=51; total time=   0.0s\n",
      "[CV] END max_depth=6, min_samples_leaf=5, min_samples_split=51; total time=   0.0s\n",
      "[CV] END max_depth=6, min_samples_leaf=5, min_samples_split=51; total time=   0.0s\n",
      "[CV] END max_depth=6, min_samples_leaf=10, min_samples_split=10; total time=   0.0s\n",
      "[CV] END max_depth=6, min_samples_leaf=10, min_samples_split=10; total time=   0.0s\n",
      "[CV] END max_depth=6, min_samples_leaf=10, min_samples_split=10; total time=   0.0s\n",
      "[CV] END max_depth=6, min_samples_leaf=10, min_samples_split=10; total time=   0.0s\n",
      "[CV] END max_depth=6, min_samples_leaf=10, min_samples_split=10; total time=   0.0s\n",
      "[CV] END max_depth=6, min_samples_leaf=10, min_samples_split=10; total time=   0.0s\n",
      "[CV] END max_depth=6, min_samples_leaf=10, min_samples_split=10; total time=   0.0s\n",
      "[CV] END max_depth=6, min_samples_leaf=10, min_samples_split=10; total time=   0.0s\n",
      "[CV] END max_depth=6, min_samples_leaf=10, min_samples_split=10; total time=   0.0s\n",
      "[CV] END max_depth=6, min_samples_leaf=10, min_samples_split=10; total time=   0.0s\n",
      "[CV] END max_depth=6, min_samples_leaf=10, min_samples_split=20; total time=   0.0s\n",
      "[CV] END max_depth=6, min_samples_leaf=10, min_samples_split=20; total time=   0.0s\n",
      "[CV] END max_depth=6, min_samples_leaf=10, min_samples_split=20; total time=   0.0s\n",
      "[CV] END max_depth=6, min_samples_leaf=10, min_samples_split=20; total time=   0.0s\n",
      "[CV] END max_depth=6, min_samples_leaf=10, min_samples_split=20; total time=   0.0s\n",
      "[CV] END max_depth=6, min_samples_leaf=10, min_samples_split=20; total time=   0.0s\n",
      "[CV] END max_depth=6, min_samples_leaf=10, min_samples_split=20; total time=   0.0s\n",
      "[CV] END max_depth=6, min_samples_leaf=10, min_samples_split=20; total time=   0.0s\n",
      "[CV] END max_depth=6, min_samples_leaf=10, min_samples_split=20; total time=   0.0s\n",
      "[CV] END max_depth=6, min_samples_leaf=10, min_samples_split=20; total time=   0.0s\n",
      "[CV] END max_depth=6, min_samples_leaf=10, min_samples_split=50; total time=   0.0s\n",
      "[CV] END max_depth=6, min_samples_leaf=10, min_samples_split=50; total time=   0.0s\n",
      "[CV] END max_depth=6, min_samples_leaf=10, min_samples_split=50; total time=   0.0s\n",
      "[CV] END max_depth=6, min_samples_leaf=10, min_samples_split=50; total time=   0.0s\n",
      "[CV] END max_depth=6, min_samples_leaf=10, min_samples_split=50; total time=   0.0s\n",
      "[CV] END max_depth=6, min_samples_leaf=10, min_samples_split=50; total time=   0.0s\n",
      "[CV] END max_depth=6, min_samples_leaf=10, min_samples_split=50; total time=   0.0s\n",
      "[CV] END max_depth=6, min_samples_leaf=10, min_samples_split=50; total time=   0.0s\n",
      "[CV] END max_depth=6, min_samples_leaf=10, min_samples_split=50; total time=   0.0s\n",
      "[CV] END max_depth=6, min_samples_leaf=10, min_samples_split=50; total time=   0.0s\n",
      "[CV] END max_depth=6, min_samples_leaf=10, min_samples_split=51; total time=   0.0s\n",
      "[CV] END max_depth=6, min_samples_leaf=10, min_samples_split=51; total time=   0.0s\n",
      "[CV] END max_depth=6, min_samples_leaf=10, min_samples_split=51; total time=   0.0s\n",
      "[CV] END max_depth=6, min_samples_leaf=10, min_samples_split=51; total time=   0.0s\n",
      "[CV] END max_depth=6, min_samples_leaf=10, min_samples_split=51; total time=   0.0s\n",
      "[CV] END max_depth=6, min_samples_leaf=10, min_samples_split=51; total time=   0.0s\n",
      "[CV] END max_depth=6, min_samples_leaf=10, min_samples_split=51; total time=   0.0s\n",
      "[CV] END max_depth=6, min_samples_leaf=10, min_samples_split=51; total time=   0.0s\n",
      "[CV] END max_depth=6, min_samples_leaf=10, min_samples_split=51; total time=   0.0s\n",
      "[CV] END max_depth=6, min_samples_leaf=10, min_samples_split=51; total time=   0.0s\n",
      "[CV] END max_depth=6, min_samples_leaf=15, min_samples_split=10; total time=   0.0s\n",
      "[CV] END max_depth=6, min_samples_leaf=15, min_samples_split=10; total time=   0.0s\n",
      "[CV] END max_depth=6, min_samples_leaf=15, min_samples_split=10; total time=   0.0s\n",
      "[CV] END max_depth=6, min_samples_leaf=15, min_samples_split=10; total time=   0.0s\n",
      "[CV] END max_depth=6, min_samples_leaf=15, min_samples_split=10; total time=   0.0s\n",
      "[CV] END max_depth=6, min_samples_leaf=15, min_samples_split=10; total time=   0.0s\n",
      "[CV] END max_depth=6, min_samples_leaf=15, min_samples_split=10; total time=   0.0s\n",
      "[CV] END max_depth=6, min_samples_leaf=15, min_samples_split=10; total time=   0.0s\n",
      "[CV] END max_depth=6, min_samples_leaf=15, min_samples_split=10; total time=   0.0s\n",
      "[CV] END max_depth=6, min_samples_leaf=15, min_samples_split=10; total time=   0.0s\n",
      "[CV] END max_depth=6, min_samples_leaf=15, min_samples_split=20; total time=   0.0s\n",
      "[CV] END max_depth=6, min_samples_leaf=15, min_samples_split=20; total time=   0.0s\n",
      "[CV] END max_depth=6, min_samples_leaf=15, min_samples_split=20; total time=   0.0s\n",
      "[CV] END max_depth=6, min_samples_leaf=15, min_samples_split=20; total time=   0.0s\n",
      "[CV] END max_depth=6, min_samples_leaf=15, min_samples_split=20; total time=   0.0s\n",
      "[CV] END max_depth=6, min_samples_leaf=15, min_samples_split=20; total time=   0.0s\n",
      "[CV] END max_depth=6, min_samples_leaf=15, min_samples_split=20; total time=   0.0s\n",
      "[CV] END max_depth=6, min_samples_leaf=15, min_samples_split=20; total time=   0.0s\n",
      "[CV] END max_depth=6, min_samples_leaf=15, min_samples_split=20; total time=   0.0s\n",
      "[CV] END max_depth=6, min_samples_leaf=15, min_samples_split=20; total time=   0.0s\n",
      "[CV] END max_depth=6, min_samples_leaf=15, min_samples_split=50; total time=   0.0s\n",
      "[CV] END max_depth=6, min_samples_leaf=15, min_samples_split=50; total time=   0.0s\n",
      "[CV] END max_depth=6, min_samples_leaf=15, min_samples_split=50; total time=   0.0s\n",
      "[CV] END max_depth=6, min_samples_leaf=15, min_samples_split=50; total time=   0.0s\n",
      "[CV] END max_depth=6, min_samples_leaf=15, min_samples_split=50; total time=   0.0s\n",
      "[CV] END max_depth=6, min_samples_leaf=15, min_samples_split=50; total time=   0.0s\n",
      "[CV] END max_depth=6, min_samples_leaf=15, min_samples_split=50; total time=   0.0s\n",
      "[CV] END max_depth=6, min_samples_leaf=15, min_samples_split=50; total time=   0.0s\n",
      "[CV] END max_depth=6, min_samples_leaf=15, min_samples_split=50; total time=   0.0s\n",
      "[CV] END max_depth=6, min_samples_leaf=15, min_samples_split=50; total time=   0.0s\n",
      "[CV] END max_depth=6, min_samples_leaf=15, min_samples_split=51; total time=   0.0s\n",
      "[CV] END max_depth=6, min_samples_leaf=15, min_samples_split=51; total time=   0.0s\n",
      "[CV] END max_depth=6, min_samples_leaf=15, min_samples_split=51; total time=   0.0s\n",
      "[CV] END max_depth=6, min_samples_leaf=15, min_samples_split=51; total time=   0.0s\n",
      "[CV] END max_depth=6, min_samples_leaf=15, min_samples_split=51; total time=   0.0s\n",
      "[CV] END max_depth=6, min_samples_leaf=15, min_samples_split=51; total time=   0.0s\n",
      "[CV] END max_depth=6, min_samples_leaf=15, min_samples_split=51; total time=   0.0s\n",
      "[CV] END max_depth=6, min_samples_leaf=15, min_samples_split=51; total time=   0.0s\n",
      "[CV] END max_depth=6, min_samples_leaf=15, min_samples_split=51; total time=   0.0s\n",
      "[CV] END max_depth=6, min_samples_leaf=15, min_samples_split=51; total time=   0.0s\n",
      "[CV] END max_depth=8, min_samples_leaf=2, min_samples_split=10; total time=   0.0s\n",
      "[CV] END max_depth=8, min_samples_leaf=2, min_samples_split=10; total time=   0.0s\n",
      "[CV] END max_depth=8, min_samples_leaf=2, min_samples_split=10; total time=   0.0s\n",
      "[CV] END max_depth=8, min_samples_leaf=2, min_samples_split=10; total time=   0.0s\n",
      "[CV] END max_depth=8, min_samples_leaf=2, min_samples_split=10; total time=   0.0s\n",
      "[CV] END max_depth=8, min_samples_leaf=2, min_samples_split=10; total time=   0.0s\n",
      "[CV] END max_depth=8, min_samples_leaf=2, min_samples_split=10; total time=   0.0s\n",
      "[CV] END max_depth=8, min_samples_leaf=2, min_samples_split=10; total time=   0.0s\n",
      "[CV] END max_depth=8, min_samples_leaf=2, min_samples_split=10; total time=   0.0s\n",
      "[CV] END max_depth=8, min_samples_leaf=2, min_samples_split=10; total time=   0.0s\n",
      "[CV] END max_depth=8, min_samples_leaf=2, min_samples_split=20; total time=   0.0s\n",
      "[CV] END max_depth=8, min_samples_leaf=2, min_samples_split=20; total time=   0.0s\n",
      "[CV] END max_depth=8, min_samples_leaf=2, min_samples_split=20; total time=   0.0s\n",
      "[CV] END max_depth=8, min_samples_leaf=2, min_samples_split=20; total time=   0.0s\n",
      "[CV] END max_depth=8, min_samples_leaf=2, min_samples_split=20; total time=   0.0s\n",
      "[CV] END max_depth=8, min_samples_leaf=2, min_samples_split=20; total time=   0.0s\n",
      "[CV] END max_depth=8, min_samples_leaf=2, min_samples_split=20; total time=   0.0s\n",
      "[CV] END max_depth=8, min_samples_leaf=2, min_samples_split=20; total time=   0.0s\n",
      "[CV] END max_depth=8, min_samples_leaf=2, min_samples_split=20; total time=   0.0s\n",
      "[CV] END max_depth=8, min_samples_leaf=2, min_samples_split=20; total time=   0.0s\n",
      "[CV] END max_depth=8, min_samples_leaf=2, min_samples_split=50; total time=   0.0s\n",
      "[CV] END max_depth=8, min_samples_leaf=2, min_samples_split=50; total time=   0.0s\n",
      "[CV] END max_depth=8, min_samples_leaf=2, min_samples_split=50; total time=   0.0s\n",
      "[CV] END max_depth=8, min_samples_leaf=2, min_samples_split=50; total time=   0.0s\n",
      "[CV] END max_depth=8, min_samples_leaf=2, min_samples_split=50; total time=   0.0s\n",
      "[CV] END max_depth=8, min_samples_leaf=2, min_samples_split=50; total time=   0.0s\n",
      "[CV] END max_depth=8, min_samples_leaf=2, min_samples_split=50; total time=   0.0s\n",
      "[CV] END max_depth=8, min_samples_leaf=2, min_samples_split=50; total time=   0.0s\n",
      "[CV] END max_depth=8, min_samples_leaf=2, min_samples_split=50; total time=   0.0s\n",
      "[CV] END max_depth=8, min_samples_leaf=2, min_samples_split=50; total time=   0.0s\n",
      "[CV] END max_depth=8, min_samples_leaf=2, min_samples_split=51; total time=   0.0s\n",
      "[CV] END max_depth=8, min_samples_leaf=2, min_samples_split=51; total time=   0.0s\n",
      "[CV] END max_depth=8, min_samples_leaf=2, min_samples_split=51; total time=   0.0s\n",
      "[CV] END max_depth=8, min_samples_leaf=2, min_samples_split=51; total time=   0.0s\n",
      "[CV] END max_depth=8, min_samples_leaf=2, min_samples_split=51; total time=   0.0s\n",
      "[CV] END max_depth=8, min_samples_leaf=2, min_samples_split=51; total time=   0.0s\n",
      "[CV] END max_depth=8, min_samples_leaf=2, min_samples_split=51; total time=   0.0s\n",
      "[CV] END max_depth=8, min_samples_leaf=2, min_samples_split=51; total time=   0.0s\n",
      "[CV] END max_depth=8, min_samples_leaf=2, min_samples_split=51; total time=   0.0s\n",
      "[CV] END max_depth=8, min_samples_leaf=2, min_samples_split=51; total time=   0.0s\n",
      "[CV] END max_depth=8, min_samples_leaf=5, min_samples_split=10; total time=   0.0s\n",
      "[CV] END max_depth=8, min_samples_leaf=5, min_samples_split=10; total time=   0.0s\n",
      "[CV] END max_depth=8, min_samples_leaf=5, min_samples_split=10; total time=   0.0s\n",
      "[CV] END max_depth=8, min_samples_leaf=5, min_samples_split=10; total time=   0.0s\n",
      "[CV] END max_depth=8, min_samples_leaf=5, min_samples_split=10; total time=   0.0s\n",
      "[CV] END max_depth=8, min_samples_leaf=5, min_samples_split=10; total time=   0.0s\n",
      "[CV] END max_depth=8, min_samples_leaf=5, min_samples_split=10; total time=   0.0s\n",
      "[CV] END max_depth=8, min_samples_leaf=5, min_samples_split=10; total time=   0.0s\n",
      "[CV] END max_depth=8, min_samples_leaf=5, min_samples_split=10; total time=   0.0s\n",
      "[CV] END max_depth=8, min_samples_leaf=5, min_samples_split=10; total time=   0.0s\n",
      "[CV] END max_depth=8, min_samples_leaf=5, min_samples_split=20; total time=   0.0s\n",
      "[CV] END max_depth=8, min_samples_leaf=5, min_samples_split=20; total time=   0.0s\n",
      "[CV] END max_depth=8, min_samples_leaf=5, min_samples_split=20; total time=   0.0s\n",
      "[CV] END max_depth=8, min_samples_leaf=5, min_samples_split=20; total time=   0.0s\n",
      "[CV] END max_depth=8, min_samples_leaf=5, min_samples_split=20; total time=   0.0s\n",
      "[CV] END max_depth=8, min_samples_leaf=5, min_samples_split=20; total time=   0.0s\n",
      "[CV] END max_depth=8, min_samples_leaf=5, min_samples_split=20; total time=   0.0s\n",
      "[CV] END max_depth=8, min_samples_leaf=5, min_samples_split=20; total time=   0.0s\n",
      "[CV] END max_depth=8, min_samples_leaf=5, min_samples_split=20; total time=   0.0s\n",
      "[CV] END max_depth=8, min_samples_leaf=5, min_samples_split=20; total time=   0.0s\n",
      "[CV] END max_depth=8, min_samples_leaf=5, min_samples_split=50; total time=   0.0s\n",
      "[CV] END max_depth=8, min_samples_leaf=5, min_samples_split=50; total time=   0.0s\n",
      "[CV] END max_depth=8, min_samples_leaf=5, min_samples_split=50; total time=   0.0s\n",
      "[CV] END max_depth=8, min_samples_leaf=5, min_samples_split=50; total time=   0.0s\n",
      "[CV] END max_depth=8, min_samples_leaf=5, min_samples_split=50; total time=   0.0s\n",
      "[CV] END max_depth=8, min_samples_leaf=5, min_samples_split=50; total time=   0.0s\n",
      "[CV] END max_depth=8, min_samples_leaf=5, min_samples_split=50; total time=   0.0s\n",
      "[CV] END max_depth=8, min_samples_leaf=5, min_samples_split=50; total time=   0.0s\n",
      "[CV] END max_depth=8, min_samples_leaf=5, min_samples_split=50; total time=   0.0s\n",
      "[CV] END max_depth=8, min_samples_leaf=5, min_samples_split=50; total time=   0.0s\n",
      "[CV] END max_depth=8, min_samples_leaf=5, min_samples_split=51; total time=   0.0s\n",
      "[CV] END max_depth=8, min_samples_leaf=5, min_samples_split=51; total time=   0.0s\n",
      "[CV] END max_depth=8, min_samples_leaf=5, min_samples_split=51; total time=   0.0s\n",
      "[CV] END max_depth=8, min_samples_leaf=5, min_samples_split=51; total time=   0.0s\n",
      "[CV] END max_depth=8, min_samples_leaf=5, min_samples_split=51; total time=   0.0s\n",
      "[CV] END max_depth=8, min_samples_leaf=5, min_samples_split=51; total time=   0.0s\n",
      "[CV] END max_depth=8, min_samples_leaf=5, min_samples_split=51; total time=   0.0s\n",
      "[CV] END max_depth=8, min_samples_leaf=5, min_samples_split=51; total time=   0.0s\n",
      "[CV] END max_depth=8, min_samples_leaf=5, min_samples_split=51; total time=   0.0s\n",
      "[CV] END max_depth=8, min_samples_leaf=5, min_samples_split=51; total time=   0.0s\n",
      "[CV] END max_depth=8, min_samples_leaf=10, min_samples_split=10; total time=   0.0s\n",
      "[CV] END max_depth=8, min_samples_leaf=10, min_samples_split=10; total time=   0.0s\n",
      "[CV] END max_depth=8, min_samples_leaf=10, min_samples_split=10; total time=   0.0s\n",
      "[CV] END max_depth=8, min_samples_leaf=10, min_samples_split=10; total time=   0.0s\n",
      "[CV] END max_depth=8, min_samples_leaf=10, min_samples_split=10; total time=   0.0s\n",
      "[CV] END max_depth=8, min_samples_leaf=10, min_samples_split=10; total time=   0.0s\n",
      "[CV] END max_depth=8, min_samples_leaf=10, min_samples_split=10; total time=   0.0s\n",
      "[CV] END max_depth=8, min_samples_leaf=10, min_samples_split=10; total time=   0.0s\n",
      "[CV] END max_depth=8, min_samples_leaf=10, min_samples_split=10; total time=   0.0s\n",
      "[CV] END max_depth=8, min_samples_leaf=10, min_samples_split=10; total time=   0.0s\n",
      "[CV] END max_depth=8, min_samples_leaf=10, min_samples_split=20; total time=   0.0s\n",
      "[CV] END max_depth=8, min_samples_leaf=10, min_samples_split=20; total time=   0.0s\n",
      "[CV] END max_depth=8, min_samples_leaf=10, min_samples_split=20; total time=   0.0s\n",
      "[CV] END max_depth=8, min_samples_leaf=10, min_samples_split=20; total time=   0.0s\n",
      "[CV] END max_depth=8, min_samples_leaf=10, min_samples_split=20; total time=   0.0s\n",
      "[CV] END max_depth=8, min_samples_leaf=10, min_samples_split=20; total time=   0.0s\n",
      "[CV] END max_depth=8, min_samples_leaf=10, min_samples_split=20; total time=   0.0s\n",
      "[CV] END max_depth=8, min_samples_leaf=10, min_samples_split=20; total time=   0.0s\n",
      "[CV] END max_depth=8, min_samples_leaf=10, min_samples_split=20; total time=   0.0s\n",
      "[CV] END max_depth=8, min_samples_leaf=10, min_samples_split=20; total time=   0.0s\n",
      "[CV] END max_depth=8, min_samples_leaf=10, min_samples_split=50; total time=   0.0s\n",
      "[CV] END max_depth=8, min_samples_leaf=10, min_samples_split=50; total time=   0.0s\n",
      "[CV] END max_depth=8, min_samples_leaf=10, min_samples_split=50; total time=   0.0s\n",
      "[CV] END max_depth=8, min_samples_leaf=10, min_samples_split=50; total time=   0.0s\n",
      "[CV] END max_depth=8, min_samples_leaf=10, min_samples_split=50; total time=   0.0s\n",
      "[CV] END max_depth=8, min_samples_leaf=10, min_samples_split=50; total time=   0.0s\n",
      "[CV] END max_depth=8, min_samples_leaf=10, min_samples_split=50; total time=   0.0s\n",
      "[CV] END max_depth=8, min_samples_leaf=10, min_samples_split=50; total time=   0.0s\n",
      "[CV] END max_depth=8, min_samples_leaf=10, min_samples_split=50; total time=   0.0s\n",
      "[CV] END max_depth=8, min_samples_leaf=10, min_samples_split=50; total time=   0.0s\n",
      "[CV] END max_depth=8, min_samples_leaf=10, min_samples_split=51; total time=   0.0s\n",
      "[CV] END max_depth=8, min_samples_leaf=10, min_samples_split=51; total time=   0.0s\n",
      "[CV] END max_depth=8, min_samples_leaf=10, min_samples_split=51; total time=   0.0s\n",
      "[CV] END max_depth=8, min_samples_leaf=10, min_samples_split=51; total time=   0.0s\n",
      "[CV] END max_depth=8, min_samples_leaf=10, min_samples_split=51; total time=   0.0s\n",
      "[CV] END max_depth=8, min_samples_leaf=10, min_samples_split=51; total time=   0.0s\n",
      "[CV] END max_depth=8, min_samples_leaf=10, min_samples_split=51; total time=   0.0s\n",
      "[CV] END max_depth=8, min_samples_leaf=10, min_samples_split=51; total time=   0.0s\n",
      "[CV] END max_depth=8, min_samples_leaf=10, min_samples_split=51; total time=   0.0s\n",
      "[CV] END max_depth=8, min_samples_leaf=10, min_samples_split=51; total time=   0.0s\n",
      "[CV] END max_depth=8, min_samples_leaf=15, min_samples_split=10; total time=   0.0s\n",
      "[CV] END max_depth=8, min_samples_leaf=15, min_samples_split=10; total time=   0.0s\n",
      "[CV] END max_depth=8, min_samples_leaf=15, min_samples_split=10; total time=   0.0s\n",
      "[CV] END max_depth=8, min_samples_leaf=15, min_samples_split=10; total time=   0.0s\n",
      "[CV] END max_depth=8, min_samples_leaf=15, min_samples_split=10; total time=   0.0s\n",
      "[CV] END max_depth=8, min_samples_leaf=15, min_samples_split=10; total time=   0.0s\n",
      "[CV] END max_depth=8, min_samples_leaf=15, min_samples_split=10; total time=   0.0s\n",
      "[CV] END max_depth=8, min_samples_leaf=15, min_samples_split=10; total time=   0.0s\n",
      "[CV] END max_depth=8, min_samples_leaf=15, min_samples_split=10; total time=   0.0s\n",
      "[CV] END max_depth=8, min_samples_leaf=15, min_samples_split=10; total time=   0.0s\n",
      "[CV] END max_depth=8, min_samples_leaf=15, min_samples_split=20; total time=   0.0s\n",
      "[CV] END max_depth=8, min_samples_leaf=15, min_samples_split=20; total time=   0.0s\n",
      "[CV] END max_depth=8, min_samples_leaf=15, min_samples_split=20; total time=   0.0s\n",
      "[CV] END max_depth=8, min_samples_leaf=15, min_samples_split=20; total time=   0.0s\n",
      "[CV] END max_depth=8, min_samples_leaf=15, min_samples_split=20; total time=   0.0s\n",
      "[CV] END max_depth=8, min_samples_leaf=15, min_samples_split=20; total time=   0.0s\n",
      "[CV] END max_depth=8, min_samples_leaf=15, min_samples_split=20; total time=   0.0s\n",
      "[CV] END max_depth=8, min_samples_leaf=15, min_samples_split=20; total time=   0.0s\n",
      "[CV] END max_depth=8, min_samples_leaf=15, min_samples_split=20; total time=   0.0s\n",
      "[CV] END max_depth=8, min_samples_leaf=15, min_samples_split=20; total time=   0.0s\n",
      "[CV] END max_depth=8, min_samples_leaf=15, min_samples_split=50; total time=   0.0s\n",
      "[CV] END max_depth=8, min_samples_leaf=15, min_samples_split=50; total time=   0.0s\n",
      "[CV] END max_depth=8, min_samples_leaf=15, min_samples_split=50; total time=   0.0s\n",
      "[CV] END max_depth=8, min_samples_leaf=15, min_samples_split=50; total time=   0.0s\n",
      "[CV] END max_depth=8, min_samples_leaf=15, min_samples_split=50; total time=   0.0s\n",
      "[CV] END max_depth=8, min_samples_leaf=15, min_samples_split=50; total time=   0.0s\n",
      "[CV] END max_depth=8, min_samples_leaf=15, min_samples_split=50; total time=   0.0s\n",
      "[CV] END max_depth=8, min_samples_leaf=15, min_samples_split=50; total time=   0.0s\n",
      "[CV] END max_depth=8, min_samples_leaf=15, min_samples_split=50; total time=   0.0s\n",
      "[CV] END max_depth=8, min_samples_leaf=15, min_samples_split=50; total time=   0.0s\n",
      "[CV] END max_depth=8, min_samples_leaf=15, min_samples_split=51; total time=   0.0s\n",
      "[CV] END max_depth=8, min_samples_leaf=15, min_samples_split=51; total time=   0.0s\n",
      "[CV] END max_depth=8, min_samples_leaf=15, min_samples_split=51; total time=   0.0s\n",
      "[CV] END max_depth=8, min_samples_leaf=15, min_samples_split=51; total time=   0.0s\n",
      "[CV] END max_depth=8, min_samples_leaf=15, min_samples_split=51; total time=   0.0s\n",
      "[CV] END max_depth=8, min_samples_leaf=15, min_samples_split=51; total time=   0.0s\n",
      "[CV] END max_depth=8, min_samples_leaf=15, min_samples_split=51; total time=   0.0s\n",
      "[CV] END max_depth=8, min_samples_leaf=15, min_samples_split=51; total time=   0.0s\n",
      "[CV] END max_depth=8, min_samples_leaf=15, min_samples_split=51; total time=   0.0s\n",
      "[CV] END max_depth=8, min_samples_leaf=15, min_samples_split=51; total time=   0.0s\n",
      "[CV] END max_depth=10, min_samples_leaf=2, min_samples_split=10; total time=   0.0s\n",
      "[CV] END max_depth=10, min_samples_leaf=2, min_samples_split=10; total time=   0.0s\n",
      "[CV] END max_depth=10, min_samples_leaf=2, min_samples_split=10; total time=   0.0s\n",
      "[CV] END max_depth=10, min_samples_leaf=2, min_samples_split=10; total time=   0.0s\n",
      "[CV] END max_depth=10, min_samples_leaf=2, min_samples_split=10; total time=   0.0s\n",
      "[CV] END max_depth=10, min_samples_leaf=2, min_samples_split=10; total time=   0.0s\n",
      "[CV] END max_depth=10, min_samples_leaf=2, min_samples_split=10; total time=   0.0s\n",
      "[CV] END max_depth=10, min_samples_leaf=2, min_samples_split=10; total time=   0.0s\n",
      "[CV] END max_depth=10, min_samples_leaf=2, min_samples_split=10; total time=   0.0s\n",
      "[CV] END max_depth=10, min_samples_leaf=2, min_samples_split=10; total time=   0.0s\n",
      "[CV] END max_depth=10, min_samples_leaf=2, min_samples_split=20; total time=   0.0s\n",
      "[CV] END max_depth=10, min_samples_leaf=2, min_samples_split=20; total time=   0.0s\n",
      "[CV] END max_depth=10, min_samples_leaf=2, min_samples_split=20; total time=   0.0s\n",
      "[CV] END max_depth=10, min_samples_leaf=2, min_samples_split=20; total time=   0.0s\n",
      "[CV] END max_depth=10, min_samples_leaf=2, min_samples_split=20; total time=   0.0s\n",
      "[CV] END max_depth=10, min_samples_leaf=2, min_samples_split=20; total time=   0.0s\n",
      "[CV] END max_depth=10, min_samples_leaf=2, min_samples_split=20; total time=   0.0s\n",
      "[CV] END max_depth=10, min_samples_leaf=2, min_samples_split=20; total time=   0.0s\n",
      "[CV] END max_depth=10, min_samples_leaf=2, min_samples_split=20; total time=   0.0s\n",
      "[CV] END max_depth=10, min_samples_leaf=2, min_samples_split=20; total time=   0.0s\n",
      "[CV] END max_depth=10, min_samples_leaf=2, min_samples_split=50; total time=   0.0s\n",
      "[CV] END max_depth=10, min_samples_leaf=2, min_samples_split=50; total time=   0.0s\n",
      "[CV] END max_depth=10, min_samples_leaf=2, min_samples_split=50; total time=   0.0s\n",
      "[CV] END max_depth=10, min_samples_leaf=2, min_samples_split=50; total time=   0.0s\n",
      "[CV] END max_depth=10, min_samples_leaf=2, min_samples_split=50; total time=   0.0s\n",
      "[CV] END max_depth=10, min_samples_leaf=2, min_samples_split=50; total time=   0.0s\n",
      "[CV] END max_depth=10, min_samples_leaf=2, min_samples_split=50; total time=   0.0s\n",
      "[CV] END max_depth=10, min_samples_leaf=2, min_samples_split=50; total time=   0.0s\n",
      "[CV] END max_depth=10, min_samples_leaf=2, min_samples_split=50; total time=   0.0s\n",
      "[CV] END max_depth=10, min_samples_leaf=2, min_samples_split=50; total time=   0.0s\n",
      "[CV] END max_depth=10, min_samples_leaf=2, min_samples_split=51; total time=   0.0s\n",
      "[CV] END max_depth=10, min_samples_leaf=2, min_samples_split=51; total time=   0.0s\n",
      "[CV] END max_depth=10, min_samples_leaf=2, min_samples_split=51; total time=   0.0s\n",
      "[CV] END max_depth=10, min_samples_leaf=2, min_samples_split=51; total time=   0.0s\n",
      "[CV] END max_depth=10, min_samples_leaf=2, min_samples_split=51; total time=   0.0s\n",
      "[CV] END max_depth=10, min_samples_leaf=2, min_samples_split=51; total time=   0.0s\n",
      "[CV] END max_depth=10, min_samples_leaf=2, min_samples_split=51; total time=   0.0s\n",
      "[CV] END max_depth=10, min_samples_leaf=2, min_samples_split=51; total time=   0.0s\n",
      "[CV] END max_depth=10, min_samples_leaf=2, min_samples_split=51; total time=   0.0s\n",
      "[CV] END max_depth=10, min_samples_leaf=2, min_samples_split=51; total time=   0.0s\n",
      "[CV] END max_depth=10, min_samples_leaf=5, min_samples_split=10; total time=   0.0s\n",
      "[CV] END max_depth=10, min_samples_leaf=5, min_samples_split=10; total time=   0.0s\n",
      "[CV] END max_depth=10, min_samples_leaf=5, min_samples_split=10; total time=   0.0s\n",
      "[CV] END max_depth=10, min_samples_leaf=5, min_samples_split=10; total time=   0.0s\n",
      "[CV] END max_depth=10, min_samples_leaf=5, min_samples_split=10; total time=   0.0s\n",
      "[CV] END max_depth=10, min_samples_leaf=5, min_samples_split=10; total time=   0.0s\n",
      "[CV] END max_depth=10, min_samples_leaf=5, min_samples_split=10; total time=   0.0s\n",
      "[CV] END max_depth=10, min_samples_leaf=5, min_samples_split=10; total time=   0.0s\n",
      "[CV] END max_depth=10, min_samples_leaf=5, min_samples_split=10; total time=   0.0s\n",
      "[CV] END max_depth=10, min_samples_leaf=5, min_samples_split=10; total time=   0.0s\n",
      "[CV] END max_depth=10, min_samples_leaf=5, min_samples_split=20; total time=   0.0s\n",
      "[CV] END max_depth=10, min_samples_leaf=5, min_samples_split=20; total time=   0.0s\n",
      "[CV] END max_depth=10, min_samples_leaf=5, min_samples_split=20; total time=   0.0s\n",
      "[CV] END max_depth=10, min_samples_leaf=5, min_samples_split=20; total time=   0.0s\n",
      "[CV] END max_depth=10, min_samples_leaf=5, min_samples_split=20; total time=   0.0s\n",
      "[CV] END max_depth=10, min_samples_leaf=5, min_samples_split=20; total time=   0.0s\n",
      "[CV] END max_depth=10, min_samples_leaf=5, min_samples_split=20; total time=   0.0s\n",
      "[CV] END max_depth=10, min_samples_leaf=5, min_samples_split=20; total time=   0.0s\n",
      "[CV] END max_depth=10, min_samples_leaf=5, min_samples_split=20; total time=   0.0s\n",
      "[CV] END max_depth=10, min_samples_leaf=5, min_samples_split=20; total time=   0.0s\n",
      "[CV] END max_depth=10, min_samples_leaf=5, min_samples_split=50; total time=   0.0s\n",
      "[CV] END max_depth=10, min_samples_leaf=5, min_samples_split=50; total time=   0.0s\n",
      "[CV] END max_depth=10, min_samples_leaf=5, min_samples_split=50; total time=   0.0s\n",
      "[CV] END max_depth=10, min_samples_leaf=5, min_samples_split=50; total time=   0.0s\n",
      "[CV] END max_depth=10, min_samples_leaf=5, min_samples_split=50; total time=   0.0s\n",
      "[CV] END max_depth=10, min_samples_leaf=5, min_samples_split=50; total time=   0.0s\n",
      "[CV] END max_depth=10, min_samples_leaf=5, min_samples_split=50; total time=   0.0s\n",
      "[CV] END max_depth=10, min_samples_leaf=5, min_samples_split=50; total time=   0.0s\n",
      "[CV] END max_depth=10, min_samples_leaf=5, min_samples_split=50; total time=   0.0s\n",
      "[CV] END max_depth=10, min_samples_leaf=5, min_samples_split=50; total time=   0.0s\n",
      "[CV] END max_depth=10, min_samples_leaf=5, min_samples_split=51; total time=   0.0s\n",
      "[CV] END max_depth=10, min_samples_leaf=5, min_samples_split=51; total time=   0.0s\n",
      "[CV] END max_depth=10, min_samples_leaf=5, min_samples_split=51; total time=   0.0s\n",
      "[CV] END max_depth=10, min_samples_leaf=5, min_samples_split=51; total time=   0.0s\n",
      "[CV] END max_depth=10, min_samples_leaf=5, min_samples_split=51; total time=   0.0s\n",
      "[CV] END max_depth=10, min_samples_leaf=5, min_samples_split=51; total time=   0.0s\n",
      "[CV] END max_depth=10, min_samples_leaf=5, min_samples_split=51; total time=   0.0s\n",
      "[CV] END max_depth=10, min_samples_leaf=5, min_samples_split=51; total time=   0.0s\n",
      "[CV] END max_depth=10, min_samples_leaf=5, min_samples_split=51; total time=   0.0s\n",
      "[CV] END max_depth=10, min_samples_leaf=5, min_samples_split=51; total time=   0.0s\n",
      "[CV] END max_depth=10, min_samples_leaf=10, min_samples_split=10; total time=   0.0s\n",
      "[CV] END max_depth=10, min_samples_leaf=10, min_samples_split=10; total time=   0.0s\n",
      "[CV] END max_depth=10, min_samples_leaf=10, min_samples_split=10; total time=   0.0s\n",
      "[CV] END max_depth=10, min_samples_leaf=10, min_samples_split=10; total time=   0.0s\n",
      "[CV] END max_depth=10, min_samples_leaf=10, min_samples_split=10; total time=   0.0s\n",
      "[CV] END max_depth=10, min_samples_leaf=10, min_samples_split=10; total time=   0.0s\n",
      "[CV] END max_depth=10, min_samples_leaf=10, min_samples_split=10; total time=   0.0s\n",
      "[CV] END max_depth=10, min_samples_leaf=10, min_samples_split=10; total time=   0.0s\n",
      "[CV] END max_depth=10, min_samples_leaf=10, min_samples_split=10; total time=   0.0s\n",
      "[CV] END max_depth=10, min_samples_leaf=10, min_samples_split=10; total time=   0.0s\n",
      "[CV] END max_depth=10, min_samples_leaf=10, min_samples_split=20; total time=   0.0s\n",
      "[CV] END max_depth=10, min_samples_leaf=10, min_samples_split=20; total time=   0.0s\n",
      "[CV] END max_depth=10, min_samples_leaf=10, min_samples_split=20; total time=   0.0s\n",
      "[CV] END max_depth=10, min_samples_leaf=10, min_samples_split=20; total time=   0.0s\n",
      "[CV] END max_depth=10, min_samples_leaf=10, min_samples_split=20; total time=   0.0s\n",
      "[CV] END max_depth=10, min_samples_leaf=10, min_samples_split=20; total time=   0.0s\n",
      "[CV] END max_depth=10, min_samples_leaf=10, min_samples_split=20; total time=   0.0s\n",
      "[CV] END max_depth=10, min_samples_leaf=10, min_samples_split=20; total time=   0.0s\n",
      "[CV] END max_depth=10, min_samples_leaf=10, min_samples_split=20; total time=   0.0s\n",
      "[CV] END max_depth=10, min_samples_leaf=10, min_samples_split=20; total time=   0.0s\n",
      "[CV] END max_depth=10, min_samples_leaf=10, min_samples_split=50; total time=   0.0s\n",
      "[CV] END max_depth=10, min_samples_leaf=10, min_samples_split=50; total time=   0.0s\n",
      "[CV] END max_depth=10, min_samples_leaf=10, min_samples_split=50; total time=   0.0s\n",
      "[CV] END max_depth=10, min_samples_leaf=10, min_samples_split=50; total time=   0.0s\n",
      "[CV] END max_depth=10, min_samples_leaf=10, min_samples_split=50; total time=   0.0s\n",
      "[CV] END max_depth=10, min_samples_leaf=10, min_samples_split=50; total time=   0.0s\n",
      "[CV] END max_depth=10, min_samples_leaf=10, min_samples_split=50; total time=   0.0s\n",
      "[CV] END max_depth=10, min_samples_leaf=10, min_samples_split=50; total time=   0.0s\n",
      "[CV] END max_depth=10, min_samples_leaf=10, min_samples_split=50; total time=   0.0s\n",
      "[CV] END max_depth=10, min_samples_leaf=10, min_samples_split=50; total time=   0.0s\n",
      "[CV] END max_depth=10, min_samples_leaf=10, min_samples_split=51; total time=   0.0s\n",
      "[CV] END max_depth=10, min_samples_leaf=10, min_samples_split=51; total time=   0.0s\n",
      "[CV] END max_depth=10, min_samples_leaf=10, min_samples_split=51; total time=   0.0s\n",
      "[CV] END max_depth=10, min_samples_leaf=10, min_samples_split=51; total time=   0.0s\n",
      "[CV] END max_depth=10, min_samples_leaf=10, min_samples_split=51; total time=   0.0s\n",
      "[CV] END max_depth=10, min_samples_leaf=10, min_samples_split=51; total time=   0.0s\n",
      "[CV] END max_depth=10, min_samples_leaf=10, min_samples_split=51; total time=   0.0s\n",
      "[CV] END max_depth=10, min_samples_leaf=10, min_samples_split=51; total time=   0.0s\n",
      "[CV] END max_depth=10, min_samples_leaf=10, min_samples_split=51; total time=   0.0s\n",
      "[CV] END max_depth=10, min_samples_leaf=10, min_samples_split=51; total time=   0.0s\n",
      "[CV] END max_depth=10, min_samples_leaf=15, min_samples_split=10; total time=   0.0s\n",
      "[CV] END max_depth=10, min_samples_leaf=15, min_samples_split=10; total time=   0.0s\n",
      "[CV] END max_depth=10, min_samples_leaf=15, min_samples_split=10; total time=   0.0s\n",
      "[CV] END max_depth=10, min_samples_leaf=15, min_samples_split=10; total time=   0.0s\n",
      "[CV] END max_depth=10, min_samples_leaf=15, min_samples_split=10; total time=   0.0s\n",
      "[CV] END max_depth=10, min_samples_leaf=15, min_samples_split=10; total time=   0.0s\n",
      "[CV] END max_depth=10, min_samples_leaf=15, min_samples_split=10; total time=   0.0s\n",
      "[CV] END max_depth=10, min_samples_leaf=15, min_samples_split=10; total time=   0.0s\n",
      "[CV] END max_depth=10, min_samples_leaf=15, min_samples_split=10; total time=   0.0s\n",
      "[CV] END max_depth=10, min_samples_leaf=15, min_samples_split=10; total time=   0.0s\n",
      "[CV] END max_depth=10, min_samples_leaf=15, min_samples_split=20; total time=   0.0s\n",
      "[CV] END max_depth=10, min_samples_leaf=15, min_samples_split=20; total time=   0.0s\n",
      "[CV] END max_depth=10, min_samples_leaf=15, min_samples_split=20; total time=   0.0s\n",
      "[CV] END max_depth=10, min_samples_leaf=15, min_samples_split=20; total time=   0.0s\n",
      "[CV] END max_depth=10, min_samples_leaf=15, min_samples_split=20; total time=   0.0s\n",
      "[CV] END max_depth=10, min_samples_leaf=15, min_samples_split=20; total time=   0.0s\n",
      "[CV] END max_depth=10, min_samples_leaf=15, min_samples_split=20; total time=   0.0s\n",
      "[CV] END max_depth=10, min_samples_leaf=15, min_samples_split=20; total time=   0.0s\n",
      "[CV] END max_depth=10, min_samples_leaf=15, min_samples_split=20; total time=   0.0s\n",
      "[CV] END max_depth=10, min_samples_leaf=15, min_samples_split=20; total time=   0.0s\n",
      "[CV] END max_depth=10, min_samples_leaf=15, min_samples_split=50; total time=   0.0s\n",
      "[CV] END max_depth=10, min_samples_leaf=15, min_samples_split=50; total time=   0.0s\n",
      "[CV] END max_depth=10, min_samples_leaf=15, min_samples_split=50; total time=   0.0s\n",
      "[CV] END max_depth=10, min_samples_leaf=15, min_samples_split=50; total time=   0.0s\n",
      "[CV] END max_depth=10, min_samples_leaf=15, min_samples_split=50; total time=   0.0s\n",
      "[CV] END max_depth=10, min_samples_leaf=15, min_samples_split=50; total time=   0.0s\n",
      "[CV] END max_depth=10, min_samples_leaf=15, min_samples_split=50; total time=   0.0s\n",
      "[CV] END max_depth=10, min_samples_leaf=15, min_samples_split=50; total time=   0.0s\n",
      "[CV] END max_depth=10, min_samples_leaf=15, min_samples_split=50; total time=   0.0s\n",
      "[CV] END max_depth=10, min_samples_leaf=15, min_samples_split=50; total time=   0.0s\n",
      "[CV] END max_depth=10, min_samples_leaf=15, min_samples_split=51; total time=   0.0s\n",
      "[CV] END max_depth=10, min_samples_leaf=15, min_samples_split=51; total time=   0.0s\n",
      "[CV] END max_depth=10, min_samples_leaf=15, min_samples_split=51; total time=   0.0s\n",
      "[CV] END max_depth=10, min_samples_leaf=15, min_samples_split=51; total time=   0.0s\n",
      "[CV] END max_depth=10, min_samples_leaf=15, min_samples_split=51; total time=   0.0s\n",
      "[CV] END max_depth=10, min_samples_leaf=15, min_samples_split=51; total time=   0.0s\n",
      "[CV] END max_depth=10, min_samples_leaf=15, min_samples_split=51; total time=   0.0s\n",
      "[CV] END max_depth=10, min_samples_leaf=15, min_samples_split=51; total time=   0.0s\n",
      "[CV] END max_depth=10, min_samples_leaf=15, min_samples_split=51; total time=   0.0s\n",
      "[CV] END max_depth=10, min_samples_leaf=15, min_samples_split=51; total time=   0.0s\n"
     ]
    },
    {
     "data": {
      "text/plain": [
       "GridSearchCV(cv=10, estimator=DecisionTreeRegressor(random_state=0), n_jobs=1,\n",
       "             param_grid={'max_depth': [4, 5, 6, 8, 10],\n",
       "                         'min_samples_leaf': [2, 5, 10, 15],\n",
       "                         'min_samples_split': [10, 20, 50, 51]},\n",
       "             verbose=2)"
      ]
     },
     "execution_count": 86,
     "metadata": {},
     "output_type": "execute_result"
    }
   ],
   "source": [
    "\n",
    "parameters={\"max_depth\":[4,5,6,8,10],\n",
    "           \"min_samples_split\":[10,20,50,51],\n",
    "           \"min_samples_leaf\":[2,5,10,15]}\n",
    "\n",
    "dtree=DecisionTreeRegressor(random_state=0)\n",
    "\n",
    "gsearch=GridSearchCV(estimator=dtree, param_grid=parameters, cv=10, n_jobs=1, verbose=2)\n",
    "\n",
    "gsearch.fit(x_train, y_train) "
   ]
  },
  {
   "cell_type": "code",
   "execution_count": 87,
   "id": "034a62d0-1995-43b5-92c2-274d52562e89",
   "metadata": {},
   "outputs": [
    {
     "data": {
      "text/plain": [
       "0.6686647849992459"
      ]
     },
     "execution_count": 87,
     "metadata": {},
     "output_type": "execute_result"
    }
   ],
   "source": [
    "gsearch.best_score_"
   ]
  },
  {
   "cell_type": "code",
   "execution_count": 88,
   "id": "8df213d2-0f9e-4447-854a-9f397e5090db",
   "metadata": {},
   "outputs": [
    {
     "data": {
      "text/plain": [
       "DecisionTreeRegressor(max_depth=10, min_samples_leaf=10, min_samples_split=10,\n",
       "                      random_state=0)"
      ]
     },
     "execution_count": 88,
     "metadata": {},
     "output_type": "execute_result"
    }
   ],
   "source": [
    "gsearch.best_estimator_"
   ]
  },
  {
   "cell_type": "code",
   "execution_count": 92,
   "id": "4b87a0ce-ec3a-4185-bb2a-e8c04ca84e8d",
   "metadata": {},
   "outputs": [],
   "source": [
    "dt1=DecisionTreeRegressor(max_depth=10, min_samples_leaf=10,\n",
    "                       min_samples_split=10, random_state=0)"
   ]
  },
  {
   "cell_type": "code",
   "execution_count": 93,
   "id": "13bcc5eb-0003-4d64-8b0e-8410934c5bec",
   "metadata": {},
   "outputs": [
    {
     "data": {
      "text/plain": [
       "DecisionTreeRegressor(max_depth=10, min_samples_leaf=10, min_samples_split=10,\n",
       "                      random_state=0)"
      ]
     },
     "execution_count": 93,
     "metadata": {},
     "output_type": "execute_result"
    }
   ],
   "source": [
    "dt1.fit(x_train, y_train)"
   ]
  },
  {
   "cell_type": "code",
   "execution_count": 94,
   "id": "1faf9367-6494-4671-a956-2ec56bd935e1",
   "metadata": {},
   "outputs": [
    {
     "name": "stdout",
     "output_type": "stream",
     "text": [
      "Score on train:  0.6952718211481321\n",
      "Score on test : 0.6690529141737835\n"
     ]
    }
   ],
   "source": [
    "print(\"Score on train: \", dt1.score(x_train, y_train))\n",
    "print(\"Score on test :\", dt1.score(x_test, y_test))"
   ]
  },
  {
   "cell_type": "code",
   "execution_count": 95,
   "id": "b76eddee-d356-4d5c-a3cb-0240c0f2c868",
   "metadata": {},
   "outputs": [
    {
     "data": {
      "text/plain": [
       "DecisionTreeRegressor(max_depth=19, min_samples_split=8)"
      ]
     },
     "execution_count": 95,
     "metadata": {},
     "output_type": "execute_result"
    }
   ],
   "source": [
    "regr_2 = DecisionTreeRegressor(max_depth=19,min_samples_leaf=1,min_samples_split=8)\n",
    "\n",
    "regr_2.fit(x_train, y_train)"
   ]
  },
  {
   "cell_type": "code",
   "execution_count": 96,
   "id": "ad20791f-4e0b-43c9-bd11-6877fbc550d6",
   "metadata": {},
   "outputs": [
    {
     "name": "stdout",
     "output_type": "stream",
     "text": [
      "Score on train:  0.711514819487135\n",
      "Score on test : 0.6676035906161276\n"
     ]
    }
   ],
   "source": [
    "print(\"Score on train: \", regr_2.score(x_train, y_train))\n",
    "print(\"Score on test :\", regr_2.score(x_test, y_test))"
   ]
  },
  {
   "cell_type": "markdown",
   "id": "cf1c9617-60c5-4013-a336-2a55fbde624f",
   "metadata": {},
   "source": [
    "#####################################4.Random Forest Regressor"
   ]
  },
  {
   "cell_type": "code",
   "execution_count": 97,
   "id": "b0f69498-2f02-4f3e-9aec-e3d46f4d9876",
   "metadata": {},
   "outputs": [],
   "source": [
    "from sklearn.ensemble import RandomForestRegressor\n",
    "from sklearn.metrics import mean_absolute_error\n"
   ]
  },
  {
   "cell_type": "code",
   "execution_count": 98,
   "id": "c1551050-c4f3-40da-92f1-82d287a49482",
   "metadata": {},
   "outputs": [],
   "source": [
    "rfr=RandomForestRegressor()"
   ]
  },
  {
   "cell_type": "code",
   "execution_count": 99,
   "id": "5f2f90de-557c-499a-957d-1d012e81061d",
   "metadata": {},
   "outputs": [
    {
     "data": {
      "text/plain": [
       "RandomForestRegressor()"
      ]
     },
     "execution_count": 99,
     "metadata": {},
     "output_type": "execute_result"
    }
   ],
   "source": [
    "rfr.fit(x_train,y_train)"
   ]
  },
  {
   "cell_type": "code",
   "execution_count": 100,
   "id": "d24daa50-8c87-463d-810e-cb330fff8811",
   "metadata": {},
   "outputs": [
    {
     "data": {
      "text/plain": [
       "0.7124785929170101"
      ]
     },
     "execution_count": 100,
     "metadata": {},
     "output_type": "execute_result"
    }
   ],
   "source": [
    "rfr.score(x_train,y_train)"
   ]
  },
  {
   "cell_type": "code",
   "execution_count": 101,
   "id": "df167aa1-2150-43ae-a047-63bc9ba8807b",
   "metadata": {},
   "outputs": [
    {
     "data": {
      "text/plain": [
       "0.6678975702698066"
      ]
     },
     "execution_count": 101,
     "metadata": {},
     "output_type": "execute_result"
    }
   ],
   "source": [
    "rfr.score(x_test,y_test)"
   ]
  },
  {
   "cell_type": "code",
   "execution_count": 102,
   "id": "46c475bb-913e-4bbc-a8ed-50273ea11246",
   "metadata": {},
   "outputs": [
    {
     "data": {
      "text/plain": [
       "22766    1.330000e+06\n",
       "23046    1.353250e+06\n",
       "11697    1.170819e+06\n",
       "7337     1.102000e+06\n",
       "10352    8.199211e+05\n",
       "             ...     \n",
       "23824    7.075000e+05\n",
       "2274     4.549149e+05\n",
       "17092    3.830000e+05\n",
       "22648    1.020949e+06\n",
       "1251     1.275000e+06\n",
       "Name: Price, Length: 6972, dtype: float64"
      ]
     },
     "execution_count": 102,
     "metadata": {},
     "output_type": "execute_result"
    }
   ],
   "source": [
    "y_test"
   ]
  },
  {
   "cell_type": "code",
   "execution_count": 103,
   "id": "7d843522-d31a-48bd-ae89-6f5cb29840be",
   "metadata": {},
   "outputs": [
    {
     "data": {
      "text/plain": [
       "array([1591970.70750794, 1626900.55601869, 1387529.03799178, ...,\n",
       "        406755.71254274,  838750.72370023, 1169124.14646066])"
      ]
     },
     "execution_count": 103,
     "metadata": {},
     "output_type": "execute_result"
    }
   ],
   "source": [
    "rfr_predict_values=rfr.predict(x_test)\n",
    "rfr_predict_values"
   ]
  },
  {
   "cell_type": "code",
   "execution_count": 104,
   "id": "6d0eea18-c09e-491c-a6c4-ec15a2d50a5c",
   "metadata": {},
   "outputs": [
    {
     "name": "stdout",
     "output_type": "stream",
     "text": [
      "220355.21398056418\n"
     ]
    }
   ],
   "source": [
    "print(mean_absolute_error(y_test, rfr_predict_values))"
   ]
  },
  {
   "cell_type": "code",
   "execution_count": 112,
   "id": "bb64e8cf-0241-411c-b39d-b0d5be2e27d3",
   "metadata": {},
   "outputs": [
    {
     "name": "stdout",
     "output_type": "stream",
     "text": [
      "Fitting 10 folds for each of 80 candidates, totalling 800 fits\n",
      "[CV] END max_depth=4, min_samples_leaf=2, min_samples_split=10; total time=   2.8s\n",
      "[CV] END max_depth=4, min_samples_leaf=2, min_samples_split=10; total time=   0.3s\n",
      "[CV] END max_depth=4, min_samples_leaf=2, min_samples_split=10; total time=   0.3s\n",
      "[CV] END max_depth=4, min_samples_leaf=2, min_samples_split=10; total time=   0.3s\n",
      "[CV] END max_depth=4, min_samples_leaf=2, min_samples_split=10; total time=   0.3s\n",
      "[CV] END max_depth=4, min_samples_leaf=2, min_samples_split=10; total time=   0.3s\n",
      "[CV] END max_depth=4, min_samples_leaf=2, min_samples_split=10; total time=   0.3s\n",
      "[CV] END max_depth=4, min_samples_leaf=2, min_samples_split=10; total time=   0.3s\n",
      "[CV] END max_depth=4, min_samples_leaf=2, min_samples_split=10; total time=   0.3s\n",
      "[CV] END max_depth=4, min_samples_leaf=2, min_samples_split=10; total time=   0.3s\n",
      "[CV] END max_depth=4, min_samples_leaf=2, min_samples_split=20; total time=   0.3s\n",
      "[CV] END max_depth=4, min_samples_leaf=2, min_samples_split=20; total time=   0.3s\n",
      "[CV] END max_depth=4, min_samples_leaf=2, min_samples_split=20; total time=   0.3s\n",
      "[CV] END max_depth=4, min_samples_leaf=2, min_samples_split=20; total time=   0.7s\n",
      "[CV] END max_depth=4, min_samples_leaf=2, min_samples_split=20; total time=   0.3s\n",
      "[CV] END max_depth=4, min_samples_leaf=2, min_samples_split=20; total time=   0.3s\n",
      "[CV] END max_depth=4, min_samples_leaf=2, min_samples_split=20; total time=   0.5s\n",
      "[CV] END max_depth=4, min_samples_leaf=2, min_samples_split=20; total time=   0.3s\n",
      "[CV] END max_depth=4, min_samples_leaf=2, min_samples_split=20; total time=   0.3s\n",
      "[CV] END max_depth=4, min_samples_leaf=2, min_samples_split=20; total time=   0.3s\n",
      "[CV] END max_depth=4, min_samples_leaf=2, min_samples_split=50; total time=   0.3s\n",
      "[CV] END max_depth=4, min_samples_leaf=2, min_samples_split=50; total time=   0.3s\n",
      "[CV] END max_depth=4, min_samples_leaf=2, min_samples_split=50; total time=   0.3s\n",
      "[CV] END max_depth=4, min_samples_leaf=2, min_samples_split=50; total time=   0.3s\n",
      "[CV] END max_depth=4, min_samples_leaf=2, min_samples_split=50; total time=   0.3s\n",
      "[CV] END max_depth=4, min_samples_leaf=2, min_samples_split=50; total time=   0.3s\n",
      "[CV] END max_depth=4, min_samples_leaf=2, min_samples_split=50; total time=   0.3s\n",
      "[CV] END max_depth=4, min_samples_leaf=2, min_samples_split=50; total time=   0.3s\n",
      "[CV] END max_depth=4, min_samples_leaf=2, min_samples_split=50; total time=   0.3s\n",
      "[CV] END max_depth=4, min_samples_leaf=2, min_samples_split=50; total time=   0.3s\n",
      "[CV] END max_depth=4, min_samples_leaf=2, min_samples_split=51; total time=   0.3s\n",
      "[CV] END max_depth=4, min_samples_leaf=2, min_samples_split=51; total time=   0.3s\n",
      "[CV] END max_depth=4, min_samples_leaf=2, min_samples_split=51; total time=   0.3s\n",
      "[CV] END max_depth=4, min_samples_leaf=2, min_samples_split=51; total time=   0.3s\n",
      "[CV] END max_depth=4, min_samples_leaf=2, min_samples_split=51; total time=   0.3s\n",
      "[CV] END max_depth=4, min_samples_leaf=2, min_samples_split=51; total time=   0.3s\n",
      "[CV] END max_depth=4, min_samples_leaf=2, min_samples_split=51; total time=   0.3s\n",
      "[CV] END max_depth=4, min_samples_leaf=2, min_samples_split=51; total time=   0.3s\n",
      "[CV] END max_depth=4, min_samples_leaf=2, min_samples_split=51; total time=   0.3s\n",
      "[CV] END max_depth=4, min_samples_leaf=2, min_samples_split=51; total time=   0.3s\n",
      "[CV] END max_depth=4, min_samples_leaf=5, min_samples_split=10; total time=   0.3s\n",
      "[CV] END max_depth=4, min_samples_leaf=5, min_samples_split=10; total time=   0.3s\n",
      "[CV] END max_depth=4, min_samples_leaf=5, min_samples_split=10; total time=   0.3s\n",
      "[CV] END max_depth=4, min_samples_leaf=5, min_samples_split=10; total time=   0.3s\n",
      "[CV] END max_depth=4, min_samples_leaf=5, min_samples_split=10; total time=   0.3s\n",
      "[CV] END max_depth=4, min_samples_leaf=5, min_samples_split=10; total time=   0.3s\n",
      "[CV] END max_depth=4, min_samples_leaf=5, min_samples_split=10; total time=   0.3s\n",
      "[CV] END max_depth=4, min_samples_leaf=5, min_samples_split=10; total time=   0.4s\n",
      "[CV] END max_depth=4, min_samples_leaf=5, min_samples_split=10; total time=   0.4s\n",
      "[CV] END max_depth=4, min_samples_leaf=5, min_samples_split=10; total time=   0.4s\n",
      "[CV] END max_depth=4, min_samples_leaf=5, min_samples_split=20; total time=   0.4s\n",
      "[CV] END max_depth=4, min_samples_leaf=5, min_samples_split=20; total time=   0.3s\n",
      "[CV] END max_depth=4, min_samples_leaf=5, min_samples_split=20; total time=   0.3s\n",
      "[CV] END max_depth=4, min_samples_leaf=5, min_samples_split=20; total time=   0.3s\n",
      "[CV] END max_depth=4, min_samples_leaf=5, min_samples_split=20; total time=   0.3s\n",
      "[CV] END max_depth=4, min_samples_leaf=5, min_samples_split=20; total time=   0.3s\n",
      "[CV] END max_depth=4, min_samples_leaf=5, min_samples_split=20; total time=   0.3s\n",
      "[CV] END max_depth=4, min_samples_leaf=5, min_samples_split=20; total time=   0.3s\n",
      "[CV] END max_depth=4, min_samples_leaf=5, min_samples_split=20; total time=   0.3s\n",
      "[CV] END max_depth=4, min_samples_leaf=5, min_samples_split=20; total time=   0.3s\n",
      "[CV] END max_depth=4, min_samples_leaf=5, min_samples_split=50; total time=   0.3s\n",
      "[CV] END max_depth=4, min_samples_leaf=5, min_samples_split=50; total time=   0.4s\n",
      "[CV] END max_depth=4, min_samples_leaf=5, min_samples_split=50; total time=   0.3s\n",
      "[CV] END max_depth=4, min_samples_leaf=5, min_samples_split=50; total time=   0.3s\n",
      "[CV] END max_depth=4, min_samples_leaf=5, min_samples_split=50; total time=   0.3s\n",
      "[CV] END max_depth=4, min_samples_leaf=5, min_samples_split=50; total time=   0.4s\n",
      "[CV] END max_depth=4, min_samples_leaf=5, min_samples_split=50; total time=   0.4s\n",
      "[CV] END max_depth=4, min_samples_leaf=5, min_samples_split=50; total time=   0.4s\n",
      "[CV] END max_depth=4, min_samples_leaf=5, min_samples_split=50; total time=   0.4s\n",
      "[CV] END max_depth=4, min_samples_leaf=5, min_samples_split=50; total time=   0.4s\n",
      "[CV] END max_depth=4, min_samples_leaf=5, min_samples_split=51; total time=   0.3s\n",
      "[CV] END max_depth=4, min_samples_leaf=5, min_samples_split=51; total time=   0.3s\n",
      "[CV] END max_depth=4, min_samples_leaf=5, min_samples_split=51; total time=   0.3s\n",
      "[CV] END max_depth=4, min_samples_leaf=5, min_samples_split=51; total time=   0.3s\n",
      "[CV] END max_depth=4, min_samples_leaf=5, min_samples_split=51; total time=   0.4s\n",
      "[CV] END max_depth=4, min_samples_leaf=5, min_samples_split=51; total time=   0.3s\n",
      "[CV] END max_depth=4, min_samples_leaf=5, min_samples_split=51; total time=   0.4s\n",
      "[CV] END max_depth=4, min_samples_leaf=5, min_samples_split=51; total time=   0.3s\n",
      "[CV] END max_depth=4, min_samples_leaf=5, min_samples_split=51; total time=   0.3s\n",
      "[CV] END max_depth=4, min_samples_leaf=5, min_samples_split=51; total time=   0.3s\n",
      "[CV] END max_depth=4, min_samples_leaf=10, min_samples_split=10; total time=   0.3s\n",
      "[CV] END max_depth=4, min_samples_leaf=10, min_samples_split=10; total time=   0.3s\n",
      "[CV] END max_depth=4, min_samples_leaf=10, min_samples_split=10; total time=   0.3s\n",
      "[CV] END max_depth=4, min_samples_leaf=10, min_samples_split=10; total time=   0.3s\n",
      "[CV] END max_depth=4, min_samples_leaf=10, min_samples_split=10; total time=   0.3s\n",
      "[CV] END max_depth=4, min_samples_leaf=10, min_samples_split=10; total time=   0.3s\n",
      "[CV] END max_depth=4, min_samples_leaf=10, min_samples_split=10; total time=   0.3s\n",
      "[CV] END max_depth=4, min_samples_leaf=10, min_samples_split=10; total time=   0.3s\n",
      "[CV] END max_depth=4, min_samples_leaf=10, min_samples_split=10; total time=   0.3s\n",
      "[CV] END max_depth=4, min_samples_leaf=10, min_samples_split=10; total time=   0.3s\n",
      "[CV] END max_depth=4, min_samples_leaf=10, min_samples_split=20; total time=   0.3s\n",
      "[CV] END max_depth=4, min_samples_leaf=10, min_samples_split=20; total time=   0.3s\n",
      "[CV] END max_depth=4, min_samples_leaf=10, min_samples_split=20; total time=   0.4s\n",
      "[CV] END max_depth=4, min_samples_leaf=10, min_samples_split=20; total time=   0.4s\n",
      "[CV] END max_depth=4, min_samples_leaf=10, min_samples_split=20; total time=   0.4s\n",
      "[CV] END max_depth=4, min_samples_leaf=10, min_samples_split=20; total time=   0.3s\n",
      "[CV] END max_depth=4, min_samples_leaf=10, min_samples_split=20; total time=   0.4s\n",
      "[CV] END max_depth=4, min_samples_leaf=10, min_samples_split=20; total time=   0.4s\n",
      "[CV] END max_depth=4, min_samples_leaf=10, min_samples_split=20; total time=   0.4s\n",
      "[CV] END max_depth=4, min_samples_leaf=10, min_samples_split=20; total time=   0.4s\n",
      "[CV] END max_depth=4, min_samples_leaf=10, min_samples_split=50; total time=   0.4s\n",
      "[CV] END max_depth=4, min_samples_leaf=10, min_samples_split=50; total time=   0.4s\n",
      "[CV] END max_depth=4, min_samples_leaf=10, min_samples_split=50; total time=   0.4s\n",
      "[CV] END max_depth=4, min_samples_leaf=10, min_samples_split=50; total time=   0.3s\n",
      "[CV] END max_depth=4, min_samples_leaf=10, min_samples_split=50; total time=   0.4s\n",
      "[CV] END max_depth=4, min_samples_leaf=10, min_samples_split=50; total time=   0.3s\n",
      "[CV] END max_depth=4, min_samples_leaf=10, min_samples_split=50; total time=   0.3s\n",
      "[CV] END max_depth=4, min_samples_leaf=10, min_samples_split=50; total time=   0.4s\n",
      "[CV] END max_depth=4, min_samples_leaf=10, min_samples_split=50; total time=   0.4s\n",
      "[CV] END max_depth=4, min_samples_leaf=10, min_samples_split=50; total time=   0.4s\n",
      "[CV] END max_depth=4, min_samples_leaf=10, min_samples_split=51; total time=   0.4s\n",
      "[CV] END max_depth=4, min_samples_leaf=10, min_samples_split=51; total time=   0.4s\n",
      "[CV] END max_depth=4, min_samples_leaf=10, min_samples_split=51; total time=   0.4s\n",
      "[CV] END max_depth=4, min_samples_leaf=10, min_samples_split=51; total time=   0.4s\n",
      "[CV] END max_depth=4, min_samples_leaf=10, min_samples_split=51; total time=   0.3s\n",
      "[CV] END max_depth=4, min_samples_leaf=10, min_samples_split=51; total time=   0.3s\n",
      "[CV] END max_depth=4, min_samples_leaf=10, min_samples_split=51; total time=   0.4s\n",
      "[CV] END max_depth=4, min_samples_leaf=10, min_samples_split=51; total time=   0.3s\n",
      "[CV] END max_depth=4, min_samples_leaf=10, min_samples_split=51; total time=   0.3s\n",
      "[CV] END max_depth=4, min_samples_leaf=10, min_samples_split=51; total time=   0.3s\n",
      "[CV] END max_depth=4, min_samples_leaf=15, min_samples_split=10; total time=   0.3s\n",
      "[CV] END max_depth=4, min_samples_leaf=15, min_samples_split=10; total time=   0.3s\n",
      "[CV] END max_depth=4, min_samples_leaf=15, min_samples_split=10; total time=   0.3s\n",
      "[CV] END max_depth=4, min_samples_leaf=15, min_samples_split=10; total time=   0.3s\n",
      "[CV] END max_depth=4, min_samples_leaf=15, min_samples_split=10; total time=   0.3s\n",
      "[CV] END max_depth=4, min_samples_leaf=15, min_samples_split=10; total time=   0.3s\n",
      "[CV] END max_depth=4, min_samples_leaf=15, min_samples_split=10; total time=   0.3s\n",
      "[CV] END max_depth=4, min_samples_leaf=15, min_samples_split=10; total time=   0.3s\n",
      "[CV] END max_depth=4, min_samples_leaf=15, min_samples_split=10; total time=   0.3s\n",
      "[CV] END max_depth=4, min_samples_leaf=15, min_samples_split=10; total time=   0.3s\n",
      "[CV] END max_depth=4, min_samples_leaf=15, min_samples_split=20; total time=   0.3s\n",
      "[CV] END max_depth=4, min_samples_leaf=15, min_samples_split=20; total time=   0.3s\n",
      "[CV] END max_depth=4, min_samples_leaf=15, min_samples_split=20; total time=   0.3s\n",
      "[CV] END max_depth=4, min_samples_leaf=15, min_samples_split=20; total time=   0.3s\n",
      "[CV] END max_depth=4, min_samples_leaf=15, min_samples_split=20; total time=   0.3s\n",
      "[CV] END max_depth=4, min_samples_leaf=15, min_samples_split=20; total time=   0.3s\n",
      "[CV] END max_depth=4, min_samples_leaf=15, min_samples_split=20; total time=   0.4s\n",
      "[CV] END max_depth=4, min_samples_leaf=15, min_samples_split=20; total time=   0.5s\n",
      "[CV] END max_depth=4, min_samples_leaf=15, min_samples_split=20; total time=   0.4s\n",
      "[CV] END max_depth=4, min_samples_leaf=15, min_samples_split=20; total time=   0.4s\n",
      "[CV] END max_depth=4, min_samples_leaf=15, min_samples_split=50; total time=   0.4s\n",
      "[CV] END max_depth=4, min_samples_leaf=15, min_samples_split=50; total time=   0.4s\n",
      "[CV] END max_depth=4, min_samples_leaf=15, min_samples_split=50; total time=   0.3s\n",
      "[CV] END max_depth=4, min_samples_leaf=15, min_samples_split=50; total time=   0.4s\n",
      "[CV] END max_depth=4, min_samples_leaf=15, min_samples_split=50; total time=   0.4s\n",
      "[CV] END max_depth=4, min_samples_leaf=15, min_samples_split=50; total time=   0.4s\n",
      "[CV] END max_depth=4, min_samples_leaf=15, min_samples_split=50; total time=   0.4s\n",
      "[CV] END max_depth=4, min_samples_leaf=15, min_samples_split=50; total time=   0.4s\n",
      "[CV] END max_depth=4, min_samples_leaf=15, min_samples_split=50; total time=   0.4s\n",
      "[CV] END max_depth=4, min_samples_leaf=15, min_samples_split=50; total time=   0.5s\n",
      "[CV] END max_depth=4, min_samples_leaf=15, min_samples_split=51; total time=   0.4s\n",
      "[CV] END max_depth=4, min_samples_leaf=15, min_samples_split=51; total time=   0.3s\n",
      "[CV] END max_depth=4, min_samples_leaf=15, min_samples_split=51; total time=   0.3s\n",
      "[CV] END max_depth=4, min_samples_leaf=15, min_samples_split=51; total time=   0.4s\n",
      "[CV] END max_depth=4, min_samples_leaf=15, min_samples_split=51; total time=   0.3s\n",
      "[CV] END max_depth=4, min_samples_leaf=15, min_samples_split=51; total time=   0.3s\n",
      "[CV] END max_depth=4, min_samples_leaf=15, min_samples_split=51; total time=   0.3s\n",
      "[CV] END max_depth=4, min_samples_leaf=15, min_samples_split=51; total time=   0.3s\n",
      "[CV] END max_depth=4, min_samples_leaf=15, min_samples_split=51; total time=   0.3s\n",
      "[CV] END max_depth=4, min_samples_leaf=15, min_samples_split=51; total time=   0.3s\n",
      "[CV] END max_depth=5, min_samples_leaf=2, min_samples_split=10; total time=   0.3s\n",
      "[CV] END max_depth=5, min_samples_leaf=2, min_samples_split=10; total time=   0.3s\n",
      "[CV] END max_depth=5, min_samples_leaf=2, min_samples_split=10; total time=   0.3s\n",
      "[CV] END max_depth=5, min_samples_leaf=2, min_samples_split=10; total time=   0.3s\n",
      "[CV] END max_depth=5, min_samples_leaf=2, min_samples_split=10; total time=   0.3s\n",
      "[CV] END max_depth=5, min_samples_leaf=2, min_samples_split=10; total time=   0.3s\n",
      "[CV] END max_depth=5, min_samples_leaf=2, min_samples_split=10; total time=   0.3s\n",
      "[CV] END max_depth=5, min_samples_leaf=2, min_samples_split=10; total time=   0.3s\n",
      "[CV] END max_depth=5, min_samples_leaf=2, min_samples_split=10; total time=   0.3s\n",
      "[CV] END max_depth=5, min_samples_leaf=2, min_samples_split=10; total time=   0.3s\n",
      "[CV] END max_depth=5, min_samples_leaf=2, min_samples_split=20; total time=   0.3s\n",
      "[CV] END max_depth=5, min_samples_leaf=2, min_samples_split=20; total time=   0.3s\n",
      "[CV] END max_depth=5, min_samples_leaf=2, min_samples_split=20; total time=   0.3s\n",
      "[CV] END max_depth=5, min_samples_leaf=2, min_samples_split=20; total time=   0.3s\n",
      "[CV] END max_depth=5, min_samples_leaf=2, min_samples_split=20; total time=   0.3s\n",
      "[CV] END max_depth=5, min_samples_leaf=2, min_samples_split=20; total time=   0.3s\n",
      "[CV] END max_depth=5, min_samples_leaf=2, min_samples_split=20; total time=   0.3s\n",
      "[CV] END max_depth=5, min_samples_leaf=2, min_samples_split=20; total time=   0.3s\n",
      "[CV] END max_depth=5, min_samples_leaf=2, min_samples_split=20; total time=   0.3s\n",
      "[CV] END max_depth=5, min_samples_leaf=2, min_samples_split=20; total time=   0.3s\n",
      "[CV] END max_depth=5, min_samples_leaf=2, min_samples_split=50; total time=   0.3s\n",
      "[CV] END max_depth=5, min_samples_leaf=2, min_samples_split=50; total time=   0.3s\n",
      "[CV] END max_depth=5, min_samples_leaf=2, min_samples_split=50; total time=   0.3s\n",
      "[CV] END max_depth=5, min_samples_leaf=2, min_samples_split=50; total time=   0.3s\n",
      "[CV] END max_depth=5, min_samples_leaf=2, min_samples_split=50; total time=   0.4s\n",
      "[CV] END max_depth=5, min_samples_leaf=2, min_samples_split=50; total time=   0.3s\n",
      "[CV] END max_depth=5, min_samples_leaf=2, min_samples_split=50; total time=   0.3s\n",
      "[CV] END max_depth=5, min_samples_leaf=2, min_samples_split=50; total time=   0.3s\n",
      "[CV] END max_depth=5, min_samples_leaf=2, min_samples_split=50; total time=   0.3s\n",
      "[CV] END max_depth=5, min_samples_leaf=2, min_samples_split=50; total time=   0.3s\n",
      "[CV] END max_depth=5, min_samples_leaf=2, min_samples_split=51; total time=   0.3s\n",
      "[CV] END max_depth=5, min_samples_leaf=2, min_samples_split=51; total time=   0.3s\n",
      "[CV] END max_depth=5, min_samples_leaf=2, min_samples_split=51; total time=   0.4s\n",
      "[CV] END max_depth=5, min_samples_leaf=2, min_samples_split=51; total time=   0.4s\n",
      "[CV] END max_depth=5, min_samples_leaf=2, min_samples_split=51; total time=   0.4s\n",
      "[CV] END max_depth=5, min_samples_leaf=2, min_samples_split=51; total time=   0.3s\n",
      "[CV] END max_depth=5, min_samples_leaf=2, min_samples_split=51; total time=   0.3s\n",
      "[CV] END max_depth=5, min_samples_leaf=2, min_samples_split=51; total time=   0.3s\n",
      "[CV] END max_depth=5, min_samples_leaf=2, min_samples_split=51; total time=   0.3s\n",
      "[CV] END max_depth=5, min_samples_leaf=2, min_samples_split=51; total time=   0.3s\n",
      "[CV] END max_depth=5, min_samples_leaf=5, min_samples_split=10; total time=   0.4s\n",
      "[CV] END max_depth=5, min_samples_leaf=5, min_samples_split=10; total time=   0.3s\n",
      "[CV] END max_depth=5, min_samples_leaf=5, min_samples_split=10; total time=   0.3s\n",
      "[CV] END max_depth=5, min_samples_leaf=5, min_samples_split=10; total time=   0.3s\n",
      "[CV] END max_depth=5, min_samples_leaf=5, min_samples_split=10; total time=   0.3s\n",
      "[CV] END max_depth=5, min_samples_leaf=5, min_samples_split=10; total time=   0.3s\n",
      "[CV] END max_depth=5, min_samples_leaf=5, min_samples_split=10; total time=   0.3s\n",
      "[CV] END max_depth=5, min_samples_leaf=5, min_samples_split=10; total time=   0.3s\n",
      "[CV] END max_depth=5, min_samples_leaf=5, min_samples_split=10; total time=   0.3s\n",
      "[CV] END max_depth=5, min_samples_leaf=5, min_samples_split=10; total time=   0.4s\n",
      "[CV] END max_depth=5, min_samples_leaf=5, min_samples_split=20; total time=   0.4s\n",
      "[CV] END max_depth=5, min_samples_leaf=5, min_samples_split=20; total time=   0.4s\n",
      "[CV] END max_depth=5, min_samples_leaf=5, min_samples_split=20; total time=   0.4s\n",
      "[CV] END max_depth=5, min_samples_leaf=5, min_samples_split=20; total time=   0.3s\n",
      "[CV] END max_depth=5, min_samples_leaf=5, min_samples_split=20; total time=   0.4s\n",
      "[CV] END max_depth=5, min_samples_leaf=5, min_samples_split=20; total time=   0.3s\n",
      "[CV] END max_depth=5, min_samples_leaf=5, min_samples_split=20; total time=   0.3s\n",
      "[CV] END max_depth=5, min_samples_leaf=5, min_samples_split=20; total time=   0.3s\n",
      "[CV] END max_depth=5, min_samples_leaf=5, min_samples_split=20; total time=   0.3s\n",
      "[CV] END max_depth=5, min_samples_leaf=5, min_samples_split=20; total time=   0.3s\n",
      "[CV] END max_depth=5, min_samples_leaf=5, min_samples_split=50; total time=   0.3s\n",
      "[CV] END max_depth=5, min_samples_leaf=5, min_samples_split=50; total time=   0.3s\n",
      "[CV] END max_depth=5, min_samples_leaf=5, min_samples_split=50; total time=   0.3s\n",
      "[CV] END max_depth=5, min_samples_leaf=5, min_samples_split=50; total time=   0.3s\n",
      "[CV] END max_depth=5, min_samples_leaf=5, min_samples_split=50; total time=   0.3s\n",
      "[CV] END max_depth=5, min_samples_leaf=5, min_samples_split=50; total time=   0.3s\n",
      "[CV] END max_depth=5, min_samples_leaf=5, min_samples_split=50; total time=   0.3s\n",
      "[CV] END max_depth=5, min_samples_leaf=5, min_samples_split=50; total time=   0.3s\n",
      "[CV] END max_depth=5, min_samples_leaf=5, min_samples_split=50; total time=   0.3s\n",
      "[CV] END max_depth=5, min_samples_leaf=5, min_samples_split=50; total time=   0.3s\n",
      "[CV] END max_depth=5, min_samples_leaf=5, min_samples_split=51; total time=   0.3s\n",
      "[CV] END max_depth=5, min_samples_leaf=5, min_samples_split=51; total time=   0.4s\n",
      "[CV] END max_depth=5, min_samples_leaf=5, min_samples_split=51; total time=   0.3s\n",
      "[CV] END max_depth=5, min_samples_leaf=5, min_samples_split=51; total time=   0.3s\n",
      "[CV] END max_depth=5, min_samples_leaf=5, min_samples_split=51; total time=   0.3s\n",
      "[CV] END max_depth=5, min_samples_leaf=5, min_samples_split=51; total time=   0.3s\n",
      "[CV] END max_depth=5, min_samples_leaf=5, min_samples_split=51; total time=   0.3s\n",
      "[CV] END max_depth=5, min_samples_leaf=5, min_samples_split=51; total time=   0.3s\n",
      "[CV] END max_depth=5, min_samples_leaf=5, min_samples_split=51; total time=   0.4s\n",
      "[CV] END max_depth=5, min_samples_leaf=5, min_samples_split=51; total time=   0.4s\n",
      "[CV] END max_depth=5, min_samples_leaf=10, min_samples_split=10; total time=   0.4s\n",
      "[CV] END max_depth=5, min_samples_leaf=10, min_samples_split=10; total time=   0.4s\n",
      "[CV] END max_depth=5, min_samples_leaf=10, min_samples_split=10; total time=   0.4s\n",
      "[CV] END max_depth=5, min_samples_leaf=10, min_samples_split=10; total time=   0.4s\n",
      "[CV] END max_depth=5, min_samples_leaf=10, min_samples_split=10; total time=   0.4s\n",
      "[CV] END max_depth=5, min_samples_leaf=10, min_samples_split=10; total time=   0.4s\n",
      "[CV] END max_depth=5, min_samples_leaf=10, min_samples_split=10; total time=   0.4s\n",
      "[CV] END max_depth=5, min_samples_leaf=10, min_samples_split=10; total time=   0.4s\n",
      "[CV] END max_depth=5, min_samples_leaf=10, min_samples_split=10; total time=   0.4s\n",
      "[CV] END max_depth=5, min_samples_leaf=10, min_samples_split=10; total time=   0.4s\n",
      "[CV] END max_depth=5, min_samples_leaf=10, min_samples_split=20; total time=   0.4s\n",
      "[CV] END max_depth=5, min_samples_leaf=10, min_samples_split=20; total time=   0.4s\n",
      "[CV] END max_depth=5, min_samples_leaf=10, min_samples_split=20; total time=   0.4s\n",
      "[CV] END max_depth=5, min_samples_leaf=10, min_samples_split=20; total time=   0.4s\n",
      "[CV] END max_depth=5, min_samples_leaf=10, min_samples_split=20; total time=   0.3s\n",
      "[CV] END max_depth=5, min_samples_leaf=10, min_samples_split=20; total time=   0.4s\n",
      "[CV] END max_depth=5, min_samples_leaf=10, min_samples_split=20; total time=   0.4s\n",
      "[CV] END max_depth=5, min_samples_leaf=10, min_samples_split=20; total time=   0.4s\n",
      "[CV] END max_depth=5, min_samples_leaf=10, min_samples_split=20; total time=   0.4s\n",
      "[CV] END max_depth=5, min_samples_leaf=10, min_samples_split=20; total time=   0.4s\n",
      "[CV] END max_depth=5, min_samples_leaf=10, min_samples_split=50; total time=   0.4s\n",
      "[CV] END max_depth=5, min_samples_leaf=10, min_samples_split=50; total time=   0.4s\n",
      "[CV] END max_depth=5, min_samples_leaf=10, min_samples_split=50; total time=   0.4s\n",
      "[CV] END max_depth=5, min_samples_leaf=10, min_samples_split=50; total time=   0.4s\n",
      "[CV] END max_depth=5, min_samples_leaf=10, min_samples_split=50; total time=   0.4s\n",
      "[CV] END max_depth=5, min_samples_leaf=10, min_samples_split=50; total time=   0.4s\n",
      "[CV] END max_depth=5, min_samples_leaf=10, min_samples_split=50; total time=   0.4s\n",
      "[CV] END max_depth=5, min_samples_leaf=10, min_samples_split=50; total time=   0.4s\n",
      "[CV] END max_depth=5, min_samples_leaf=10, min_samples_split=50; total time=   0.3s\n",
      "[CV] END max_depth=5, min_samples_leaf=10, min_samples_split=50; total time=   0.4s\n",
      "[CV] END max_depth=5, min_samples_leaf=10, min_samples_split=51; total time=   0.4s\n",
      "[CV] END max_depth=5, min_samples_leaf=10, min_samples_split=51; total time=   0.4s\n",
      "[CV] END max_depth=5, min_samples_leaf=10, min_samples_split=51; total time=   0.4s\n",
      "[CV] END max_depth=5, min_samples_leaf=10, min_samples_split=51; total time=   0.4s\n",
      "[CV] END max_depth=5, min_samples_leaf=10, min_samples_split=51; total time=   0.4s\n",
      "[CV] END max_depth=5, min_samples_leaf=10, min_samples_split=51; total time=   0.4s\n",
      "[CV] END max_depth=5, min_samples_leaf=10, min_samples_split=51; total time=   0.4s\n",
      "[CV] END max_depth=5, min_samples_leaf=10, min_samples_split=51; total time=   0.4s\n",
      "[CV] END max_depth=5, min_samples_leaf=10, min_samples_split=51; total time=   0.4s\n",
      "[CV] END max_depth=5, min_samples_leaf=10, min_samples_split=51; total time=   0.5s\n",
      "[CV] END max_depth=5, min_samples_leaf=15, min_samples_split=10; total time=   0.4s\n",
      "[CV] END max_depth=5, min_samples_leaf=15, min_samples_split=10; total time=   0.4s\n",
      "[CV] END max_depth=5, min_samples_leaf=15, min_samples_split=10; total time=   0.4s\n",
      "[CV] END max_depth=5, min_samples_leaf=15, min_samples_split=10; total time=   0.4s\n",
      "[CV] END max_depth=5, min_samples_leaf=15, min_samples_split=10; total time=   0.3s\n",
      "[CV] END max_depth=5, min_samples_leaf=15, min_samples_split=10; total time=   0.4s\n",
      "[CV] END max_depth=5, min_samples_leaf=15, min_samples_split=10; total time=   0.3s\n",
      "[CV] END max_depth=5, min_samples_leaf=15, min_samples_split=10; total time=   0.4s\n",
      "[CV] END max_depth=5, min_samples_leaf=15, min_samples_split=10; total time=   0.4s\n",
      "[CV] END max_depth=5, min_samples_leaf=15, min_samples_split=10; total time=   0.4s\n",
      "[CV] END max_depth=5, min_samples_leaf=15, min_samples_split=20; total time=   0.4s\n",
      "[CV] END max_depth=5, min_samples_leaf=15, min_samples_split=20; total time=   0.3s\n",
      "[CV] END max_depth=5, min_samples_leaf=15, min_samples_split=20; total time=   0.3s\n",
      "[CV] END max_depth=5, min_samples_leaf=15, min_samples_split=20; total time=   0.3s\n",
      "[CV] END max_depth=5, min_samples_leaf=15, min_samples_split=20; total time=   0.3s\n",
      "[CV] END max_depth=5, min_samples_leaf=15, min_samples_split=20; total time=   0.3s\n",
      "[CV] END max_depth=5, min_samples_leaf=15, min_samples_split=20; total time=   0.3s\n",
      "[CV] END max_depth=5, min_samples_leaf=15, min_samples_split=20; total time=   0.3s\n",
      "[CV] END max_depth=5, min_samples_leaf=15, min_samples_split=20; total time=   0.3s\n",
      "[CV] END max_depth=5, min_samples_leaf=15, min_samples_split=20; total time=   0.3s\n",
      "[CV] END max_depth=5, min_samples_leaf=15, min_samples_split=50; total time=   0.3s\n",
      "[CV] END max_depth=5, min_samples_leaf=15, min_samples_split=50; total time=   0.3s\n",
      "[CV] END max_depth=5, min_samples_leaf=15, min_samples_split=50; total time=   0.3s\n",
      "[CV] END max_depth=5, min_samples_leaf=15, min_samples_split=50; total time=   0.3s\n",
      "[CV] END max_depth=5, min_samples_leaf=15, min_samples_split=50; total time=   0.3s\n",
      "[CV] END max_depth=5, min_samples_leaf=15, min_samples_split=50; total time=   0.3s\n",
      "[CV] END max_depth=5, min_samples_leaf=15, min_samples_split=50; total time=   0.3s\n",
      "[CV] END max_depth=5, min_samples_leaf=15, min_samples_split=50; total time=   0.3s\n",
      "[CV] END max_depth=5, min_samples_leaf=15, min_samples_split=50; total time=   0.3s\n",
      "[CV] END max_depth=5, min_samples_leaf=15, min_samples_split=50; total time=   0.3s\n",
      "[CV] END max_depth=5, min_samples_leaf=15, min_samples_split=51; total time=   0.3s\n",
      "[CV] END max_depth=5, min_samples_leaf=15, min_samples_split=51; total time=   0.3s\n",
      "[CV] END max_depth=5, min_samples_leaf=15, min_samples_split=51; total time=   0.3s\n",
      "[CV] END max_depth=5, min_samples_leaf=15, min_samples_split=51; total time=   0.3s\n",
      "[CV] END max_depth=5, min_samples_leaf=15, min_samples_split=51; total time=   0.3s\n",
      "[CV] END max_depth=5, min_samples_leaf=15, min_samples_split=51; total time=   0.3s\n",
      "[CV] END max_depth=5, min_samples_leaf=15, min_samples_split=51; total time=   0.3s\n",
      "[CV] END max_depth=5, min_samples_leaf=15, min_samples_split=51; total time=   0.3s\n",
      "[CV] END max_depth=5, min_samples_leaf=15, min_samples_split=51; total time=   0.3s\n",
      "[CV] END max_depth=5, min_samples_leaf=15, min_samples_split=51; total time=   0.3s\n",
      "[CV] END max_depth=6, min_samples_leaf=2, min_samples_split=10; total time=   0.3s\n",
      "[CV] END max_depth=6, min_samples_leaf=2, min_samples_split=10; total time=   0.4s\n",
      "[CV] END max_depth=6, min_samples_leaf=2, min_samples_split=10; total time=   0.4s\n",
      "[CV] END max_depth=6, min_samples_leaf=2, min_samples_split=10; total time=   0.4s\n",
      "[CV] END max_depth=6, min_samples_leaf=2, min_samples_split=10; total time=   0.4s\n",
      "[CV] END max_depth=6, min_samples_leaf=2, min_samples_split=10; total time=   0.4s\n",
      "[CV] END max_depth=6, min_samples_leaf=2, min_samples_split=10; total time=   0.3s\n",
      "[CV] END max_depth=6, min_samples_leaf=2, min_samples_split=10; total time=   0.4s\n",
      "[CV] END max_depth=6, min_samples_leaf=2, min_samples_split=10; total time=   0.4s\n",
      "[CV] END max_depth=6, min_samples_leaf=2, min_samples_split=10; total time=   0.4s\n",
      "[CV] END max_depth=6, min_samples_leaf=2, min_samples_split=20; total time=   0.4s\n",
      "[CV] END max_depth=6, min_samples_leaf=2, min_samples_split=20; total time=   0.4s\n",
      "[CV] END max_depth=6, min_samples_leaf=2, min_samples_split=20; total time=   0.4s\n",
      "[CV] END max_depth=6, min_samples_leaf=2, min_samples_split=20; total time=   0.4s\n",
      "[CV] END max_depth=6, min_samples_leaf=2, min_samples_split=20; total time=   0.4s\n",
      "[CV] END max_depth=6, min_samples_leaf=2, min_samples_split=20; total time=   0.3s\n",
      "[CV] END max_depth=6, min_samples_leaf=2, min_samples_split=20; total time=   0.4s\n",
      "[CV] END max_depth=6, min_samples_leaf=2, min_samples_split=20; total time=   0.4s\n",
      "[CV] END max_depth=6, min_samples_leaf=2, min_samples_split=20; total time=   0.4s\n",
      "[CV] END max_depth=6, min_samples_leaf=2, min_samples_split=20; total time=   0.4s\n",
      "[CV] END max_depth=6, min_samples_leaf=2, min_samples_split=50; total time=   0.4s\n",
      "[CV] END max_depth=6, min_samples_leaf=2, min_samples_split=50; total time=   0.5s\n",
      "[CV] END max_depth=6, min_samples_leaf=2, min_samples_split=50; total time=   0.4s\n",
      "[CV] END max_depth=6, min_samples_leaf=2, min_samples_split=50; total time=   0.4s\n",
      "[CV] END max_depth=6, min_samples_leaf=2, min_samples_split=50; total time=   0.4s\n",
      "[CV] END max_depth=6, min_samples_leaf=2, min_samples_split=50; total time=   0.4s\n",
      "[CV] END max_depth=6, min_samples_leaf=2, min_samples_split=50; total time=   0.4s\n",
      "[CV] END max_depth=6, min_samples_leaf=2, min_samples_split=50; total time=   0.4s\n",
      "[CV] END max_depth=6, min_samples_leaf=2, min_samples_split=50; total time=   0.4s\n",
      "[CV] END max_depth=6, min_samples_leaf=2, min_samples_split=50; total time=   0.4s\n",
      "[CV] END max_depth=6, min_samples_leaf=2, min_samples_split=51; total time=   0.4s\n",
      "[CV] END max_depth=6, min_samples_leaf=2, min_samples_split=51; total time=   0.4s\n",
      "[CV] END max_depth=6, min_samples_leaf=2, min_samples_split=51; total time=   0.4s\n",
      "[CV] END max_depth=6, min_samples_leaf=2, min_samples_split=51; total time=   0.4s\n",
      "[CV] END max_depth=6, min_samples_leaf=2, min_samples_split=51; total time=   0.4s\n",
      "[CV] END max_depth=6, min_samples_leaf=2, min_samples_split=51; total time=   0.4s\n",
      "[CV] END max_depth=6, min_samples_leaf=2, min_samples_split=51; total time=   0.4s\n",
      "[CV] END max_depth=6, min_samples_leaf=2, min_samples_split=51; total time=   0.4s\n",
      "[CV] END max_depth=6, min_samples_leaf=2, min_samples_split=51; total time=   0.4s\n",
      "[CV] END max_depth=6, min_samples_leaf=2, min_samples_split=51; total time=   0.4s\n",
      "[CV] END max_depth=6, min_samples_leaf=5, min_samples_split=10; total time=   0.4s\n",
      "[CV] END max_depth=6, min_samples_leaf=5, min_samples_split=10; total time=   0.4s\n",
      "[CV] END max_depth=6, min_samples_leaf=5, min_samples_split=10; total time=   0.3s\n",
      "[CV] END max_depth=6, min_samples_leaf=5, min_samples_split=10; total time=   0.3s\n",
      "[CV] END max_depth=6, min_samples_leaf=5, min_samples_split=10; total time=   0.3s\n",
      "[CV] END max_depth=6, min_samples_leaf=5, min_samples_split=10; total time=   0.4s\n",
      "[CV] END max_depth=6, min_samples_leaf=5, min_samples_split=10; total time=   0.3s\n",
      "[CV] END max_depth=6, min_samples_leaf=5, min_samples_split=10; total time=   0.4s\n",
      "[CV] END max_depth=6, min_samples_leaf=5, min_samples_split=10; total time=   0.4s\n",
      "[CV] END max_depth=6, min_samples_leaf=5, min_samples_split=10; total time=   0.4s\n",
      "[CV] END max_depth=6, min_samples_leaf=5, min_samples_split=20; total time=   0.3s\n",
      "[CV] END max_depth=6, min_samples_leaf=5, min_samples_split=20; total time=   0.3s\n",
      "[CV] END max_depth=6, min_samples_leaf=5, min_samples_split=20; total time=   0.4s\n",
      "[CV] END max_depth=6, min_samples_leaf=5, min_samples_split=20; total time=   0.4s\n",
      "[CV] END max_depth=6, min_samples_leaf=5, min_samples_split=20; total time=   0.4s\n",
      "[CV] END max_depth=6, min_samples_leaf=5, min_samples_split=20; total time=   0.5s\n",
      "[CV] END max_depth=6, min_samples_leaf=5, min_samples_split=20; total time=   0.4s\n",
      "[CV] END max_depth=6, min_samples_leaf=5, min_samples_split=20; total time=   0.4s\n",
      "[CV] END max_depth=6, min_samples_leaf=5, min_samples_split=20; total time=   0.5s\n",
      "[CV] END max_depth=6, min_samples_leaf=5, min_samples_split=20; total time=   0.4s\n",
      "[CV] END max_depth=6, min_samples_leaf=5, min_samples_split=50; total time=   0.4s\n",
      "[CV] END max_depth=6, min_samples_leaf=5, min_samples_split=50; total time=   0.5s\n",
      "[CV] END max_depth=6, min_samples_leaf=5, min_samples_split=50; total time=   0.4s\n",
      "[CV] END max_depth=6, min_samples_leaf=5, min_samples_split=50; total time=   0.4s\n",
      "[CV] END max_depth=6, min_samples_leaf=5, min_samples_split=50; total time=   0.4s\n",
      "[CV] END max_depth=6, min_samples_leaf=5, min_samples_split=50; total time=   0.4s\n",
      "[CV] END max_depth=6, min_samples_leaf=5, min_samples_split=50; total time=   0.4s\n",
      "[CV] END max_depth=6, min_samples_leaf=5, min_samples_split=50; total time=   0.4s\n",
      "[CV] END max_depth=6, min_samples_leaf=5, min_samples_split=50; total time=   0.4s\n",
      "[CV] END max_depth=6, min_samples_leaf=5, min_samples_split=50; total time=   0.4s\n",
      "[CV] END max_depth=6, min_samples_leaf=5, min_samples_split=51; total time=   0.4s\n",
      "[CV] END max_depth=6, min_samples_leaf=5, min_samples_split=51; total time=   0.4s\n",
      "[CV] END max_depth=6, min_samples_leaf=5, min_samples_split=51; total time=   0.4s\n",
      "[CV] END max_depth=6, min_samples_leaf=5, min_samples_split=51; total time=   0.4s\n",
      "[CV] END max_depth=6, min_samples_leaf=5, min_samples_split=51; total time=   0.4s\n",
      "[CV] END max_depth=6, min_samples_leaf=5, min_samples_split=51; total time=   0.4s\n",
      "[CV] END max_depth=6, min_samples_leaf=5, min_samples_split=51; total time=   0.4s\n",
      "[CV] END max_depth=6, min_samples_leaf=5, min_samples_split=51; total time=   0.4s\n",
      "[CV] END max_depth=6, min_samples_leaf=5, min_samples_split=51; total time=   0.4s\n",
      "[CV] END max_depth=6, min_samples_leaf=5, min_samples_split=51; total time=   0.3s\n",
      "[CV] END max_depth=6, min_samples_leaf=10, min_samples_split=10; total time=   0.3s\n",
      "[CV] END max_depth=6, min_samples_leaf=10, min_samples_split=10; total time=   0.3s\n",
      "[CV] END max_depth=6, min_samples_leaf=10, min_samples_split=10; total time=   0.3s\n",
      "[CV] END max_depth=6, min_samples_leaf=10, min_samples_split=10; total time=   0.4s\n",
      "[CV] END max_depth=6, min_samples_leaf=10, min_samples_split=10; total time=   0.3s\n",
      "[CV] END max_depth=6, min_samples_leaf=10, min_samples_split=10; total time=   0.3s\n",
      "[CV] END max_depth=6, min_samples_leaf=10, min_samples_split=10; total time=   0.4s\n",
      "[CV] END max_depth=6, min_samples_leaf=10, min_samples_split=10; total time=   0.4s\n",
      "[CV] END max_depth=6, min_samples_leaf=10, min_samples_split=10; total time=   0.4s\n",
      "[CV] END max_depth=6, min_samples_leaf=10, min_samples_split=10; total time=   0.4s\n",
      "[CV] END max_depth=6, min_samples_leaf=10, min_samples_split=20; total time=   0.4s\n",
      "[CV] END max_depth=6, min_samples_leaf=10, min_samples_split=20; total time=   0.3s\n",
      "[CV] END max_depth=6, min_samples_leaf=10, min_samples_split=20; total time=   0.4s\n",
      "[CV] END max_depth=6, min_samples_leaf=10, min_samples_split=20; total time=   0.4s\n",
      "[CV] END max_depth=6, min_samples_leaf=10, min_samples_split=20; total time=   0.4s\n",
      "[CV] END max_depth=6, min_samples_leaf=10, min_samples_split=20; total time=   0.4s\n",
      "[CV] END max_depth=6, min_samples_leaf=10, min_samples_split=20; total time=   0.4s\n",
      "[CV] END max_depth=6, min_samples_leaf=10, min_samples_split=20; total time=   0.4s\n",
      "[CV] END max_depth=6, min_samples_leaf=10, min_samples_split=20; total time=   0.5s\n",
      "[CV] END max_depth=6, min_samples_leaf=10, min_samples_split=20; total time=   0.5s\n",
      "[CV] END max_depth=6, min_samples_leaf=10, min_samples_split=50; total time=   0.4s\n",
      "[CV] END max_depth=6, min_samples_leaf=10, min_samples_split=50; total time=   0.4s\n",
      "[CV] END max_depth=6, min_samples_leaf=10, min_samples_split=50; total time=   0.4s\n",
      "[CV] END max_depth=6, min_samples_leaf=10, min_samples_split=50; total time=   0.4s\n",
      "[CV] END max_depth=6, min_samples_leaf=10, min_samples_split=50; total time=   0.4s\n",
      "[CV] END max_depth=6, min_samples_leaf=10, min_samples_split=50; total time=   0.4s\n",
      "[CV] END max_depth=6, min_samples_leaf=10, min_samples_split=50; total time=   0.3s\n",
      "[CV] END max_depth=6, min_samples_leaf=10, min_samples_split=50; total time=   0.3s\n",
      "[CV] END max_depth=6, min_samples_leaf=10, min_samples_split=50; total time=   0.4s\n",
      "[CV] END max_depth=6, min_samples_leaf=10, min_samples_split=50; total time=   0.4s\n",
      "[CV] END max_depth=6, min_samples_leaf=10, min_samples_split=51; total time=   0.4s\n",
      "[CV] END max_depth=6, min_samples_leaf=10, min_samples_split=51; total time=   0.4s\n",
      "[CV] END max_depth=6, min_samples_leaf=10, min_samples_split=51; total time=   0.4s\n",
      "[CV] END max_depth=6, min_samples_leaf=10, min_samples_split=51; total time=   0.3s\n",
      "[CV] END max_depth=6, min_samples_leaf=10, min_samples_split=51; total time=   0.3s\n",
      "[CV] END max_depth=6, min_samples_leaf=10, min_samples_split=51; total time=   0.4s\n",
      "[CV] END max_depth=6, min_samples_leaf=10, min_samples_split=51; total time=   0.4s\n",
      "[CV] END max_depth=6, min_samples_leaf=10, min_samples_split=51; total time=   0.4s\n",
      "[CV] END max_depth=6, min_samples_leaf=10, min_samples_split=51; total time=   0.4s\n",
      "[CV] END max_depth=6, min_samples_leaf=10, min_samples_split=51; total time=   0.3s\n",
      "[CV] END max_depth=6, min_samples_leaf=15, min_samples_split=10; total time=   0.4s\n",
      "[CV] END max_depth=6, min_samples_leaf=15, min_samples_split=10; total time=   0.4s\n",
      "[CV] END max_depth=6, min_samples_leaf=15, min_samples_split=10; total time=   0.4s\n",
      "[CV] END max_depth=6, min_samples_leaf=15, min_samples_split=10; total time=   0.4s\n",
      "[CV] END max_depth=6, min_samples_leaf=15, min_samples_split=10; total time=   0.3s\n",
      "[CV] END max_depth=6, min_samples_leaf=15, min_samples_split=10; total time=   0.4s\n",
      "[CV] END max_depth=6, min_samples_leaf=15, min_samples_split=10; total time=   0.4s\n",
      "[CV] END max_depth=6, min_samples_leaf=15, min_samples_split=10; total time=   0.4s\n",
      "[CV] END max_depth=6, min_samples_leaf=15, min_samples_split=10; total time=   0.4s\n",
      "[CV] END max_depth=6, min_samples_leaf=15, min_samples_split=10; total time=   0.4s\n",
      "[CV] END max_depth=6, min_samples_leaf=15, min_samples_split=20; total time=   0.4s\n",
      "[CV] END max_depth=6, min_samples_leaf=15, min_samples_split=20; total time=   0.4s\n",
      "[CV] END max_depth=6, min_samples_leaf=15, min_samples_split=20; total time=   0.4s\n",
      "[CV] END max_depth=6, min_samples_leaf=15, min_samples_split=20; total time=   0.4s\n",
      "[CV] END max_depth=6, min_samples_leaf=15, min_samples_split=20; total time=   0.4s\n",
      "[CV] END max_depth=6, min_samples_leaf=15, min_samples_split=20; total time=   0.4s\n",
      "[CV] END max_depth=6, min_samples_leaf=15, min_samples_split=20; total time=   0.5s\n",
      "[CV] END max_depth=6, min_samples_leaf=15, min_samples_split=20; total time=   0.5s\n",
      "[CV] END max_depth=6, min_samples_leaf=15, min_samples_split=20; total time=   0.5s\n",
      "[CV] END max_depth=6, min_samples_leaf=15, min_samples_split=20; total time=   0.4s\n",
      "[CV] END max_depth=6, min_samples_leaf=15, min_samples_split=50; total time=   0.4s\n",
      "[CV] END max_depth=6, min_samples_leaf=15, min_samples_split=50; total time=   0.4s\n",
      "[CV] END max_depth=6, min_samples_leaf=15, min_samples_split=50; total time=   0.4s\n",
      "[CV] END max_depth=6, min_samples_leaf=15, min_samples_split=50; total time=   0.4s\n",
      "[CV] END max_depth=6, min_samples_leaf=15, min_samples_split=50; total time=   0.4s\n",
      "[CV] END max_depth=6, min_samples_leaf=15, min_samples_split=50; total time=   0.4s\n",
      "[CV] END max_depth=6, min_samples_leaf=15, min_samples_split=50; total time=   0.4s\n",
      "[CV] END max_depth=6, min_samples_leaf=15, min_samples_split=50; total time=   0.4s\n",
      "[CV] END max_depth=6, min_samples_leaf=15, min_samples_split=50; total time=   0.4s\n",
      "[CV] END max_depth=6, min_samples_leaf=15, min_samples_split=50; total time=   0.3s\n",
      "[CV] END max_depth=6, min_samples_leaf=15, min_samples_split=51; total time=   0.3s\n",
      "[CV] END max_depth=6, min_samples_leaf=15, min_samples_split=51; total time=   0.3s\n",
      "[CV] END max_depth=6, min_samples_leaf=15, min_samples_split=51; total time=   0.3s\n",
      "[CV] END max_depth=6, min_samples_leaf=15, min_samples_split=51; total time=   0.3s\n",
      "[CV] END max_depth=6, min_samples_leaf=15, min_samples_split=51; total time=   0.3s\n",
      "[CV] END max_depth=6, min_samples_leaf=15, min_samples_split=51; total time=   0.3s\n",
      "[CV] END max_depth=6, min_samples_leaf=15, min_samples_split=51; total time=   0.4s\n",
      "[CV] END max_depth=6, min_samples_leaf=15, min_samples_split=51; total time=   0.3s\n",
      "[CV] END max_depth=6, min_samples_leaf=15, min_samples_split=51; total time=   0.3s\n",
      "[CV] END max_depth=6, min_samples_leaf=15, min_samples_split=51; total time=   0.3s\n",
      "[CV] END max_depth=8, min_samples_leaf=2, min_samples_split=10; total time=   0.4s\n",
      "[CV] END max_depth=8, min_samples_leaf=2, min_samples_split=10; total time=   0.4s\n",
      "[CV] END max_depth=8, min_samples_leaf=2, min_samples_split=10; total time=   0.4s\n",
      "[CV] END max_depth=8, min_samples_leaf=2, min_samples_split=10; total time=   0.4s\n",
      "[CV] END max_depth=8, min_samples_leaf=2, min_samples_split=10; total time=   0.4s\n",
      "[CV] END max_depth=8, min_samples_leaf=2, min_samples_split=10; total time=   0.4s\n",
      "[CV] END max_depth=8, min_samples_leaf=2, min_samples_split=10; total time=   0.4s\n",
      "[CV] END max_depth=8, min_samples_leaf=2, min_samples_split=10; total time=   0.4s\n",
      "[CV] END max_depth=8, min_samples_leaf=2, min_samples_split=10; total time=   0.4s\n",
      "[CV] END max_depth=8, min_samples_leaf=2, min_samples_split=10; total time=   0.4s\n",
      "[CV] END max_depth=8, min_samples_leaf=2, min_samples_split=20; total time=   0.4s\n",
      "[CV] END max_depth=8, min_samples_leaf=2, min_samples_split=20; total time=   0.4s\n",
      "[CV] END max_depth=8, min_samples_leaf=2, min_samples_split=20; total time=   0.4s\n",
      "[CV] END max_depth=8, min_samples_leaf=2, min_samples_split=20; total time=   0.4s\n",
      "[CV] END max_depth=8, min_samples_leaf=2, min_samples_split=20; total time=   0.4s\n",
      "[CV] END max_depth=8, min_samples_leaf=2, min_samples_split=20; total time=   0.4s\n",
      "[CV] END max_depth=8, min_samples_leaf=2, min_samples_split=20; total time=   0.4s\n",
      "[CV] END max_depth=8, min_samples_leaf=2, min_samples_split=20; total time=   0.4s\n",
      "[CV] END max_depth=8, min_samples_leaf=2, min_samples_split=20; total time=   0.4s\n",
      "[CV] END max_depth=8, min_samples_leaf=2, min_samples_split=20; total time=   0.4s\n",
      "[CV] END max_depth=8, min_samples_leaf=2, min_samples_split=50; total time=   0.4s\n",
      "[CV] END max_depth=8, min_samples_leaf=2, min_samples_split=50; total time=   0.5s\n",
      "[CV] END max_depth=8, min_samples_leaf=2, min_samples_split=50; total time=   0.5s\n",
      "[CV] END max_depth=8, min_samples_leaf=2, min_samples_split=50; total time=   0.5s\n",
      "[CV] END max_depth=8, min_samples_leaf=2, min_samples_split=50; total time=   0.5s\n",
      "[CV] END max_depth=8, min_samples_leaf=2, min_samples_split=50; total time=   0.5s\n",
      "[CV] END max_depth=8, min_samples_leaf=2, min_samples_split=50; total time=   0.5s\n",
      "[CV] END max_depth=8, min_samples_leaf=2, min_samples_split=50; total time=   0.5s\n",
      "[CV] END max_depth=8, min_samples_leaf=2, min_samples_split=50; total time=   0.4s\n",
      "[CV] END max_depth=8, min_samples_leaf=2, min_samples_split=50; total time=   0.4s\n",
      "[CV] END max_depth=8, min_samples_leaf=2, min_samples_split=51; total time=   0.4s\n",
      "[CV] END max_depth=8, min_samples_leaf=2, min_samples_split=51; total time=   0.4s\n",
      "[CV] END max_depth=8, min_samples_leaf=2, min_samples_split=51; total time=   0.4s\n",
      "[CV] END max_depth=8, min_samples_leaf=2, min_samples_split=51; total time=   0.4s\n",
      "[CV] END max_depth=8, min_samples_leaf=2, min_samples_split=51; total time=   0.4s\n",
      "[CV] END max_depth=8, min_samples_leaf=2, min_samples_split=51; total time=   0.4s\n",
      "[CV] END max_depth=8, min_samples_leaf=2, min_samples_split=51; total time=   0.4s\n",
      "[CV] END max_depth=8, min_samples_leaf=2, min_samples_split=51; total time=   0.4s\n",
      "[CV] END max_depth=8, min_samples_leaf=2, min_samples_split=51; total time=   0.4s\n",
      "[CV] END max_depth=8, min_samples_leaf=2, min_samples_split=51; total time=   0.4s\n",
      "[CV] END max_depth=8, min_samples_leaf=5, min_samples_split=10; total time=   0.4s\n",
      "[CV] END max_depth=8, min_samples_leaf=5, min_samples_split=10; total time=   0.4s\n",
      "[CV] END max_depth=8, min_samples_leaf=5, min_samples_split=10; total time=   0.4s\n",
      "[CV] END max_depth=8, min_samples_leaf=5, min_samples_split=10; total time=   0.4s\n",
      "[CV] END max_depth=8, min_samples_leaf=5, min_samples_split=10; total time=   0.4s\n",
      "[CV] END max_depth=8, min_samples_leaf=5, min_samples_split=10; total time=   0.5s\n",
      "[CV] END max_depth=8, min_samples_leaf=5, min_samples_split=10; total time=   0.5s\n",
      "[CV] END max_depth=8, min_samples_leaf=5, min_samples_split=10; total time=   0.4s\n",
      "[CV] END max_depth=8, min_samples_leaf=5, min_samples_split=10; total time=   0.4s\n",
      "[CV] END max_depth=8, min_samples_leaf=5, min_samples_split=10; total time=   0.4s\n",
      "[CV] END max_depth=8, min_samples_leaf=5, min_samples_split=20; total time=   0.4s\n",
      "[CV] END max_depth=8, min_samples_leaf=5, min_samples_split=20; total time=   0.4s\n",
      "[CV] END max_depth=8, min_samples_leaf=5, min_samples_split=20; total time=   0.4s\n",
      "[CV] END max_depth=8, min_samples_leaf=5, min_samples_split=20; total time=   0.4s\n",
      "[CV] END max_depth=8, min_samples_leaf=5, min_samples_split=20; total time=   0.4s\n",
      "[CV] END max_depth=8, min_samples_leaf=5, min_samples_split=20; total time=   0.4s\n",
      "[CV] END max_depth=8, min_samples_leaf=5, min_samples_split=20; total time=   0.4s\n",
      "[CV] END max_depth=8, min_samples_leaf=5, min_samples_split=20; total time=   0.4s\n",
      "[CV] END max_depth=8, min_samples_leaf=5, min_samples_split=20; total time=   0.4s\n",
      "[CV] END max_depth=8, min_samples_leaf=5, min_samples_split=20; total time=   0.4s\n",
      "[CV] END max_depth=8, min_samples_leaf=5, min_samples_split=50; total time=   0.4s\n",
      "[CV] END max_depth=8, min_samples_leaf=5, min_samples_split=50; total time=   0.4s\n",
      "[CV] END max_depth=8, min_samples_leaf=5, min_samples_split=50; total time=   0.4s\n",
      "[CV] END max_depth=8, min_samples_leaf=5, min_samples_split=50; total time=   0.4s\n",
      "[CV] END max_depth=8, min_samples_leaf=5, min_samples_split=50; total time=   0.4s\n",
      "[CV] END max_depth=8, min_samples_leaf=5, min_samples_split=50; total time=   0.4s\n",
      "[CV] END max_depth=8, min_samples_leaf=5, min_samples_split=50; total time=   0.4s\n",
      "[CV] END max_depth=8, min_samples_leaf=5, min_samples_split=50; total time=   0.4s\n",
      "[CV] END max_depth=8, min_samples_leaf=5, min_samples_split=50; total time=   0.4s\n",
      "[CV] END max_depth=8, min_samples_leaf=5, min_samples_split=50; total time=   0.4s\n",
      "[CV] END max_depth=8, min_samples_leaf=5, min_samples_split=51; total time=   0.4s\n",
      "[CV] END max_depth=8, min_samples_leaf=5, min_samples_split=51; total time=   0.4s\n",
      "[CV] END max_depth=8, min_samples_leaf=5, min_samples_split=51; total time=   0.4s\n",
      "[CV] END max_depth=8, min_samples_leaf=5, min_samples_split=51; total time=   0.4s\n",
      "[CV] END max_depth=8, min_samples_leaf=5, min_samples_split=51; total time=   0.4s\n",
      "[CV] END max_depth=8, min_samples_leaf=5, min_samples_split=51; total time=   0.4s\n",
      "[CV] END max_depth=8, min_samples_leaf=5, min_samples_split=51; total time=   0.4s\n",
      "[CV] END max_depth=8, min_samples_leaf=5, min_samples_split=51; total time=   0.4s\n",
      "[CV] END max_depth=8, min_samples_leaf=5, min_samples_split=51; total time=   0.4s\n",
      "[CV] END max_depth=8, min_samples_leaf=5, min_samples_split=51; total time=   0.4s\n",
      "[CV] END max_depth=8, min_samples_leaf=10, min_samples_split=10; total time=   0.4s\n",
      "[CV] END max_depth=8, min_samples_leaf=10, min_samples_split=10; total time=   0.4s\n",
      "[CV] END max_depth=8, min_samples_leaf=10, min_samples_split=10; total time=   0.4s\n",
      "[CV] END max_depth=8, min_samples_leaf=10, min_samples_split=10; total time=   0.4s\n",
      "[CV] END max_depth=8, min_samples_leaf=10, min_samples_split=10; total time=   0.4s\n",
      "[CV] END max_depth=8, min_samples_leaf=10, min_samples_split=10; total time=   0.4s\n",
      "[CV] END max_depth=8, min_samples_leaf=10, min_samples_split=10; total time=   0.4s\n",
      "[CV] END max_depth=8, min_samples_leaf=10, min_samples_split=10; total time=   0.4s\n",
      "[CV] END max_depth=8, min_samples_leaf=10, min_samples_split=10; total time=   0.5s\n",
      "[CV] END max_depth=8, min_samples_leaf=10, min_samples_split=10; total time=   0.5s\n",
      "[CV] END max_depth=8, min_samples_leaf=10, min_samples_split=20; total time=   0.5s\n",
      "[CV] END max_depth=8, min_samples_leaf=10, min_samples_split=20; total time=   0.5s\n",
      "[CV] END max_depth=8, min_samples_leaf=10, min_samples_split=20; total time=   0.4s\n",
      "[CV] END max_depth=8, min_samples_leaf=10, min_samples_split=20; total time=   0.5s\n",
      "[CV] END max_depth=8, min_samples_leaf=10, min_samples_split=20; total time=   0.5s\n",
      "[CV] END max_depth=8, min_samples_leaf=10, min_samples_split=20; total time=   0.5s\n",
      "[CV] END max_depth=8, min_samples_leaf=10, min_samples_split=20; total time=   0.5s\n",
      "[CV] END max_depth=8, min_samples_leaf=10, min_samples_split=20; total time=   0.5s\n",
      "[CV] END max_depth=8, min_samples_leaf=10, min_samples_split=20; total time=   0.6s\n",
      "[CV] END max_depth=8, min_samples_leaf=10, min_samples_split=20; total time=   0.6s\n",
      "[CV] END max_depth=8, min_samples_leaf=10, min_samples_split=50; total time=   0.5s\n",
      "[CV] END max_depth=8, min_samples_leaf=10, min_samples_split=50; total time=   0.4s\n",
      "[CV] END max_depth=8, min_samples_leaf=10, min_samples_split=50; total time=   0.4s\n",
      "[CV] END max_depth=8, min_samples_leaf=10, min_samples_split=50; total time=   0.4s\n",
      "[CV] END max_depth=8, min_samples_leaf=10, min_samples_split=50; total time=   0.4s\n",
      "[CV] END max_depth=8, min_samples_leaf=10, min_samples_split=50; total time=   0.4s\n",
      "[CV] END max_depth=8, min_samples_leaf=10, min_samples_split=50; total time=   0.4s\n",
      "[CV] END max_depth=8, min_samples_leaf=10, min_samples_split=50; total time=   0.4s\n",
      "[CV] END max_depth=8, min_samples_leaf=10, min_samples_split=50; total time=   0.4s\n",
      "[CV] END max_depth=8, min_samples_leaf=10, min_samples_split=50; total time=   0.4s\n",
      "[CV] END max_depth=8, min_samples_leaf=10, min_samples_split=51; total time=   0.4s\n",
      "[CV] END max_depth=8, min_samples_leaf=10, min_samples_split=51; total time=   0.4s\n",
      "[CV] END max_depth=8, min_samples_leaf=10, min_samples_split=51; total time=   0.4s\n",
      "[CV] END max_depth=8, min_samples_leaf=10, min_samples_split=51; total time=   0.4s\n",
      "[CV] END max_depth=8, min_samples_leaf=10, min_samples_split=51; total time=   0.4s\n",
      "[CV] END max_depth=8, min_samples_leaf=10, min_samples_split=51; total time=   0.5s\n",
      "[CV] END max_depth=8, min_samples_leaf=10, min_samples_split=51; total time=   0.5s\n",
      "[CV] END max_depth=8, min_samples_leaf=10, min_samples_split=51; total time=   0.4s\n",
      "[CV] END max_depth=8, min_samples_leaf=10, min_samples_split=51; total time=   0.4s\n",
      "[CV] END max_depth=8, min_samples_leaf=10, min_samples_split=51; total time=   0.4s\n",
      "[CV] END max_depth=8, min_samples_leaf=15, min_samples_split=10; total time=   0.4s\n",
      "[CV] END max_depth=8, min_samples_leaf=15, min_samples_split=10; total time=   0.4s\n",
      "[CV] END max_depth=8, min_samples_leaf=15, min_samples_split=10; total time=   0.4s\n",
      "[CV] END max_depth=8, min_samples_leaf=15, min_samples_split=10; total time=   0.4s\n",
      "[CV] END max_depth=8, min_samples_leaf=15, min_samples_split=10; total time=   0.4s\n",
      "[CV] END max_depth=8, min_samples_leaf=15, min_samples_split=10; total time=   0.4s\n",
      "[CV] END max_depth=8, min_samples_leaf=15, min_samples_split=10; total time=   0.4s\n",
      "[CV] END max_depth=8, min_samples_leaf=15, min_samples_split=10; total time=   0.4s\n",
      "[CV] END max_depth=8, min_samples_leaf=15, min_samples_split=10; total time=   0.4s\n",
      "[CV] END max_depth=8, min_samples_leaf=15, min_samples_split=10; total time=   0.4s\n",
      "[CV] END max_depth=8, min_samples_leaf=15, min_samples_split=20; total time=   0.4s\n",
      "[CV] END max_depth=8, min_samples_leaf=15, min_samples_split=20; total time=   0.4s\n",
      "[CV] END max_depth=8, min_samples_leaf=15, min_samples_split=20; total time=   0.4s\n",
      "[CV] END max_depth=8, min_samples_leaf=15, min_samples_split=20; total time=   0.4s\n",
      "[CV] END max_depth=8, min_samples_leaf=15, min_samples_split=20; total time=   0.4s\n",
      "[CV] END max_depth=8, min_samples_leaf=15, min_samples_split=20; total time=   0.4s\n",
      "[CV] END max_depth=8, min_samples_leaf=15, min_samples_split=20; total time=   0.4s\n",
      "[CV] END max_depth=8, min_samples_leaf=15, min_samples_split=20; total time=   0.4s\n",
      "[CV] END max_depth=8, min_samples_leaf=15, min_samples_split=20; total time=   0.4s\n",
      "[CV] END max_depth=8, min_samples_leaf=15, min_samples_split=20; total time=   0.4s\n",
      "[CV] END max_depth=8, min_samples_leaf=15, min_samples_split=50; total time=   0.4s\n",
      "[CV] END max_depth=8, min_samples_leaf=15, min_samples_split=50; total time=   0.4s\n",
      "[CV] END max_depth=8, min_samples_leaf=15, min_samples_split=50; total time=   0.4s\n",
      "[CV] END max_depth=8, min_samples_leaf=15, min_samples_split=50; total time=   0.4s\n",
      "[CV] END max_depth=8, min_samples_leaf=15, min_samples_split=50; total time=   0.4s\n",
      "[CV] END max_depth=8, min_samples_leaf=15, min_samples_split=50; total time=   0.4s\n",
      "[CV] END max_depth=8, min_samples_leaf=15, min_samples_split=50; total time=   0.4s\n",
      "[CV] END max_depth=8, min_samples_leaf=15, min_samples_split=50; total time=   0.4s\n",
      "[CV] END max_depth=8, min_samples_leaf=15, min_samples_split=50; total time=   0.4s\n",
      "[CV] END max_depth=8, min_samples_leaf=15, min_samples_split=50; total time=   0.4s\n",
      "[CV] END max_depth=8, min_samples_leaf=15, min_samples_split=51; total time=   0.4s\n",
      "[CV] END max_depth=8, min_samples_leaf=15, min_samples_split=51; total time=   0.4s\n",
      "[CV] END max_depth=8, min_samples_leaf=15, min_samples_split=51; total time=   0.4s\n",
      "[CV] END max_depth=8, min_samples_leaf=15, min_samples_split=51; total time=   0.4s\n",
      "[CV] END max_depth=8, min_samples_leaf=15, min_samples_split=51; total time=   0.4s\n",
      "[CV] END max_depth=8, min_samples_leaf=15, min_samples_split=51; total time=   0.4s\n",
      "[CV] END max_depth=8, min_samples_leaf=15, min_samples_split=51; total time=   0.4s\n",
      "[CV] END max_depth=8, min_samples_leaf=15, min_samples_split=51; total time=   0.4s\n",
      "[CV] END max_depth=8, min_samples_leaf=15, min_samples_split=51; total time=   0.4s\n",
      "[CV] END max_depth=8, min_samples_leaf=15, min_samples_split=51; total time=   0.4s\n",
      "[CV] END max_depth=10, min_samples_leaf=2, min_samples_split=10; total time=   0.4s\n",
      "[CV] END max_depth=10, min_samples_leaf=2, min_samples_split=10; total time=   0.4s\n",
      "[CV] END max_depth=10, min_samples_leaf=2, min_samples_split=10; total time=   0.4s\n",
      "[CV] END max_depth=10, min_samples_leaf=2, min_samples_split=10; total time=   0.4s\n",
      "[CV] END max_depth=10, min_samples_leaf=2, min_samples_split=10; total time=   0.4s\n",
      "[CV] END max_depth=10, min_samples_leaf=2, min_samples_split=10; total time=   0.4s\n",
      "[CV] END max_depth=10, min_samples_leaf=2, min_samples_split=10; total time=   0.4s\n",
      "[CV] END max_depth=10, min_samples_leaf=2, min_samples_split=10; total time=   0.4s\n",
      "[CV] END max_depth=10, min_samples_leaf=2, min_samples_split=10; total time=   0.4s\n",
      "[CV] END max_depth=10, min_samples_leaf=2, min_samples_split=10; total time=   0.4s\n",
      "[CV] END max_depth=10, min_samples_leaf=2, min_samples_split=20; total time=   0.4s\n",
      "[CV] END max_depth=10, min_samples_leaf=2, min_samples_split=20; total time=   0.4s\n",
      "[CV] END max_depth=10, min_samples_leaf=2, min_samples_split=20; total time=   0.4s\n",
      "[CV] END max_depth=10, min_samples_leaf=2, min_samples_split=20; total time=   0.5s\n",
      "[CV] END max_depth=10, min_samples_leaf=2, min_samples_split=20; total time=   0.5s\n",
      "[CV] END max_depth=10, min_samples_leaf=2, min_samples_split=20; total time=   0.5s\n",
      "[CV] END max_depth=10, min_samples_leaf=2, min_samples_split=20; total time=   0.4s\n",
      "[CV] END max_depth=10, min_samples_leaf=2, min_samples_split=20; total time=   0.4s\n",
      "[CV] END max_depth=10, min_samples_leaf=2, min_samples_split=20; total time=   0.4s\n",
      "[CV] END max_depth=10, min_samples_leaf=2, min_samples_split=20; total time=   0.4s\n",
      "[CV] END max_depth=10, min_samples_leaf=2, min_samples_split=50; total time=   0.4s\n",
      "[CV] END max_depth=10, min_samples_leaf=2, min_samples_split=50; total time=   0.4s\n",
      "[CV] END max_depth=10, min_samples_leaf=2, min_samples_split=50; total time=   0.5s\n",
      "[CV] END max_depth=10, min_samples_leaf=2, min_samples_split=50; total time=   0.5s\n",
      "[CV] END max_depth=10, min_samples_leaf=2, min_samples_split=50; total time=   0.4s\n",
      "[CV] END max_depth=10, min_samples_leaf=2, min_samples_split=50; total time=   0.4s\n",
      "[CV] END max_depth=10, min_samples_leaf=2, min_samples_split=50; total time=   0.4s\n",
      "[CV] END max_depth=10, min_samples_leaf=2, min_samples_split=50; total time=   0.4s\n",
      "[CV] END max_depth=10, min_samples_leaf=2, min_samples_split=50; total time=   0.4s\n",
      "[CV] END max_depth=10, min_samples_leaf=2, min_samples_split=50; total time=   0.4s\n",
      "[CV] END max_depth=10, min_samples_leaf=2, min_samples_split=51; total time=   0.4s\n",
      "[CV] END max_depth=10, min_samples_leaf=2, min_samples_split=51; total time=   0.4s\n",
      "[CV] END max_depth=10, min_samples_leaf=2, min_samples_split=51; total time=   0.4s\n",
      "[CV] END max_depth=10, min_samples_leaf=2, min_samples_split=51; total time=   0.4s\n",
      "[CV] END max_depth=10, min_samples_leaf=2, min_samples_split=51; total time=   0.4s\n",
      "[CV] END max_depth=10, min_samples_leaf=2, min_samples_split=51; total time=   0.4s\n",
      "[CV] END max_depth=10, min_samples_leaf=2, min_samples_split=51; total time=   0.4s\n",
      "[CV] END max_depth=10, min_samples_leaf=2, min_samples_split=51; total time=   0.4s\n",
      "[CV] END max_depth=10, min_samples_leaf=2, min_samples_split=51; total time=   0.4s\n",
      "[CV] END max_depth=10, min_samples_leaf=2, min_samples_split=51; total time=   0.4s\n",
      "[CV] END max_depth=10, min_samples_leaf=5, min_samples_split=10; total time=   0.4s\n",
      "[CV] END max_depth=10, min_samples_leaf=5, min_samples_split=10; total time=   0.4s\n",
      "[CV] END max_depth=10, min_samples_leaf=5, min_samples_split=10; total time=   0.4s\n",
      "[CV] END max_depth=10, min_samples_leaf=5, min_samples_split=10; total time=   0.4s\n",
      "[CV] END max_depth=10, min_samples_leaf=5, min_samples_split=10; total time=   0.4s\n",
      "[CV] END max_depth=10, min_samples_leaf=5, min_samples_split=10; total time=   0.4s\n",
      "[CV] END max_depth=10, min_samples_leaf=5, min_samples_split=10; total time=   0.4s\n",
      "[CV] END max_depth=10, min_samples_leaf=5, min_samples_split=10; total time=   0.4s\n",
      "[CV] END max_depth=10, min_samples_leaf=5, min_samples_split=10; total time=   0.4s\n",
      "[CV] END max_depth=10, min_samples_leaf=5, min_samples_split=10; total time=   0.4s\n",
      "[CV] END max_depth=10, min_samples_leaf=5, min_samples_split=20; total time=   0.4s\n",
      "[CV] END max_depth=10, min_samples_leaf=5, min_samples_split=20; total time=   0.4s\n",
      "[CV] END max_depth=10, min_samples_leaf=5, min_samples_split=20; total time=   0.4s\n",
      "[CV] END max_depth=10, min_samples_leaf=5, min_samples_split=20; total time=   0.4s\n",
      "[CV] END max_depth=10, min_samples_leaf=5, min_samples_split=20; total time=   0.4s\n",
      "[CV] END max_depth=10, min_samples_leaf=5, min_samples_split=20; total time=   0.4s\n",
      "[CV] END max_depth=10, min_samples_leaf=5, min_samples_split=20; total time=   0.4s\n",
      "[CV] END max_depth=10, min_samples_leaf=5, min_samples_split=20; total time=   0.4s\n",
      "[CV] END max_depth=10, min_samples_leaf=5, min_samples_split=20; total time=   0.4s\n",
      "[CV] END max_depth=10, min_samples_leaf=5, min_samples_split=20; total time=   0.4s\n",
      "[CV] END max_depth=10, min_samples_leaf=5, min_samples_split=50; total time=   0.4s\n",
      "[CV] END max_depth=10, min_samples_leaf=5, min_samples_split=50; total time=   0.4s\n",
      "[CV] END max_depth=10, min_samples_leaf=5, min_samples_split=50; total time=   0.5s\n",
      "[CV] END max_depth=10, min_samples_leaf=5, min_samples_split=50; total time=   0.5s\n",
      "[CV] END max_depth=10, min_samples_leaf=5, min_samples_split=50; total time=   0.5s\n",
      "[CV] END max_depth=10, min_samples_leaf=5, min_samples_split=50; total time=   0.4s\n",
      "[CV] END max_depth=10, min_samples_leaf=5, min_samples_split=50; total time=   0.4s\n",
      "[CV] END max_depth=10, min_samples_leaf=5, min_samples_split=50; total time=   0.4s\n",
      "[CV] END max_depth=10, min_samples_leaf=5, min_samples_split=50; total time=   0.4s\n",
      "[CV] END max_depth=10, min_samples_leaf=5, min_samples_split=50; total time=   0.4s\n",
      "[CV] END max_depth=10, min_samples_leaf=5, min_samples_split=51; total time=   0.4s\n",
      "[CV] END max_depth=10, min_samples_leaf=5, min_samples_split=51; total time=   0.4s\n",
      "[CV] END max_depth=10, min_samples_leaf=5, min_samples_split=51; total time=   0.4s\n",
      "[CV] END max_depth=10, min_samples_leaf=5, min_samples_split=51; total time=   0.4s\n",
      "[CV] END max_depth=10, min_samples_leaf=5, min_samples_split=51; total time=   0.5s\n",
      "[CV] END max_depth=10, min_samples_leaf=5, min_samples_split=51; total time=   0.4s\n",
      "[CV] END max_depth=10, min_samples_leaf=5, min_samples_split=51; total time=   0.4s\n",
      "[CV] END max_depth=10, min_samples_leaf=5, min_samples_split=51; total time=   0.4s\n",
      "[CV] END max_depth=10, min_samples_leaf=5, min_samples_split=51; total time=   0.4s\n",
      "[CV] END max_depth=10, min_samples_leaf=5, min_samples_split=51; total time=   0.4s\n",
      "[CV] END max_depth=10, min_samples_leaf=10, min_samples_split=10; total time=   0.4s\n",
      "[CV] END max_depth=10, min_samples_leaf=10, min_samples_split=10; total time=   0.4s\n",
      "[CV] END max_depth=10, min_samples_leaf=10, min_samples_split=10; total time=   0.4s\n",
      "[CV] END max_depth=10, min_samples_leaf=10, min_samples_split=10; total time=   0.4s\n",
      "[CV] END max_depth=10, min_samples_leaf=10, min_samples_split=10; total time=   0.4s\n",
      "[CV] END max_depth=10, min_samples_leaf=10, min_samples_split=10; total time=   0.4s\n",
      "[CV] END max_depth=10, min_samples_leaf=10, min_samples_split=10; total time=   0.5s\n",
      "[CV] END max_depth=10, min_samples_leaf=10, min_samples_split=10; total time=   0.5s\n",
      "[CV] END max_depth=10, min_samples_leaf=10, min_samples_split=10; total time=   0.5s\n",
      "[CV] END max_depth=10, min_samples_leaf=10, min_samples_split=10; total time=   0.6s\n",
      "[CV] END max_depth=10, min_samples_leaf=10, min_samples_split=20; total time=   0.5s\n",
      "[CV] END max_depth=10, min_samples_leaf=10, min_samples_split=20; total time=   0.5s\n",
      "[CV] END max_depth=10, min_samples_leaf=10, min_samples_split=20; total time=   0.6s\n",
      "[CV] END max_depth=10, min_samples_leaf=10, min_samples_split=20; total time=   0.6s\n",
      "[CV] END max_depth=10, min_samples_leaf=10, min_samples_split=20; total time=   0.6s\n",
      "[CV] END max_depth=10, min_samples_leaf=10, min_samples_split=20; total time=   0.5s\n",
      "[CV] END max_depth=10, min_samples_leaf=10, min_samples_split=20; total time=   0.5s\n",
      "[CV] END max_depth=10, min_samples_leaf=10, min_samples_split=20; total time=   0.5s\n",
      "[CV] END max_depth=10, min_samples_leaf=10, min_samples_split=20; total time=   0.5s\n",
      "[CV] END max_depth=10, min_samples_leaf=10, min_samples_split=20; total time=   0.5s\n",
      "[CV] END max_depth=10, min_samples_leaf=10, min_samples_split=50; total time=   0.6s\n",
      "[CV] END max_depth=10, min_samples_leaf=10, min_samples_split=50; total time=   0.5s\n",
      "[CV] END max_depth=10, min_samples_leaf=10, min_samples_split=50; total time=   0.5s\n",
      "[CV] END max_depth=10, min_samples_leaf=10, min_samples_split=50; total time=   0.5s\n",
      "[CV] END max_depth=10, min_samples_leaf=10, min_samples_split=50; total time=   0.6s\n",
      "[CV] END max_depth=10, min_samples_leaf=10, min_samples_split=50; total time=   0.5s\n",
      "[CV] END max_depth=10, min_samples_leaf=10, min_samples_split=50; total time=   0.5s\n",
      "[CV] END max_depth=10, min_samples_leaf=10, min_samples_split=50; total time=   0.5s\n",
      "[CV] END max_depth=10, min_samples_leaf=10, min_samples_split=50; total time=   0.5s\n",
      "[CV] END max_depth=10, min_samples_leaf=10, min_samples_split=50; total time=   0.5s\n",
      "[CV] END max_depth=10, min_samples_leaf=10, min_samples_split=51; total time=   0.4s\n",
      "[CV] END max_depth=10, min_samples_leaf=10, min_samples_split=51; total time=   0.4s\n",
      "[CV] END max_depth=10, min_samples_leaf=10, min_samples_split=51; total time=   0.4s\n",
      "[CV] END max_depth=10, min_samples_leaf=10, min_samples_split=51; total time=   0.4s\n",
      "[CV] END max_depth=10, min_samples_leaf=10, min_samples_split=51; total time=   0.4s\n",
      "[CV] END max_depth=10, min_samples_leaf=10, min_samples_split=51; total time=   0.4s\n",
      "[CV] END max_depth=10, min_samples_leaf=10, min_samples_split=51; total time=   0.4s\n",
      "[CV] END max_depth=10, min_samples_leaf=10, min_samples_split=51; total time=   0.4s\n",
      "[CV] END max_depth=10, min_samples_leaf=10, min_samples_split=51; total time=   0.4s\n",
      "[CV] END max_depth=10, min_samples_leaf=10, min_samples_split=51; total time=   0.4s\n",
      "[CV] END max_depth=10, min_samples_leaf=15, min_samples_split=10; total time=   0.4s\n",
      "[CV] END max_depth=10, min_samples_leaf=15, min_samples_split=10; total time=   0.5s\n",
      "[CV] END max_depth=10, min_samples_leaf=15, min_samples_split=10; total time=   0.4s\n",
      "[CV] END max_depth=10, min_samples_leaf=15, min_samples_split=10; total time=   0.4s\n",
      "[CV] END max_depth=10, min_samples_leaf=15, min_samples_split=10; total time=   0.4s\n",
      "[CV] END max_depth=10, min_samples_leaf=15, min_samples_split=10; total time=   0.5s\n",
      "[CV] END max_depth=10, min_samples_leaf=15, min_samples_split=10; total time=   0.5s\n",
      "[CV] END max_depth=10, min_samples_leaf=15, min_samples_split=10; total time=   0.5s\n",
      "[CV] END max_depth=10, min_samples_leaf=15, min_samples_split=10; total time=   0.4s\n",
      "[CV] END max_depth=10, min_samples_leaf=15, min_samples_split=10; total time=   0.4s\n",
      "[CV] END max_depth=10, min_samples_leaf=15, min_samples_split=20; total time=   0.4s\n",
      "[CV] END max_depth=10, min_samples_leaf=15, min_samples_split=20; total time=   0.4s\n",
      "[CV] END max_depth=10, min_samples_leaf=15, min_samples_split=20; total time=   0.4s\n",
      "[CV] END max_depth=10, min_samples_leaf=15, min_samples_split=20; total time=   0.4s\n",
      "[CV] END max_depth=10, min_samples_leaf=15, min_samples_split=20; total time=   0.4s\n",
      "[CV] END max_depth=10, min_samples_leaf=15, min_samples_split=20; total time=   0.4s\n",
      "[CV] END max_depth=10, min_samples_leaf=15, min_samples_split=20; total time=   0.4s\n",
      "[CV] END max_depth=10, min_samples_leaf=15, min_samples_split=20; total time=   0.4s\n",
      "[CV] END max_depth=10, min_samples_leaf=15, min_samples_split=20; total time=   0.4s\n",
      "[CV] END max_depth=10, min_samples_leaf=15, min_samples_split=20; total time=   0.4s\n",
      "[CV] END max_depth=10, min_samples_leaf=15, min_samples_split=50; total time=   0.4s\n",
      "[CV] END max_depth=10, min_samples_leaf=15, min_samples_split=50; total time=   0.4s\n",
      "[CV] END max_depth=10, min_samples_leaf=15, min_samples_split=50; total time=   0.4s\n",
      "[CV] END max_depth=10, min_samples_leaf=15, min_samples_split=50; total time=   0.4s\n",
      "[CV] END max_depth=10, min_samples_leaf=15, min_samples_split=50; total time=   0.4s\n",
      "[CV] END max_depth=10, min_samples_leaf=15, min_samples_split=50; total time=   0.4s\n",
      "[CV] END max_depth=10, min_samples_leaf=15, min_samples_split=50; total time=   0.4s\n",
      "[CV] END max_depth=10, min_samples_leaf=15, min_samples_split=50; total time=   0.4s\n",
      "[CV] END max_depth=10, min_samples_leaf=15, min_samples_split=50; total time=   0.4s\n",
      "[CV] END max_depth=10, min_samples_leaf=15, min_samples_split=50; total time=   0.4s\n",
      "[CV] END max_depth=10, min_samples_leaf=15, min_samples_split=51; total time=   0.4s\n",
      "[CV] END max_depth=10, min_samples_leaf=15, min_samples_split=51; total time=   0.4s\n",
      "[CV] END max_depth=10, min_samples_leaf=15, min_samples_split=51; total time=   0.4s\n",
      "[CV] END max_depth=10, min_samples_leaf=15, min_samples_split=51; total time=   0.4s\n",
      "[CV] END max_depth=10, min_samples_leaf=15, min_samples_split=51; total time=   0.5s\n",
      "[CV] END max_depth=10, min_samples_leaf=15, min_samples_split=51; total time=   0.5s\n",
      "[CV] END max_depth=10, min_samples_leaf=15, min_samples_split=51; total time=   0.4s\n",
      "[CV] END max_depth=10, min_samples_leaf=15, min_samples_split=51; total time=   0.5s\n",
      "[CV] END max_depth=10, min_samples_leaf=15, min_samples_split=51; total time=   0.5s\n",
      "[CV] END max_depth=10, min_samples_leaf=15, min_samples_split=51; total time=   0.5s\n"
     ]
    },
    {
     "data": {
      "text/plain": [
       "GridSearchCV(cv=10, estimator=RandomForestRegressor(n_jobs=-1, random_state=42),\n",
       "             n_jobs=1,\n",
       "             param_grid={'max_depth': [4, 5, 6, 8, 10],\n",
       "                         'min_samples_leaf': [2, 5, 10, 15],\n",
       "                         'min_samples_split': [10, 20, 50, 51]},\n",
       "             verbose=2)"
      ]
     },
     "execution_count": 112,
     "metadata": {},
     "output_type": "execute_result"
    }
   ],
   "source": [
    "'''\n",
    "rfr = RandomForestRegressor(random_state=42, n_jobs=-1)\n",
    "params = {\n",
    "    'max_depth': [2,3,5,10,20],\n",
    "    'min_samples_leaf': [5,10,20,50,100,200],\n",
    "    'n_estimators': [10,25,30,50,100,200]\n",
    "}\n",
    "from sklearn.model_selection import GridSearchCV\n",
    "# Instantiate the grid search model\n",
    "grid_search = GridSearchCV(estimator=rfr,\n",
    "                           param_grid=params,\n",
    "                           cv = 4,\n",
    "                           n_jobs=-1, verbose=1, scoring=\"accuracy\")\n",
    "'''\n",
    "# now we will ignore the warning\n",
    "import warnings\n",
    "warnings.filterwarnings('ignore')\n",
    "parameters={\"max_depth\":[4,5,6,8,10],\n",
    "           \"min_samples_split\":[10,20,50,51],\n",
    "           \"min_samples_leaf\":[2,5,10,15]}\n",
    "\n",
    "rfr = RandomForestRegressor(random_state=42, n_jobs=-1)\n",
    "\n",
    "\n",
    "gsearch=GridSearchCV(estimator=rfr, param_grid=parameters, cv=10, n_jobs=1, verbose=2)\n",
    "\n",
    "gsearch.fit(x_train, y_train) \n"
   ]
  },
  {
   "cell_type": "code",
   "execution_count": 118,
   "id": "d66c6856-929f-4460-8817-098457b044a9",
   "metadata": {},
   "outputs": [
    {
     "data": {
      "text/plain": [
       "0.6761109653749655"
      ]
     },
     "execution_count": 118,
     "metadata": {},
     "output_type": "execute_result"
    }
   ],
   "source": [
    "gsearch.best_score_"
   ]
  },
  {
   "cell_type": "code",
   "execution_count": 119,
   "id": "f6a33416-4a17-4f2e-9a95-b6e1f949c2b6",
   "metadata": {},
   "outputs": [
    {
     "data": {
      "text/plain": [
       "RandomForestRegressor(max_depth=10, min_samples_leaf=5, min_samples_split=20,\n",
       "                      n_jobs=-1, random_state=42)"
      ]
     },
     "execution_count": 119,
     "metadata": {},
     "output_type": "execute_result"
    }
   ],
   "source": [
    "gsearch.best_estimator_"
   ]
  },
  {
   "cell_type": "code",
   "execution_count": 120,
   "id": "55b2f3ff-b59a-4fab-8f27-904958f08d87",
   "metadata": {},
   "outputs": [
    {
     "data": {
      "text/plain": [
       "RandomForestRegressor(max_depth=10, min_samples_leaf=5, min_samples_split=20,\n",
       "                      n_jobs=-1, random_state=0)"
      ]
     },
     "execution_count": 126,
     "metadata": {},
     "output_type": "execute_result"
    }
   ],
   "source": [
    "rfr_best=RandomForestRegressor(max_depth=10, min_samples_leaf=5, min_samples_split=20,n_jobs=-1, random_state=42)\n",
    "rfr_best.fit(x_train,y_train)"
   ]
  },
  {
   "cell_type": "code",
   "execution_count": 124,
   "id": "67623348-f70e-4144-a6ce-3214bcf4fd1e",
   "metadata": {},
   "outputs": [
    {
     "data": {
      "text/plain": [
       "0.7009918073456035"
      ]
     },
     "execution_count": 127,
     "metadata": {},
     "output_type": "execute_result"
    }
   ],
   "source": [
    "rfr_best.score(x_train,y_train)"
   ]
  },
  {
   "cell_type": "code",
   "execution_count": 125,
   "id": "3017f687-f5d5-4f73-a593-46cf346a32e9",
   "metadata": {},
   "outputs": [
    {
     "data": {
      "text/plain": [
       "0.6777094755047357"
      ]
     },
     "execution_count": 125,
     "metadata": {},
     "output_type": "execute_result"
    }
   ],
   "source": [
    "rfr_best.score(x_test,y_test)"
   ]
  },
  {
   "cell_type": "code",
   "execution_count": 128,
   "id": "735f70f1-cd21-4eee-9b62-6a2718a012ef",
   "metadata": {},
   "outputs": [
    {
     "data": {
      "text/plain": [
       "RandomForestRegressor(max_depth=7, min_samples_leaf=5, min_samples_split=20,\n",
       "                      n_jobs=-1, random_state=42)"
      ]
     },
     "execution_count": 128,
     "metadata": {},
     "output_type": "execute_result"
    }
   ],
   "source": [
    "rfr_best=RandomForestRegressor(max_depth=7, min_samples_leaf=5, min_samples_split=20,n_jobs=-1, random_state=42)\n",
    "rfr_best.fit(x_train,y_train)"
   ]
  },
  {
   "cell_type": "code",
   "execution_count": 129,
   "id": "f0dd74da-68cc-4b2e-a70a-e10ab9a368c2",
   "metadata": {},
   "outputs": [
    {
     "data": {
      "text/plain": [
       "0.6753546433732662"
      ]
     },
     "execution_count": 129,
     "metadata": {},
     "output_type": "execute_result"
    }
   ],
   "source": [
    "rfr_best.score(x_train,y_train)"
   ]
  },
  {
   "cell_type": "markdown",
   "id": "d1c2053f-d1fd-49b1-ac7f-953af0ac7625",
   "metadata": {},
   "source": [
    "##############################5.Adabost regressor"
   ]
  },
  {
   "cell_type": "code",
   "execution_count": 130,
   "id": "8bd3e825-917d-4e6c-acae-4b5538f40dd4",
   "metadata": {},
   "outputs": [],
   "source": [
    "from sklearn.ensemble import AdaBoostRegressor\n",
    "from sklearn.metrics import r2_score\n",
    "import warnings\n",
    "warnings.simplefilter(action='ignore', category=FutureWarning)\n"
   ]
  },
  {
   "cell_type": "code",
   "execution_count": 144,
   "id": "2c1580cd-ab10-4cba-8f2c-75e664881e01",
   "metadata": {},
   "outputs": [
    {
     "name": "stdout",
     "output_type": "stream",
     "text": [
      "RSS 1084604121299756.2\n",
      "RMSE 394418.1901673714\n",
      "The model's performance is 0.50\n",
      "\n"
     ]
    },
    {
     "data": {
      "image/png": "[encoded data removed]",
      "text/plain": [
       "<Figure size 640x480 with 1 Axes>"
      ]
     },
     "metadata": {},
     "output_type": "display_data"
    },
    {
     "data": {
      "text/plain": [
       "<Figure size 1500x1000 with 0 Axes>"
      ]
     },
     "metadata": {},
     "output_type": "display_data"
    }
   ],
   "source": [
    "adaboost_regressor = AdaBoostRegressor(n_estimators=1500, learning_rate = 0.001, loss='exponential')\n",
    "ada_model = adaboost_regressor.fit(x_train, y_train)\n",
    "prediction_test_ada = ada_model.predict(x_test)\n",
    "# Apply the model we created using the training data to the test data, and calculate the RSS.\n",
    "print('RSS',((y_test - prediction_test_ada) **2).sum())\n",
    "# Calculate the RMSE (Root Mean Squared Error)\n",
    "print('RMSE', np.sqrt(metrics.mean_squared_error(y_test,prediction_test_ada)))\n",
    "#Coefficient of determination R^2 of the prediction\n",
    "print('The model\\'s performance is %.2f\\n' % ada_model.score(x_test, y_test))\n",
    "# Plot \n",
    "plt.scatter(prediction_test_ada, y_test, color='black', alpha=0.25,label='Real Price')\n",
    "#plt.plot(x_test_sort, ada_model.predict(x_test_sort.reshape(-1,1)),'g--',linewidth=3, label='AdaBoost regressor')\n",
    "plt.xlabel('Price')\n",
    "plt.ylabel('square_feet_living')\n",
    "plt.legend()\n",
    "plt.yscale('log')\n",
    "plt.figure(figsize=(15,10))\n",
    "\n",
    "plt.show()"
   ]
  },
  {
   "cell_type": "code",
   "execution_count": 134,
   "id": "29750e26-5dd6-47ea-a9c8-596f6af0d317",
   "metadata": {},
   "outputs": [
    {
     "data": {
      "text/plain": [
       "AdaBoostRegressor()"
      ]
     },
     "execution_count": 134,
     "metadata": {},
     "output_type": "execute_result"
    }
   ],
   "source": [
    "adaboost_regressor = AdaBoostRegressor()\n",
    "\n",
    "adaboost_regressor.fit(x_train,y_train)"
   ]
  },
  {
   "cell_type": "code",
   "execution_count": 135,
   "id": "bd3da34f-ff01-4a3f-806b-0613d6cb6aa7",
   "metadata": {},
   "outputs": [
    {
     "data": {
      "text/plain": [
       "0.31779198663451536"
      ]
     },
     "execution_count": 135,
     "metadata": {},
     "output_type": "execute_result"
    }
   ],
   "source": [
    "adaboost_regressor.score(x_train,y_train)"
   ]
  },
  {
   "cell_type": "code",
   "execution_count": 136,
   "id": "933f7d39-ee51-4776-859c-ef0a8db8b1e8",
   "metadata": {},
   "outputs": [
    {
     "data": {
      "text/plain": [
       "0.3130579837608206"
      ]
     },
     "execution_count": 136,
     "metadata": {},
     "output_type": "execute_result"
    }
   ],
   "source": [
    "adaboost_regressor.score(x_test,y_test)"
   ]
  },
  {
   "cell_type": "code",
   "execution_count": 138,
   "id": "3ed9dfdb-28ff-4454-a659-d28bd539a137",
   "metadata": {},
   "outputs": [
    {
     "data": {
      "text/plain": [
       "AdaBoostRegressor(learning_rate=0.001, loss='exponential', n_estimators=1500)"
      ]
     },
     "execution_count": 138,
     "metadata": {},
     "output_type": "execute_result"
    }
   ],
   "source": [
    "adaboost_regressor2 = AdaBoostRegressor(n_estimators=1500, learning_rate = 0.001, loss='exponential')\n",
    "adaboost_regressor2.fit(x_train, y_train)\n",
    "\n"
   ]
  },
  {
   "cell_type": "code",
   "execution_count": 139,
   "id": "11a9d379-ab26-43b3-a602-a6c0b315e572",
   "metadata": {},
   "outputs": [
    {
     "data": {
      "text/plain": [
       "0.4961048079384499"
      ]
     },
     "execution_count": 139,
     "metadata": {},
     "output_type": "execute_result"
    }
   ],
   "source": [
    "adaboost_regressor2.score(x_train,y_train)"
   ]
  },
  {
   "cell_type": "code",
   "execution_count": 141,
   "id": "83ac08a8-904c-47b4-b72c-30ce4916d269",
   "metadata": {},
   "outputs": [
    {
     "data": {
      "text/plain": [
       "0.4972890362874699"
      ]
     },
     "execution_count": 141,
     "metadata": {},
     "output_type": "execute_result"
    }
   ],
   "source": [
    "adaboost_regressor2.score(x_test,y_test)"
   ]
  },
  {
   "cell_type": "markdown",
   "id": "3d674f9b-9cd1-46b4-9f6c-847e2ceded86",
   "metadata": {},
   "source": [
    "#Train_Score: 0.5112879730394394 , test_Score: 0.5013137971436675-------Linear Regression\n",
    "#Train Score 0.6804052201561209 ,Test Score 0.6482588587762217-------KNN Regressor\n",
    "#Score on train:  0.711514819487135, Score on test : 0.6675297376436924-----DecisionTressRegression\n",
    "#Score on train:  0.7009918073456035, Score on test : 0.6777094755047357-----Random Forest Regressor\n",
    "#Score on train:  0.4961048079384499, Score on test : 0.4972890362874699-----Adabost Regressor"
   ]
  },
  {
   "cell_type": "markdown",
   "id": "a97341cc-7ec8-47ad-a760-be310f0e9fa2",
   "metadata": {},
   "source": [
    "###Best model to implement the given data set is DecisomTressRegression/Random Forest Regressor"
   ]
  },
  {
   "cell_type": "code",
   "execution_count": null,
   "id": "ff75c792-42f3-4f27-92b3-2e360c2f2c25",
   "metadata": {},
   "outputs": [],
   "source": []
  }
 ],
 "metadata": {
  "kernelspec": {
   "display_name": "Python 3 (ipykernel)",
   "language": "python",
   "name": "python3"
  },
  "language_info": {
   "codemirror_mode": {
    "name": "ipython",
    "version": 3
   },
   "file_extension": ".py",
   "mimetype": "text/x-python",
   "name": "python",
   "nbconvert_exporter": "python",
   "pygments_lexer": "ipython3",
   "version": "3.9.13"
  }
 },
 "nbformat": 4,
 "nbformat_minor": 5
}
